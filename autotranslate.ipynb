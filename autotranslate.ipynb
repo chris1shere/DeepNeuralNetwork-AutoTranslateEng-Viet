{
 "cells": [
  {
   "cell_type": "code",
   "execution_count": 2,
   "metadata": {},
   "outputs": [
    {
     "data": {
      "text/plain": [
       "<torch._C.Generator at 0x210437cb2b0>"
      ]
     },
     "execution_count": 2,
     "metadata": {},
     "output_type": "execute_result"
    }
   ],
   "source": [
    "import random\n",
    "import torch\n",
    "SEED = 2222\n",
    "random.seed(SEED)\n",
    "torch.manual_seed(SEED)"
   ]
  },
  {
   "cell_type": "code",
   "execution_count": 3,
   "metadata": {},
   "outputs": [],
   "source": [
    "from vncorenlp import VnCoreNLP\n",
    "annotator = VnCoreNLP(\"VnCoreNLP-master\\VnCoreNLP-1.1.1.jar\", annotators=\"wseg\", max_heap_size='-Xmx500m') "
   ]
  },
  {
   "cell_type": "code",
   "execution_count": 4,
   "metadata": {},
   "outputs": [
    {
     "name": "stdout",
     "output_type": "stream",
     "text": [
      "['Please', 'put', 'the', 'dustpan', 'in', 'the', 'broom', 'closet']\n",
      "['Cuốn', 'sách', 'này', 'là', 'của', 'tôi', '.', 'Của', 'bạn', 'đâu', '?']\n"
     ]
    }
   ],
   "source": [
    "import nltk\n",
    "import string\n",
    "import itertools\n",
    "\n",
    "def tokenize_en(text):\n",
    "    tokens = nltk.word_tokenize(text)\n",
    "    tokens = [token for token in tokens if token not in string.punctuation]\n",
    "    return tokens\n",
    "\n",
    "def tokenize_vi(text):\n",
    "    return [tok for tok in itertools.chain.from_iterable(annotator.tokenize(text))]\n",
    "\n",
    "text_en = 'Please put the dustpan in the broom closet'\n",
    "text_vi = 'Cuốn sách này là của tôi. Của bạn đâu?'\n",
    "print(tokenize_en(text_en))\n",
    "print(tokenize_vi(text_vi))\n"
   ]
  },
  {
   "cell_type": "code",
   "execution_count": 12,
   "metadata": {},
   "outputs": [],
   "source": [
    "import pandas as pd\n",
    "\n",
    "def create_raw_dataset():\n",
    "    data_dir = \"\"\n",
    "    en_sents = open(data_dir + 'english.txt', \"r\",encoding=\"utf-8\" ).read().splitlines()\n",
    "    vi_sents = open(data_dir + 'vietnamese.txt', \"r\" ,encoding=\"utf-8\").read().splitlines()\n",
    "    return {\n",
    "        \"English\": [line for line in en_sents[:5000]],\n",
    "        \"Vietnamese\": [line for line in vi_sents[:5000]],\n",
    "    }\n",
    "raw_data = create_raw_dataset()\n",
    "\n",
    "from sklearn.model_selection import train_test_split\n",
    "\n",
    "df = pd.DataFrame(raw_data, columns=[\"English\", \"Vietnamese\"])\n",
    "train, test = train_test_split(df, test_size=0.2)\n",
    "train, val = train_test_split(train, test_size=0.125)\n",
    "\n",
    "train.to_json(\"train.json\", orient=\"records\", lines=False)#line=true will cause json error \n",
    "test.to_json(\"test.json\", orient=\"records\", lines=False)\n",
    "val.to_json(\"val.json\", orient=\"records\", lines=False)\n"
   ]
  },
  {
   "cell_type": "code",
   "execution_count": 39,
   "metadata": {},
   "outputs": [],
   "source": [
    "from torch.utils.data import Dataset, DataLoader\n",
    "import json\n",
    "import torch\n",
    "\n",
    "class TranslationDataset(Dataset):\n",
    "    def __init__(self, data_path, src_field_idx, trg_field_idx):\n",
    "        with open(data_path, \"r\") as f:\n",
    "            data = json.load(f)\n",
    "        self.src = [data[i][src_field_idx] for i in range(len(data))]\n",
    "        self.trg = [data[i][trg_field_idx] for i in range(len(data))]\n",
    "        self.length = len(self.src)\n",
    "        \n",
    "    def __len__(self):\n",
    "        return self.length\n",
    "    \n",
    "    def __getitem__(self, idx):\n",
    "        src_sent = self.src[idx]\n",
    "        trg_sent = self.trg[idx]\n",
    "        \n",
    "        # convert to tensor\n",
    "        src_tensor = torch.tensor(src_sent)\n",
    "        trg_tensor = torch.tensor(trg_sent)\n",
    "        \n",
    "        return src_tensor, trg_tensor\n",
    "\n",
    "train_data = TranslationDataset(\"train.json\", \"English\", \"Vietnamese\")\n",
    "val_data = TranslationDataset(\"val.json\", \"English\", \"Vietnamese\")\n",
    "test_data = TranslationDataset(\"test.json\", \"English\", \"Vietnamese\")\n",
    "\n",
    "batch_size = 128\n",
    "\n",
    "train_loader = DataLoader(train_data, batch_size=batch_size, shuffle=True)\n",
    "val_loader = DataLoader(val_data, batch_size=batch_size, shuffle=False )\n",
    "test_loader = DataLoader(test_data, batch_size=batch_size, shuffle=False)"
   ]
  },
  {
   "cell_type": "code",
   "execution_count": 53,
   "metadata": {},
   "outputs": [],
   "source": [
    "class Field:\n",
    "    def __init__(self, tokenize_fn, init_token=None, eos_token=None, lower=False):\n",
    "        self.tokenize_fn = tokenize_fn\n",
    "        self.init_token = init_token\n",
    "        self.eos_token = eos_token\n",
    "        self.lower = lower\n",
    "        self.vocab = None\n",
    "\n",
    "    def tokenize(self, text):\n",
    "        tokens = self.tokenize_fn(text)\n",
    "        if self.lower:\n",
    "            tokens = [token.lower() for token in tokens]\n",
    "        if self.init_token:\n",
    "            tokens.insert(0, self.init_token)\n",
    "        if self.eos_token:\n",
    "            tokens.append(self.eos_token)\n",
    "        return tokens\n",
    "\n",
    "    def build_vocab(self, data, max_size=None, min_freq=1):\n",
    "        word_freq = {}\n",
    "        for example in data:\n",
    "            for word in self.tokenize(example):\n",
    "                if word in word_freq:\n",
    "                    word_freq[word] += 1\n",
    "                else:\n",
    "                    word_freq[word] = 1\n",
    "        sorted_words = sorted(word_freq.items(), key=lambda x: x[1], reverse=True)\n",
    "        most_common_words = [word[0] for word in sorted_words if word[1] >= min_freq]\n",
    "        if max_size:\n",
    "            most_common_words = most_common_words[:max_size]\n",
    "        self.vocab = {word: i for i, word in enumerate(most_common_words)}\n",
    "\n",
    "    def numericalize(self, text):\n",
    "        return [self.vocab[token] if token in self.vocab else self.vocab['<unk>'] for token in text]\n",
    "\n",
    "source = Field(tokenize_fn=tokenize_en, init_token='<sos>', eos_token='<eos>', lower=True)\n",
    "target = Field(tokenize_fn=tokenize_vi, init_token='<sos>', eos_token='<eos>', lower=True)\n"
   ]
  },
  {
   "cell_type": "code",
   "execution_count": 54,
   "metadata": {},
   "outputs": [
    {
     "ename": "TypeError",
     "evalue": "new(): invalid data type 'str'",
     "output_type": "error",
     "traceback": [
      "\u001b[1;31m---------------------------------------------------------------------------\u001b[0m",
      "\u001b[1;31mTypeError\u001b[0m                                 Traceback (most recent call last)",
      "Cell \u001b[1;32mIn[54], line 1\u001b[0m\n\u001b[1;32m----> 1\u001b[0m source\u001b[39m.\u001b[39;49mbuild_vocab(train_data, max_size\u001b[39m=\u001b[39;49m\u001b[39m10000\u001b[39;49m, min_freq\u001b[39m=\u001b[39;49m\u001b[39m2\u001b[39;49m)\n\u001b[0;32m      2\u001b[0m target\u001b[39m.\u001b[39mbuild_vocab(train_data, max_size\u001b[39m=\u001b[39m\u001b[39m10000\u001b[39m, min_freq\u001b[39m=\u001b[39m\u001b[39m2\u001b[39m)\n",
      "Cell \u001b[1;32mIn[53], line 21\u001b[0m, in \u001b[0;36mField.build_vocab\u001b[1;34m(self, data, max_size, min_freq)\u001b[0m\n\u001b[0;32m     19\u001b[0m \u001b[39mdef\u001b[39;00m \u001b[39mbuild_vocab\u001b[39m(\u001b[39mself\u001b[39m, data, max_size\u001b[39m=\u001b[39m\u001b[39mNone\u001b[39;00m, min_freq\u001b[39m=\u001b[39m\u001b[39m1\u001b[39m):\n\u001b[0;32m     20\u001b[0m     word_freq \u001b[39m=\u001b[39m {}\n\u001b[1;32m---> 21\u001b[0m     \u001b[39mfor\u001b[39;00m example \u001b[39min\u001b[39;00m data:\n\u001b[0;32m     22\u001b[0m         \u001b[39mfor\u001b[39;00m word \u001b[39min\u001b[39;00m \u001b[39mself\u001b[39m\u001b[39m.\u001b[39mtokenize(example):\n\u001b[0;32m     23\u001b[0m             \u001b[39mif\u001b[39;00m word \u001b[39min\u001b[39;00m word_freq:\n",
      "Cell \u001b[1;32mIn[39], line 21\u001b[0m, in \u001b[0;36mTranslationDataset.__getitem__\u001b[1;34m(self, idx)\u001b[0m\n\u001b[0;32m     18\u001b[0m trg_sent \u001b[39m=\u001b[39m \u001b[39mself\u001b[39m\u001b[39m.\u001b[39mtrg[idx]\n\u001b[0;32m     20\u001b[0m \u001b[39m# convert to tensor\u001b[39;00m\n\u001b[1;32m---> 21\u001b[0m src_tensor \u001b[39m=\u001b[39m torch\u001b[39m.\u001b[39;49mtensor(src_sent)\n\u001b[0;32m     22\u001b[0m trg_tensor \u001b[39m=\u001b[39m torch\u001b[39m.\u001b[39mtensor(trg_sent)\n\u001b[0;32m     24\u001b[0m \u001b[39mreturn\u001b[39;00m src_tensor, trg_tensor\n",
      "\u001b[1;31mTypeError\u001b[0m: new(): invalid data type 'str'"
     ]
    }
   ],
   "source": [
    "source.build_vocab(train_data, max_size=10000, min_freq=2)\n",
    "target.build_vocab(train_data, max_size=10000, min_freq=2)"
   ]
  }
 ],
 "metadata": {
  "kernelspec": {
   "display_name": "Python 3",
   "language": "python",
   "name": "python3"
  },
  "language_info": {
   "codemirror_mode": {
    "name": "ipython",
    "version": 3
   },
   "file_extension": ".py",
   "mimetype": "text/x-python",
   "name": "python",
   "nbconvert_exporter": "python",
   "pygments_lexer": "ipython3",
   "version": "3.11.3"
  },
  "orig_nbformat": 4
 },
 "nbformat": 4,
 "nbformat_minor": 2
}
