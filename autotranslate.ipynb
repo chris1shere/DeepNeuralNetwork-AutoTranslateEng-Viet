{
 "cells": [
  {
   "cell_type": "code",
   "execution_count": 1,
   "metadata": {},
   "outputs": [
    {
     "data": {
      "text/plain": [
       "<torch._C.Generator at 0x24cdb71bb90>"
      ]
     },
     "execution_count": 1,
     "metadata": {},
     "output_type": "execute_result"
    }
   ],
   "source": [
    "import random\n",
    "import torch\n",
    "SEED = 2222\n",
    "random.seed(SEED)\n",
    "torch.manual_seed(SEED)"
   ]
  },
  {
   "cell_type": "code",
   "execution_count": 2,
   "metadata": {},
   "outputs": [
    {
     "name": "stderr",
     "output_type": "stream",
     "text": [
      "[nltk_data] Downloading package punkt to\n",
      "[nltk_data]     C:\\Users\\16262\\AppData\\Roaming\\nltk_data...\n",
      "[nltk_data]   Package punkt is already up-to-date!\n"
     ]
    }
   ],
   "source": [
    "import nltk\n",
    "from vncorenlp import VnCoreNLP\n",
    "nltk.download('punkt')\n",
    "annotator = VnCoreNLP(\"VnCoreNLP-master\\VnCoreNLP-1.1.1.jar\", annotators=\"wseg\", max_heap_size='-Xmx500m') "
   ]
  },
  {
   "cell_type": "code",
   "execution_count": 3,
   "metadata": {},
   "outputs": [],
   "source": [
    "from iteration_utilities import deepflatten\n",
    "def tokenize_en(text):\n",
    "    return [tok.text for tok in nltk.word_tokenize(text)]\n",
    "def tokenize_vi(text):\n",
    "    return [tok for tok in deepflatten(annotator.tokenize(text), depth=1)]"
   ]
  },
  {
   "cell_type": "code",
   "execution_count": 4,
   "metadata": {},
   "outputs": [
    {
     "ename": "TypeError",
     "evalue": "'bytes' object cannot be interpreted as an integer",
     "output_type": "error",
     "traceback": [
      "\u001b[1;31m---------------------------------------------------------------------------\u001b[0m",
      "\u001b[1;31mTypeError\u001b[0m                                 Traceback (most recent call last)",
      "Cell \u001b[1;32mIn[4], line 1\u001b[0m\n\u001b[1;32m----> 1\u001b[0m \u001b[39mimport\u001b[39;00m \u001b[39mpandas\u001b[39;00m \u001b[39mas\u001b[39;00m \u001b[39mpd\u001b[39;00m\n\u001b[0;32m      2\u001b[0m \u001b[39mfrom\u001b[39;00m \u001b[39mnlp\u001b[39;00m \u001b[39mimport\u001b[39;00m load_dataset\n\u001b[0;32m      5\u001b[0m \u001b[39m# Define the fields for your data\u001b[39;00m\n",
      "File \u001b[1;32m~\\AppData\\Local\\Packages\\PythonSoftwareFoundation.Python.3.10_qbz5n2kfra8p0\\LocalCache\\local-packages\\Python310\\site-packages\\pandas\\__init__.py:22\u001b[0m\n\u001b[0;32m     19\u001b[0m \u001b[39mdel\u001b[39;00m _hard_dependencies, _dependency, _missing_dependencies\n\u001b[0;32m     21\u001b[0m \u001b[39m# numpy compat\u001b[39;00m\n\u001b[1;32m---> 22\u001b[0m \u001b[39mfrom\u001b[39;00m \u001b[39mpandas\u001b[39;00m\u001b[39m.\u001b[39;00m\u001b[39mcompat\u001b[39;00m \u001b[39mimport\u001b[39;00m is_numpy_dev \u001b[39mas\u001b[39;00m _is_numpy_dev  \u001b[39m# pyright: ignore # noqa:F401\u001b[39;00m\n\u001b[0;32m     24\u001b[0m \u001b[39mtry\u001b[39;00m:\n\u001b[0;32m     25\u001b[0m     \u001b[39mfrom\u001b[39;00m \u001b[39mpandas\u001b[39;00m\u001b[39m.\u001b[39;00m\u001b[39m_libs\u001b[39;00m \u001b[39mimport\u001b[39;00m hashtable \u001b[39mas\u001b[39;00m _hashtable, lib \u001b[39mas\u001b[39;00m _lib, tslib \u001b[39mas\u001b[39;00m _tslib\n",
      "File \u001b[1;32m~\\AppData\\Local\\Packages\\PythonSoftwareFoundation.Python.3.10_qbz5n2kfra8p0\\LocalCache\\local-packages\\Python310\\site-packages\\pandas\\compat\\__init__.py:29\u001b[0m\n\u001b[0;32m     24\u001b[0m \u001b[39mimport\u001b[39;00m \u001b[39mpandas\u001b[39;00m\u001b[39m.\u001b[39;00m\u001b[39mcompat\u001b[39;00m\u001b[39m.\u001b[39;00m\u001b[39mcompressors\u001b[39;00m\n\u001b[0;32m     25\u001b[0m \u001b[39mfrom\u001b[39;00m \u001b[39mpandas\u001b[39;00m\u001b[39m.\u001b[39;00m\u001b[39mcompat\u001b[39;00m\u001b[39m.\u001b[39;00m\u001b[39mnumpy\u001b[39;00m \u001b[39mimport\u001b[39;00m (\n\u001b[0;32m     26\u001b[0m     is_numpy_dev,\n\u001b[0;32m     27\u001b[0m     np_version_under1p21,\n\u001b[0;32m     28\u001b[0m )\n\u001b[1;32m---> 29\u001b[0m \u001b[39mfrom\u001b[39;00m \u001b[39mpandas\u001b[39;00m\u001b[39m.\u001b[39;00m\u001b[39mcompat\u001b[39;00m\u001b[39m.\u001b[39;00m\u001b[39mpyarrow\u001b[39;00m \u001b[39mimport\u001b[39;00m (\n\u001b[0;32m     30\u001b[0m     pa_version_under7p0,\n\u001b[0;32m     31\u001b[0m     pa_version_under8p0,\n\u001b[0;32m     32\u001b[0m     pa_version_under9p0,\n\u001b[0;32m     33\u001b[0m     pa_version_under11p0,\n\u001b[0;32m     34\u001b[0m )\n\u001b[0;32m     37\u001b[0m \u001b[39mdef\u001b[39;00m \u001b[39mset_function_name\u001b[39m(f: F, name: \u001b[39mstr\u001b[39m, \u001b[39mcls\u001b[39m) \u001b[39m-\u001b[39m\u001b[39m>\u001b[39m F:\n\u001b[0;32m     38\u001b[0m \u001b[39m    \u001b[39m\u001b[39m\"\"\"\u001b[39;00m\n\u001b[0;32m     39\u001b[0m \u001b[39m    Bind the name/qualname attributes of the function.\u001b[39;00m\n\u001b[0;32m     40\u001b[0m \u001b[39m    \"\"\"\u001b[39;00m\n",
      "File \u001b[1;32m~\\AppData\\Local\\Packages\\PythonSoftwareFoundation.Python.3.10_qbz5n2kfra8p0\\LocalCache\\local-packages\\Python310\\site-packages\\pandas\\compat\\pyarrow.py:8\u001b[0m\n\u001b[0;32m      5\u001b[0m \u001b[39mfrom\u001b[39;00m \u001b[39mpandas\u001b[39;00m\u001b[39m.\u001b[39;00m\u001b[39mutil\u001b[39;00m\u001b[39m.\u001b[39;00m\u001b[39mversion\u001b[39;00m \u001b[39mimport\u001b[39;00m Version\n\u001b[0;32m      7\u001b[0m \u001b[39mtry\u001b[39;00m:\n\u001b[1;32m----> 8\u001b[0m     \u001b[39mimport\u001b[39;00m \u001b[39mpyarrow\u001b[39;00m \u001b[39mas\u001b[39;00m \u001b[39mpa\u001b[39;00m\n\u001b[0;32m     10\u001b[0m     _pa_version \u001b[39m=\u001b[39m pa\u001b[39m.\u001b[39m__version__\n\u001b[0;32m     11\u001b[0m     _palv \u001b[39m=\u001b[39m Version(_pa_version)\n",
      "File \u001b[1;32m~\\AppData\\Local\\Packages\\PythonSoftwareFoundation.Python.3.10_qbz5n2kfra8p0\\LocalCache\\local-packages\\Python310\\site-packages\\pyarrow\\__init__.py:65\u001b[0m\n\u001b[0;32m     63\u001b[0m _gc_enabled \u001b[39m=\u001b[39m _gc\u001b[39m.\u001b[39misenabled()\n\u001b[0;32m     64\u001b[0m _gc\u001b[39m.\u001b[39mdisable()\n\u001b[1;32m---> 65\u001b[0m \u001b[39mimport\u001b[39;00m \u001b[39mpyarrow\u001b[39;00m\u001b[39m.\u001b[39;00m\u001b[39mlib\u001b[39;00m \u001b[39mas\u001b[39;00m \u001b[39m_lib\u001b[39;00m\n\u001b[0;32m     66\u001b[0m \u001b[39mif\u001b[39;00m _gc_enabled:\n\u001b[0;32m     67\u001b[0m     _gc\u001b[39m.\u001b[39menable()\n",
      "File \u001b[1;32m~\\AppData\\Local\\Packages\\PythonSoftwareFoundation.Python.3.10_qbz5n2kfra8p0\\LocalCache\\local-packages\\Python310\\site-packages\\pyarrow\\compat.pxi:43\u001b[0m, in \u001b[0;36minit pyarrow.lib\u001b[1;34m()\u001b[0m\n",
      "File \u001b[1;32m~\\AppData\\Local\\Packages\\PythonSoftwareFoundation.Python.3.10_qbz5n2kfra8p0\\LocalCache\\local-packages\\Python310\\site-packages\\cloudpickle\\__init__.py:3\u001b[0m\n\u001b[0;32m      1\u001b[0m \u001b[39mfrom\u001b[39;00m \u001b[39m__future__\u001b[39;00m \u001b[39mimport\u001b[39;00m absolute_import\n\u001b[1;32m----> 3\u001b[0m \u001b[39mfrom\u001b[39;00m \u001b[39mcloudpickle\u001b[39;00m\u001b[39m.\u001b[39;00m\u001b[39mcloudpickle\u001b[39;00m \u001b[39mimport\u001b[39;00m \u001b[39m*\u001b[39m\n\u001b[0;32m      5\u001b[0m __version__ \u001b[39m=\u001b[39m \u001b[39m'\u001b[39m\u001b[39m0.4.0\u001b[39m\u001b[39m'\u001b[39m\n",
      "File \u001b[1;32m~\\AppData\\Local\\Packages\\PythonSoftwareFoundation.Python.3.10_qbz5n2kfra8p0\\LocalCache\\local-packages\\Python310\\site-packages\\cloudpickle\\cloudpickle.py:145\u001b[0m\n\u001b[0;32m    125\u001b[0m     \u001b[39melse\u001b[39;00m:\n\u001b[0;32m    126\u001b[0m         \u001b[39mreturn\u001b[39;00m types\u001b[39m.\u001b[39mCodeType(\n\u001b[0;32m    127\u001b[0m             co\u001b[39m.\u001b[39mco_argcount,\n\u001b[0;32m    128\u001b[0m             co\u001b[39m.\u001b[39mco_kwonlyargcount,\n\u001b[1;32m   (...)\u001b[0m\n\u001b[0;32m    141\u001b[0m             (),\n\u001b[0;32m    142\u001b[0m         )\n\u001b[1;32m--> 145\u001b[0m _cell_set_template_code \u001b[39m=\u001b[39m _make_cell_set_template_code()\n\u001b[0;32m    148\u001b[0m \u001b[39mdef\u001b[39;00m \u001b[39mcell_set\u001b[39m(cell, value):\n\u001b[0;32m    149\u001b[0m \u001b[39m    \u001b[39m\u001b[39m\"\"\"Set the value of a closure cell.\u001b[39;00m\n\u001b[0;32m    150\u001b[0m \u001b[39m    \"\"\"\u001b[39;00m\n",
      "File \u001b[1;32m~\\AppData\\Local\\Packages\\PythonSoftwareFoundation.Python.3.10_qbz5n2kfra8p0\\LocalCache\\local-packages\\Python310\\site-packages\\cloudpickle\\cloudpickle.py:126\u001b[0m, in \u001b[0;36m_make_cell_set_template_code\u001b[1;34m()\u001b[0m\n\u001b[0;32m    109\u001b[0m     \u001b[39mreturn\u001b[39;00m types\u001b[39m.\u001b[39mCodeType(\n\u001b[0;32m    110\u001b[0m         co\u001b[39m.\u001b[39mco_argcount,\n\u001b[0;32m    111\u001b[0m         co\u001b[39m.\u001b[39mco_nlocals,\n\u001b[1;32m   (...)\u001b[0m\n\u001b[0;32m    123\u001b[0m         (),\n\u001b[0;32m    124\u001b[0m     )\n\u001b[0;32m    125\u001b[0m \u001b[39melse\u001b[39;00m:\n\u001b[1;32m--> 126\u001b[0m     \u001b[39mreturn\u001b[39;00m types\u001b[39m.\u001b[39;49mCodeType(\n\u001b[0;32m    127\u001b[0m         co\u001b[39m.\u001b[39;49mco_argcount,\n\u001b[0;32m    128\u001b[0m         co\u001b[39m.\u001b[39;49mco_kwonlyargcount,\n\u001b[0;32m    129\u001b[0m         co\u001b[39m.\u001b[39;49mco_nlocals,\n\u001b[0;32m    130\u001b[0m         co\u001b[39m.\u001b[39;49mco_stacksize,\n\u001b[0;32m    131\u001b[0m         co\u001b[39m.\u001b[39;49mco_flags,\n\u001b[0;32m    132\u001b[0m         co\u001b[39m.\u001b[39;49mco_code,\n\u001b[0;32m    133\u001b[0m         co\u001b[39m.\u001b[39;49mco_consts,\n\u001b[0;32m    134\u001b[0m         co\u001b[39m.\u001b[39;49mco_names,\n\u001b[0;32m    135\u001b[0m         co\u001b[39m.\u001b[39;49mco_varnames,\n\u001b[0;32m    136\u001b[0m         co\u001b[39m.\u001b[39;49mco_filename,\n\u001b[0;32m    137\u001b[0m         co\u001b[39m.\u001b[39;49mco_name,\n\u001b[0;32m    138\u001b[0m         co\u001b[39m.\u001b[39;49mco_firstlineno,\n\u001b[0;32m    139\u001b[0m         co\u001b[39m.\u001b[39;49mco_lnotab,\n\u001b[0;32m    140\u001b[0m         co\u001b[39m.\u001b[39;49mco_cellvars,  \u001b[39m# this is the trickery\u001b[39;49;00m\n\u001b[0;32m    141\u001b[0m         (),\n\u001b[0;32m    142\u001b[0m     )\n",
      "\u001b[1;31mTypeError\u001b[0m: 'bytes' object cannot be interpreted as an integer"
     ]
    }
   ],
   "source": [
    "import pandas as pd\n",
    "from nlp import load_dataset\n",
    "\n",
    "\n",
    "# Define the fields for your data\n",
    "fields = {\"English\": (\"src\", tokenize_en), \"Vietnamese\": (\"trg\", tokenize_vi)}\n",
    "\n",
    "def create_raw_dataset():\n",
    "    data_dir = \"\"\n",
    "    en_sents = open(data_dir + 'english.txt', \"r\",encoding=\"utf-8\" ).read().splitlines()\n",
    "    vi_sents = open(data_dir + 'vietnamese.txt', \"r\" ,encoding=\"utf-8\").read().splitlines()\n",
    "    return {\n",
    "        \"English\": [line for line in en_sents[:5000]],\n",
    "        \"Vietnamese\": [line for line in vi_sents[:5000]],\n",
    "    }\n",
    "raw_data = create_raw_dataset()\n",
    "\n",
    "from sklearn.model_selection import train_test_split\n",
    "\n",
    "df = pd.DataFrame(raw_data, columns=[\"English\", \"Vietnamese\"])\n",
    "train, test = train_test_split(df, test_size=0.2)\n",
    "train, val = train_test_split(train, test_size=0.125)\n",
    "\n",
    "train.to_json(\"train.json\", orient=\"records\", lines=True)\n",
    "test.to_json(\"test.json\", orient=\"records\", lines=True)\n",
    "val.to_json(\"val.json\", orient=\"records\", lines=True)\n",
    "\n",
    "# Load the data from the json files\n",
    "train_data = load_dataset(\"json\", data_files=\"train.json\", split=\"train\", field=fields)\n",
    "test_data = load_dataset(\"json\", data_files=\"test.json\", split=\"test\", field=fields)\n",
    "val_data = load_dataset(\"json\", data_files=\"val.json\", split=\"val\", field=fields)\n"
   ]
  }
 ],
 "metadata": {
  "kernelspec": {
   "display_name": "Python 3",
   "language": "python",
   "name": "python3"
  },
  "language_info": {
   "codemirror_mode": {
    "name": "ipython",
    "version": 3
   },
   "file_extension": ".py",
   "mimetype": "text/x-python",
   "name": "python",
   "nbconvert_exporter": "python",
   "pygments_lexer": "ipython3",
   "version": "3.10.10"
  },
  "orig_nbformat": 4
 },
 "nbformat": 4,
 "nbformat_minor": 2
}
