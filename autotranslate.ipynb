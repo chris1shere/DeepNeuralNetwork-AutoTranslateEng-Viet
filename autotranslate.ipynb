{
 "cells": [
  {
   "cell_type": "code",
   "execution_count": 1,
   "metadata": {},
   "outputs": [
    {
     "data": {
      "text/plain": [
       "<torch._C.Generator at 0x1c9ff6aa610>"
      ]
     },
     "execution_count": 1,
     "metadata": {},
     "output_type": "execute_result"
    }
   ],
   "source": [
    "import random\n",
    "import torch\n",
    "SEED = 2222\n",
    "random.seed(SEED)\n",
    "torch.manual_seed(SEED)"
   ]
  },
  {
   "cell_type": "code",
   "execution_count": 2,
   "metadata": {},
   "outputs": [],
   "source": [
    "from vncorenlp import VnCoreNLP\n",
    "annotator = VnCoreNLP(\"VnCoreNLP-master\\VnCoreNLP-1.1.1.jar\", annotators=\"wseg\", max_heap_size='-Xmx500m') "
   ]
  },
  {
   "cell_type": "code",
   "execution_count": 3,
   "metadata": {},
   "outputs": [
    {
     "name": "stdout",
     "output_type": "stream",
     "text": [
      "['Please', 'put', 'the', 'dustpan', 'in', 'the', 'broom', 'closet']\n",
      "['Cuốn', 'sách', 'này', 'là', 'của', 'tôi', '.', 'Của', 'bạn', 'đâu', '?']\n"
     ]
    }
   ],
   "source": [
    "import nltk\n",
    "import string\n",
    "import itertools\n",
    "\n",
    "def tokenize_en(text):\n",
    "    tokens = nltk.word_tokenize(text)\n",
    "    tokens = [token for token in tokens if token not in string.punctuation]\n",
    "    return tokens\n",
    "\n",
    "def tokenize_vi(text):\n",
    "    return [tok for tok in itertools.chain.from_iterable(annotator.tokenize(text))]\n",
    "\n",
    "text_en = 'Please put the dustpan in the broom closet'\n",
    "text_vi = 'Cuốn sách này là của tôi. Của bạn đâu?'\n",
    "print(tokenize_en(text_en))\n",
    "print(tokenize_vi(text_vi))\n"
   ]
  },
  {
   "cell_type": "code",
   "execution_count": 4,
   "metadata": {},
   "outputs": [],
   "source": [
    "import pandas as pd\n",
    "\n",
    "def create_raw_dataset():\n",
    "    data_dir = \"\"\n",
    "    en_sents = open(data_dir + 'english.txt', \"r\",encoding=\"utf-8\" ).read().splitlines()\n",
    "    vi_sents = open(data_dir + 'vietnamese.txt', \"r\" ,encoding=\"utf-8\").read().splitlines()\n",
    "    return {\n",
    "        \"English\": [line for line in en_sents[:5000]],\n",
    "        \"Vietnamese\": [line for line in vi_sents[:5000]],\n",
    "    }\n",
    "raw_data = create_raw_dataset()\n",
    "\n",
    "from sklearn.model_selection import train_test_split\n",
    "\n",
    "df = pd.DataFrame(raw_data, columns=[\"English\", \"Vietnamese\"])\n",
    "train, test = train_test_split(df, test_size=0.2)\n",
    "train, val = train_test_split(train, test_size=0.125)\n",
    "\n",
    "train.to_json(\"train.json\", orient=\"records\", lines=True)\n",
    "test.to_json(\"test.json\", orient=\"records\", lines=True)\n",
    "val.to_json(\"val.json\", orient=\"records\", lines=True)\n"
   ]
  },
  {
   "cell_type": "code",
   "execution_count": 104,
   "metadata": {},
   "outputs": [],
   "source": [
    "import json\n",
    "from collections import Counter\n",
    "from itertools import chain\n",
    "\n",
    "source_tokenizer = tokenize_en\n",
    "target_tokenizer = tokenize_vi\n",
    "\n",
    "def load_data(filename, source_tokenizer, target_tokenizer):\n",
    "    examples = []\n",
    "    with open(filename, \"r\", encoding=\"utf-8\") as f:\n",
    "        for line in f:\n",
    "            example = json.loads(line)\n",
    "            src = source_tokenizer(example[\"English\"])\n",
    "            trg = target_tokenizer(example[\"Vietnamese\"])\n",
    "            example[\"src\"] = src\n",
    "            example[\"trg\"] = trg\n",
    "            examples.append(example)\n",
    "    return examples\n",
    "\n",
    "train_examples = load_data(\"train.json\", source_tokenizer, target_tokenizer)\n",
    "val_examples = load_data(\"val.json\", source_tokenizer, target_tokenizer)\n",
    "test_examples = load_data(\"test.json\", source_tokenizer, target_tokenizer)\n",
    "\n",
    "def build_vocab(tokenized_sentences, max_size=None, min_freq=1):\n",
    "    word_counts = Counter(chain(*tokenized_sentences))\n",
    "    sorted_words = sorted(word_counts.items(), key=lambda item: item[1], reverse=True)\n",
    "    if max_size is not None:\n",
    "        sorted_words = sorted_words[:max_size]\n",
    "    vocabulary = {\"<pad>\": 0, \"<unk>\": 1, \"<sos>\": 2, \"<eos>\": 3}\n",
    "    for word, count in sorted_words:\n",
    "        if count >= min_freq and word not in vocabulary:\n",
    "            vocabulary[word] = len(vocabulary)\n",
    "    return vocabulary\n",
    "\n",
    "source_sentences_train = [example[\"src\"] for example in train_examples]\n",
    "target_sentences_train = [example[\"trg\"] for example in train_examples]\n",
    "source_vocab = build_vocab(source_sentences_train, max_size=10000, min_freq=2)\n",
    "target_vocab = build_vocab(target_sentences_train, max_size=10000, min_freq=2)\n",
    "\n"
   ]
  },
  {
   "cell_type": "code",
   "execution_count": 63,
   "metadata": {},
   "outputs": [
    {
     "name": "stdout",
     "output_type": "stream",
     "text": [
      "Unique tokens in source (en) vocabulary: 1511\n",
      "Unique tokens in target (vi) vocabulary: 1356\n"
     ]
    }
   ],
   "source": [
    "print(f\"Unique tokens in source (en) vocabulary: {len(source_vocab)}\")\n",
    "print(f\"Unique tokens in target (vi) vocabulary: {len(target_vocab)}\")"
   ]
  },
  {
   "cell_type": "code",
   "execution_count": 86,
   "metadata": {},
   "outputs": [
    {
     "name": "stdout",
     "output_type": "stream",
     "text": [
      "[['Will', 'you', 'be', 'taking', 'a', 'holiday', 'this', 'year'], ['He', 'decided', 'to', 'write', 'in', 'his', 'diary', 'every', 'day'], ['I', 'have', \"n't\", 'forgotten', 'our', 'first', 'date'], ['I', 'make', '€100', 'a', 'day'], ['I', 'ca', \"n't\", 'speak', 'French'], ['Tom', 'had', 'put', 'off', 'telling', 'Mary', 'the', 'bad', 'news', 'for', 'as', 'long', 'as', 'possible'], ['I', 'have', 'to', 'go', 'home', 'now'], ['I', 'do', \"n't\", 'find', 'Tom', 'particularly', 'interesting', 'to', 'talk', 'to'], ['The', 'girl', 'rowing', 'the', 'boat', 'is', 'my', 'cousin'], ['I', 'want', 'you', 'to', 'stop', 'this', 'immediately'], ['I', 'paid', 'nothing'], ['You', 'have', 'probably', 'never', 'heard', 'of', 'me', 'but', 'I', \"'m\", 'famous', 'back', 'home'], ['I', \"'m\", 'really', 'starting', 'to', 'get', 'worried'], ['You', \"'ll\", 'have', 'to', 'go'], ['He', 'studied', 'to', 'be', 'a', 'doctor'], ['It', 'is', 'very', 'difficult', 'to', 'persuade', 'people', 'to', 'change', 'their', 'life', 'style'], ['Did', 'Tom', 'oversleep'], ['Why', 'do', \"n't\", 'you', 'wash', 'your', 'dishes'], ['Will', 'you', 'be', 'home', 'tonight'], ['You', 'have', 'a', 'kid', 'do', \"n't\", 'you'], ['I', 'do', \"n't\", 'have', 'to', 'put', 'up', 'with', 'this'], ['This', 'is', 'the', 'best', 'one'], ['Tom', 'came', 'into', 'my', 'room', 'without', 'knocking'], ['I', 'suggest', 'you', 'ask', 'Tom', 'that', 'question'], ['She', 'was', 'beginning', 'to', 'get', 'desperate'], ['You', 'should', 'be', 'used', 'to', 'this', 'by', 'now'], ['That', \"'s\", 'a', 'pretty', 'dress', 'you', 'have', 'on'], ['We', 'made', 'him', 'cry'], ['Tom', 'screamed', 'in', 'terror'], ['We', 'never', 'seem', 'to', 'be', 'able', 'to', 'compromise', 'on', 'anything'], ['Everything', 'is', 'never', 'as', 'it', 'seems'], ['I', \"'ve\", 'been', 'asking', 'questions'], ['Tom', 'is', 'wondering', 'about', 'what', 'to', 'do', 'next'], ['I', 'understand', 'your', 'reasons'], ['You', \"'ll\", 'have', 'to', 'leave'], ['He', 'got', 'up', 'at', 'five', 'as', 'usual'], ['You', 'worked', 'hard'], ['Try', 'and', 'find', 'out', 'when', 'the', 'train', 'leaves'], ['I', 'came', 'to', 'see', 'the', 'show'], ['I', 'heard', 'that', 'Tom', 'does', \"n't\", 'speak', 'French'], ['I', 'should', \"n't\", 'have', 'eaten', 'that', 'I', 'feel', 'sick'], ['``', 'Going', 'to', 'the', 'little', 'girl', \"'s\", 'room', \"''\", 'is', 'an', 'euphemistic', 'expression', 'for', '``', 'going', 'to', 'the', 'toilet', \"''\"], ['There', \"'s\", 'something', 'I', \"'ve\", 'been', 'wanting', 'to', 'ask', 'you', 'Tom'], ['I', 'can', 'hear', 'nothing'], ['I', \"'d\", 'love', 'to', 'have', 'dinner', 'with', 'you'], ['I', 'think', 'I', 'found', 'one'], ['How', 'do', 'you', 'think', 'Tom', 'found', 'us'], ['He', 'is', 'her', 'friend'], ['I', 'thought', 'Tom', 'might', 'do', 'that'], ['Tom', 'did', \"n't\", 'wash', 'his', 'hands'], ['The', 'pot', 'was', 'mine'], ['Tom', 'is', 'shaking'], ['Do', 'you', 'have', 'any', 'day', 'tours'], ['I', 'do', \"n't\", 'believe', 'half', 'of', 'what', 'I', \"'ve\", 'been', 'told', 'about', 'you'], ['I', 'never', 'did', 'it', 'again'], ['I', \"'m\", 'not', 'wasting', 'my', 'time'], ['I', \"'ll\", 'go', 'to', 'a', 'museum', 'today'], ['I', \"'m\", 'so', 'glad', 'you', 'liked', 'it'], ['Did', 'you', 'like', 'your', 'first', 'class'], ['Tom', 'injured', 'himself', 'mountain', 'climbing'], ['An', 'international', 'trade', 'ban', 'could', 'be', 'the', 'last', 'straw', 'for', 'that', 'country', \"'s\", 'economy'], ['The', 'long', 'discussion', 'came', 'to', 'an', 'end', 'at', 'last'], ['He', 'will', 'give', 'you', 'some', 'good', 'advice', 'on', 'this', 'matter'], ['The', 'heads', 'of', '16', 'city', 'councils', 'met', 'at', 'the', 'state', 'capitol'], ['She', 'picked', 'flowers', 'in', 'the', 'garden'], ['We', \"'d\", 'like', 'to', 'see', 'a', 'wine', 'list'], ['That', \"'s\", 'too', 'hard'], ['I', 'just', 'want', 'you', 'to', 'know', 'that', 'I', 'really', 'love', 'you'], ['I', 'do', \"n't\", 'sleep', 'much', 'anyway'], ['Tom', 'did', \"n't\", 'do', 'so', 'well', 'on', 'his', 'test'], ['I', 'think', 'they', 'like', 'you'], ['What', 'do', 'you', 'say', 'to', 'going', 'for', 'a', 'walk'], ['Everybody', 'in', 'the', 'car', 'said', 'they', 'wanted', 'to', 'get', 'out', 'and', 'stretch', 'their', 'legs'], ['Tom', 'has', 'been', 'with', 'Mary', 'all', 'day'], ['His', 'quick', 'temper', 'will', 'get', 'him', 'in', 'trouble', 'one', 'day'], ['That', 'movie', 'was', 'a', 'hit'], ['I', 'leave', 'it', 'up', 'to', 'you'], ['Captain', 'Cook', 'discovered', 'those', 'islands'], ['I', 'do', \"n't\", 'like', 'swimming', 'in', 'pools'], ['I', 'ca', \"n't\", 'tell', 'you', 'why', 'Tom', 'is', 'late'], ['We', 'went', 'to', 'the', 'lake', 'to', 'row', 'a', 'boat'], ['He', 'filled', 'the', 'glasses', 'with', 'wine'], ['Tom', 'believes', 'in', 'equality', 'between', 'women', 'and', 'men'], ['Changes', 'came', 'quickly'], ['He', 'was', 'never', 'to', 'see', 'his', 'homeland', 'again'], ['I', 'could', \"n't\", 'call', 'you'], ['I', 'do', \"n't\", 'believe', 'such', 'things', 'to', 'exist'], ['I', 'picked', 'out', 'the', 'gray', 'hat'], ['I', 'promise', 'you', 'I', \"'ll\", 'help', 'you'], ['She', 'explained', 'to', 'him', 'why', 'she', 'could', \"n't\", 'visit', 'him'], ['The', 'dew', 'is', 'on', 'the', 'leaves', 'of', 'grass'], ['I', 'ca', \"n't\", 'make', 'Tom', 'do', 'anything'], ['You', 'like', 'English', 'do', \"n't\", 'you'], ['An', 'automobile', 'ran', 'over', 'him'], ['The', 'recent', 'shortage', 'of', 'coffee', 'has', 'given', 'rise', 'to', 'a', 'lot', 'of', 'problems'], ['You', 'should', 'probably', 'tell', 'Tom', 'how', 'to', 'do', 'that'], ['They', 'can', 'speak', 'Spanish'], ['Tom', 'drove', 'fast'], ['Do', 'you', 'take', 'part', 'in', 'any', 'community', 'activities'], ['Tom', 'trusts', 'me'], ['Do', 'you', 'want', 'a', 'trim'], ['That', \"'s\", 'Saturn'], ['I', 'told', 'you', 'this', 'was', 'a', 'waste', 'of', 'time'], ['Tom', 'took', 'a', 'pill', 'from', 'the', 'bottle', 'and', 'swallowed', 'it'], ['I', 'know', 'exactly', 'what', 'you', 'think', 'of', 'Tom'], ['He', 'had', 'called', 'the', 'rebels', 'traitors'], ['Are', 'they', 'all', 'the', 'same'], ['Tom', 'calls', 'his', 'karate', 'teacher', 'Sensei'], ['I', 'visited', 'him', 'at', 'intervals', 'during', 'my', 'stay', 'in', 'Paris'], ['I', 'should', \"'ve\", 'listened', 'to', 'Tom', 'more', 'closely'], ['How', 'much', 'is', 'that', 'all', 'together'], ['I', \"'ll\", 'raise', 'my', 'hand', 'as', 'a', 'signal'], ['I', 'have', 'a', 'habit', 'of', 'getting', 'up', 'early'], ['At', 'last', 'I', 'caught', 'up', 'with', 'my', 'friends'], ['Is', 'there', 'anything', 'new', 'today'], ['Tom', \"'s\", 'a', 'likable', 'guy'], ['Tom', 'says', 'he', 'has', 'three', 'other', 'suggestions', 'to', 'make'], ['The', 'cat', 'is', 'sleeping', 'on', 'the', 'sofa'], ['Where', 'are', 'the', 'plates'], ['I', 'hate', 'to', 'eat', 'alone'], ['She', 'arranges', 'the', 'buying', 'and', 'selling', 'of', 'houses', 'in', 'and', 'around', 'Deal'], ['I', 'will', 'be', 'studying', 'when', 'you', 'come', 'at', 'seven'], ['I', \"'d\", 'never', 'let', 'that', 'happen'], ['I', 'was', 'wondering', 'if', 'I', 'could', 'borrow', 'your', 'car'], ['You', \"'ve\", 'succeeded', 'where', 'others', 'have', 'failed'], ['He', 'feels', 'a', 'lot', 'better', 'today'], ['I', 'want', 'to', 'be', 'treated', 'with', 'respect'], ['Boston', 'is', 'a', 'very', 'beautiful', 'city'], ['Which', 'do', 'you', 'suppose', 'she', 'chose'], ['We', 'ca', \"n't\", 'leave', 'Tom', 'here', 'He', 'wo', \"n't\", 'survive', 'on', 'his', 'own'], ['I', 'should', \"'ve\", 'known', 'Tom', 'and', 'Mary', 'would', 'be', 'together'], ['Why', 'is', 'he', 'so', 'quiet'], ['Everybody', \"'s\", 'worried'], ['They', 'had', 'to', 'find', 'the', 'strongest', 'candidate', 'possible'], ['What', \"'s\", 'done', 'is', 'done'], ['Keep', 'the', 'door', 'locked'], ['You', \"'ll\", 'be', 'staying', 'with', 'Tom', 'and', 'me'], ['I', 'have', 'been', 'meaning', 'to', 'go', 'to', 'Berlin', 'but', 'keep', 'putting', 'it', 'off', 'I´ll', 'get', 'around', 'to', 'it', 'soon'], ['How', 'old', 'was', 'she', 'when', 'she', 'got', 'married'], ['Could', 'you', 'solve', 'the', 'problem'], ['I', 'stayed', 'at', 'my', 'uncle', \"'s\", 'while', 'I', 'was', 'in', 'Tokyo'], ['Tom', 'currently', 'lives', 'alone', 'in', 'a', 'small', 'apartment'], ['There', 'are', 'no', 'special', 'rules', 'about', 'what', 'clothes', 'we', 'have', 'to', 'wear'], ['I', 'ca', \"n't\", 'stand', 'the', 'thought', 'of', 'losing', 'you', 'forever'], ['The', 'Board', 'of', 'Trustees', 'voted', 'to', 'divest', 'the', 'organization', \"'s\", 'overseas', 'holdings'], ['I', 'do', \"n't\", 'speak', 'very', 'good', 'French'], ['We', 'speak', 'French', 'at', 'home'], ['I', 'want', 'to', 'get', 'into', 'shape', 'so', 'I', \"'ve\", 'been', 'working', 'out', 'every', 'day'], ['The', 'company', 'was', 'started', 'with', '100,000', 'in', 'capital'], ['That', 'kid', \"'s\", 'a', 'chip', 'off', 'the', 'old', 'block'], ['I', \"'ll\", 'dream', 'about', 'you'], ['Tom', 'is', 'intelligent'], ['It', 'is', 'wrong', 'to', 'steal'], ['You', \"'re\", 'interfering', 'with', 'my', 'reading'], ['What', 'has', 'brought', 'you', 'here'], ['I', 'was', 'a', 'bit', 'late'], ['We', 'are', 'sorry', 'about', 'the', 'bad', 'weather'], ['The', 'file', 'cabinet', 'drawers', 'are', 'open'], ['Tom', 'is', 'doing', 'the', 'dishes'], ['Tom', 'is', 'a', 'security', 'officer'], ['Now', 'that', 'you', 'mention', 'it', 'I', 'do', 'remember', 'that', 'we', 'did', 'that'], ['They', 'wo', \"n't\", 'be', 'selling', 'anything'], ['I', 'ca', \"n't\", 'see', 'taking', 'advice', 'from', 'Tom'], ['I', 'promised', 'to', 'go', 'to', 'the', 'party', 'with', 'Jane', 'and', 'I', 'ca', \"n't\", 'let', 'her', 'down'], ['What', 'did', 'you', 'have', 'in', 'mind'], ['Harry', 'could', \"n't\", 'keep', 'up', 'with', 'the', 'class'], ['You', \"'re\", 'unforgettable'], ['I', 'helped', 'my', 'mother', 'clean', 'the', 'kitchen'], ['Let', \"'s\", 'set', 'a', 'date'], ['He', 'was', 'learning', 'a', 'poem'], ['I', 'have', 'to', 'paint', 'it'], ['I', 'am', 'feeling', 'nauseous'], ['I', \"'ll\", 'stay', 'in', 'the', 'car'], ['Has', 'anything', 'strange', 'happened'], ['I', \"'m\", 'in', 'here', 'Tom'], ['Tom', 'added', 'his', 'own', 'name', 'to', 'the', 'list', 'of', 'people', 'who', 'wanted', 'to', 'take', 'part', 'in', 'the', 'dance'], ['He', 'pushed', 'the', 'stalled', 'car', 'with', 'all', 'his', 'might'], ['I', 'thought', 'you', 'read', 'my', 'resume'], ['I', 'hate', 'the', 'guy', 'who', 'lives', 'next', 'door'], ['Mother', 'is', 'the', 'busiest', 'in', 'my', 'family'], ['Father', 'embraced', 'Mother', 'lovingly'], ['It', \"'s\", 'chilly'], ['I', 'have', 'seen', 'that', 'picture', 'before'], ['It', \"'s\", 'not', 'the', 'final', 'goal', 'but', 'the', 'process', 'of', 'getting', 'there', 'that', 'matters'], ['I', 'think', 'Tom', 'is', 'callous'], ['Congress', 'rejected', 'the', 'request'], ['Do', 'you', 'have', 'a', 'problem', 'with', 'any', 'of', 'this'], ['I', 'said', 'I', 'was', 'alone', 'did', \"n't\", 'I'], ['There', \"'s\", 'no', 'need', 'for', 'you', 'to', 'prepare', 'a', 'formal', 'speech'], ['Tom', 'told', 'Mary', 'what', 'not', 'to', 'do'], ['It', 'will', 'be', 'your', 'job', 'to', 'acquaint', 'the', 'newcomer', 'with', 'the', 'rules', 'of', 'the', 'office'], ['The', 'spider', 'is', 'dead'], ['I', 'would', \"n't\", 'want', 'to', 'be', 'a', 'judge'], ['Would', 'you', 'wake', 'me', 'up', 'every', 'morning'], ['Dinner', 'is', 'on', 'the', 'table'], ['Can', 'you', 'tell', 'us', 'what', 'happened', 'that', 'night'], ['Go', 'out', 'and', 'get', 'some', 'fresh', 'air', 'instead', 'of', 'watching', 'TV'], ['Come', 'on', 'Bill'], ['I', 'owe', 'Tom', 'one'], ['You', \"'ve\", 'got', 'to', 'hurry'], ['I', 'need', 'to', 'speak', 'to', 'you'], ['Tom', 'and', 'Mary', 'are', 'deeply', 'in', 'love'], ['Tom', 'is', 'embarrassed', 'by', 'what', 'he', 'did'], ['Tom', 'loves', 'that'], ['I', 'think', 'you', 'have', 'a', 'problem', 'Tom'], ['Pay', 'what', 'you', 'want'], ['They', 'are', 'jealous', 'of', 'our', 'success'], ['That', \"'s\", 'very', 'easy'], ['I', \"'ll\", 'drive', 'to', 'Detroit'], ['The', 'police', 'are', 'now', 'inquiring', 'into', 'the', 'cause', 'of', 'the', 'fire'], ['Tom', 'carved', 'his', 'initials', 'on', 'the', 'large', 'oak', 'tree', 'in', 'front', 'of', 'the', 'school'], ['She', 'pinched', 'him'], ['Tom', 'said', 'he', 'could', \"n't\", 'give', 'us', 'what', 'we', 'wanted'], ['It', 'seems', 'warm', 'outside'], ['Tom', 'was', 'big'], ['Tom', 'killed', 'Mary', 'three', 'years', 'ago'], ['Tom', 'is', 'here', 'and', 'ready'], ['You', 'do', \"n't\", 'get', 'to', 'choose'], ['Tom', 'opened', 'the', 'car', 'door'], ['He', 'ignores', 'my', 'problems'], ['I', 'really', 'did', \"n't\", 'expect', 'Tom', 'to', 'succeed'], ['The', 'number', 'of', 'students', 'who', 'were', 'late', 'for', 'school', 'was', 'much', 'smaller', 'than', 'I', 'had', 'expected'], ['Did', 'you', 'know', 'Tom'], ['You', \"'re\", 'honest'], ['Do', 'you', 'want', 'something', 'to', 'eat', 'before', 'your', 'meeting', 'with', 'Tom'], ['My', 'hobby', 'is', 'reading'], ['Tom', 'has', 'you', 'to', 'thank', 'for', 'his', 'success'], ['It', 'does', \"n't\", 'matter', 'how', 'small', 'it', 'is'], ['The', 'new', 'tunnel', 'is', 'twice', 'as', 'long', 'as', 'the', 'old', 'one'], ['Once', 'upon', 'a', 'time', 'there', 'was', 'an', 'old', 'man', 'in', 'this', 'village'], ['German', 'is', 'not', 'only', 'spoken', 'in', 'Germany'], ['He', 'did', 'well', 'in', 'all', 'subjects', 'and', 'above', 'all', 'in', 'mathematics'], ['Tom', 'appears', 'worried'], ['I', 'almost', 'cried'], ['How', 'could', 'Tom', 'have', 'known', 'where', 'the', 'money', 'was', 'hidden'], ['It', \"'s\", 'a', 'bit', 'greasy'], ['Bring', 'Tom', 'here'], ['Give', 'me', 'a', 'hundred', 'dollars'], ['I', 'have', 'the', 'money'], ['Tom', 'remained', 'silent'], ['I', 'think', 'we', \"'ve\", 'wasted', 'enough', 'of', 'our', 'time'], ['Do', 'what', 'you', 'believe', 'is', 'right'], ['I', \"'m\", 'not', 'comfortable', 'working', 'with', 'Tom'], ['Where', \"'s\", 'the', 'car'], ['Ken', 'easily', 'cleared', 'the', 'fence'], ['That', 'is', 'what', 'I', 'want', 'to', 'know'], ['I', 'want', 'nothing', 'to', 'do', 'with', 'it'], ['People', 'lost', 'faith', 'in', 'banks'], ['She', 'is', 'liked', 'by', 'everyone'], ['Tom', 'just', 'stared', 'at', 'Mary'], ['Your', 'office', 'called', 'and', 'left', 'a', 'message'], ['Tom', 'was', 'the', 'only', 'one', 'who', 'smiled'], ['I', 'do', \"n't\", 'quite', 'know', 'where', 'to', 'begin'], ['If', 'you', 'want', 'a', 'pencil', 'I', \"'ll\", 'lend', 'you', 'one'], ['I', 'saw', 'Tom', 'yesterday', 'morning'], ['A', 'family', 'should', 'not', 'spend', 'all', 'of', 'its', 'money', 'to', 'keep', 'someone', 'alive', 'on', 'a', 'machine'], ['Serve', 'the', 'coffee', 'now', 'please'], ['Older', 'carpets', 'are', 'more', 'valuable', 'than', 'newer', 'carpets'], ['How', 'big', 'was', 'your', 'school'], ['I', 'had', 'a', 'slight', 'accident', 'while', 'trekking', 'in', 'Nepal'], ['I', 'hope', 'to', 'be', 'a', 'journalist'], ['You', 'were', 'happy', 'were', \"n't\", 'you'], ['I', 'have', 'a', 'lot', 'of', 'passwords', 'to', 'remember'], ['Tom', 'turned', 'serious'], ['Shut', 'your', 'eyes'], ['The', 'policeman', 'gave', 'Tom', 'a', 'ticket', 'for', 'reckless', 'driving'], ['It', 'was', \"n't\", 'a', 'joke'], ['Have', 'you', 'told', 'Tom', 'why', 'he', 'should', \"n't\", 'be', 'doing', 'it', 'that', 'way'], ['Stop', 'trying'], ['There', 'are', 'only', 'a', 'few', 'days', 'left', 'before', 'the', 'end', 'of', 'the', 'year'], ['I', 'do', \"n't\", 'like', 'heavy', 'makeup', 'on', 'a', 'young', 'girl'], ['We', \"'re\", 'not', 'alone'], ['His', 'mother', 'was', 'a', 'singer'], ['Keep', 'it', 'in', 'mind'], ['I', 'am', 'looking', 'forward', 'to', 'seeing', 'you', 'soon'], ['Tom', 'was', \"n't\", 'injured', 'in', 'the', 'train', 'wreck'], ['Since', 'it', 'got', 'warmer', 'I', 'took', 'off', 'my', 'sweater'], ['You', \"'re\", 'not', 'buying', 'any', 'of', 'this', 'are', 'you'], ['I', \"'m\", 'going', 'to', 'tell', 'the', 'truth'], ['I', 'do', 'not', 'go', 'to', 'school'], ['I', 'have', 'three', 'pieces', 'of', 'baggage'], ['I', 'ca', \"n't\", 'find', 'it'], ['The', 'nurse', 'took', 'Tom', \"'s\", 'temperature'], ['I', 'like', 'to', 'eat', 'Korean', 'food'], ['Have', 'you', 'told', 'Tom', 'when', 'the', 'party', 'starts'], ['Tom', 'seems', 'like', 'a', 'very', 'nice', 'guy'], ['Do', \"n't\", 'compare', 'me', 'to', 'a', 'movie', 'star'], ['Are', 'you', 'absolutely', 'sure'], ['Do', 'you', 'think', 'Tom', 'likes', 'Mary'], ['All', 'of', 'us', 'except', 'him', 'went'], ['I', \"'d\", 'rather', 'stay', 'home', 'than', 'go', 'on', 'the', 'school', 'trip'], ['He', 'accused', 'us', 'of', 'wronging', 'him'], ['Every', 'time', 'that', 'I', 'see', 'you', 'I', 'think', 'of', 'my', 'father'], ['What', 'did', 'the', 'doctor', 'say'], ['Of', 'the', 'three', 'girls', 'Emi', 'was', 'the', 'one', 'who', 'danced', 'most', 'beautifully'], ['What', \"'ll\", 'happen', 'next'], ['Gesture', 'is', 'another', 'way', 'of', 'communication'], ['Sometimes', 'I', 'go', 'and', 'sometimes', 'I', 'do', \"n't\"], ['I', 'very', 'nearly', 'had', 'a', 'heart', 'attack', 'and', 'died'], ['Tom', 'is', 'humble'], ['Tom', 'got', 'here', 'before', 'noon'], ['Tom', 'and', 'Mary', 'met', 'for', 'dinner'], ['Tom', 'ate', 'the', 'delicious', 'meal', 'and', 'thought', 'he', 'must', 'be', 'in', 'heaven'], ['Tom', 'ripped', 'up', 'the', 'check'], ['I', \"'d\", 'be', 'glad', 'to', 'tell', 'Tom', 'how', 'to', 'do', 'that'], ['It', 'seems', 'to', 'me', 'that', 'he', 'is', 'honest'], ['I', 'do', 'not', 'and', 'never', 'will', 'feed', 'my', 'dog', 'raw', 'fish'], ['If', 'I', 'want', 'something', 'I', 'get', 'it'], ['These', 'people', 'are', 'amateurs'], ['The', 'problem', 'was', 'very', 'difficult'], ['The', 'gorgeous', 'cake', 'made', 'my', 'mouth', 'water'], ['I', 'noticed', 'a', 'note', 'on', 'my', 'desk', 'but', 'I', 'do', 'not', 'know', 'who', 'wrote', 'it'], ['You', 'did', \"n't\", 'tell', 'me', 'you', 'lived', 'in', 'my', 'neighborhood'], ['Whatever', 'you', 'may', 'say', 'I', 'will', 'not', 'change', 'my', 'opinion'], ['I', 'eat', 'cheese'], ['We', 'elected', 'her', 'captain', 'of', 'our', 'team'], ['Tom', 'does', \"n't\", 'know', 'when', 'Mary', 'left'], ['He', 'decided', 'to', 'be', 'a', 'lawyer'], ['Democracy', 'is', 'the', 'dictatorship', 'of', 'the', 'majority'], ['How', 'does', 'this', 'camera', 'work'], ['She', 'knew', 'neither', 'his', 'address', 'nor', 'his', 'phone', 'number'], ['I', \"'ll\", 'be', 'ready', 'to', 'go', 'in', 'a', 'few', 'minutes'], ['That', \"'s\", 'pretty', 'optimistic'], ['He', 'believes', 'every', 'word', 'I', 'say'], ['I', \"'m\", 'worried', 'about', 'Tom'], ['Turn', 'the', 'lights', 'out', 'now'], ['I', 'have', 'some', 'questions', 'I', \"'d\", 'like', 'to', 'ask', 'Tom'], ['A', 'spider', 'can', 'produce', 'a', 'silky', 'substance', 'from', 'tiny', 'openings', 'on', 'its', 'underside'], ['Finish', 'the', 'job'], ['The', 'audience', 'was', 'deeply', 'affected'], ['I', 'have', 'done', 'all', 'of', 'my', 'homework', 'and', 'I', \"'d\", 'like', 'to', 'take', 'a', 'short', 'break'], ['I', 'feel', 'a', 'pain', 'here'], ['What', \"'s\", 'this', 'all', 'about', 'Tom'], ['She', 'waited', 'and', 'waited', 'but', 'he', 'never', 'came', 'back'], ['The', 'light', 'is', 'green'], ['I', 'have', 'a', 'lot', 'of', 'work', 'to', 'do', 'tomorrow'], ['Do', 'one', 'thing', 'at', 'a', 'time'], ['Are', 'you', 'a', 'policeman'], ['Tom', 'says', 'he', 'wants', 'to', 'spend', 'the', 'rest', 'of', 'his', 'life', 'with', 'you'], ['The', 'striking', 'workers', 'protested', 'their', 'pay', 'cut'], ['Why', 'did', 'you', 'leave', 'like', 'that'], ['Ann', 'gave', 'me', 'this', 'present'], ['Tom', 'is', 'happy', 'when', 'he', 'is', 'with', 'Mary'], ['He', 'eventually', 'married', 'an', 'Italian', 'woman', 'ten', 'years', 'his', 'junior'], ['She', \"'s\", 'gon', 'na', 'kill', 'me'], ['They', 'live', 'in', 'constant', 'dread', 'of', 'floods'], ['I', 'can', 'not', 'possibly', 'help', 'you'], ['There', 'are', 'still', 'some', 'problems'], ['I', 'was', 'just', 'about', 'to', 'come', 'looking', 'for', 'you'], ['Mary', 'asked', 'after', 'his', 'father'], ['I', 'knew', 'that', 'Tom', 'would', 'panic'], ['Tom', 'did', \"n't\", 'utter', 'a', 'single', 'word'], ['Tom', 'is', 'with', 'his', 'mother'], ['Just', 'as', 'I', 'went', 'to', 'go', 'out', 'it', 'began', 'to', 'rain'], ['I', 'do', \"n't\", 'ski', 'but', 'I', 'really', 'like', 'to', 'skate'], ['Take', 'the', 'elevator', 'to', 'the', 'fifth', 'floor'], ['I', 'wish', 'I', 'could', 'come', 'with', 'you'], ['Tom', 'is', 'here', 'with', 'us'], ['What', \"'s\", 'going', 'on', 'in', 'this', 'town'], ['When', 'can', 'I', 'call', 'you'], ['You', 'have', 'a', 'guest'], ['He', 'is', 'ahead', 'of', 'us', 'in', 'mathematics'], ['Mick', 'killed', 'time', 'by', 'reading', 'a', 'magazine', 'while', 'waiting', 'for', 'his', 'date'], ['This', 'book', 'is', 'divided', 'into', 'four', 'parts'], ['He', 'is', 'walking', 'very', 'slowly'], ['Hi', 'Do', 'you', 'work', 'here'], ['My', 'family', 'is', 'from', 'Malaysia'], ['They', 'saw', 'me'], ['I', 'can', 'see', 'I', \"'m\", 'not', 'needed', 'here'], ['I', 'do', \"n't\", 'really', 'like', 'the', 'stores', 'there'], ['The', 'telephone', 'rang', 'while', 'I', 'was', 'having', 'supper'], ['The', 'judge', 'sentenced', 'Tom', 'to', 'three', 'years', 'in', 'prison'], ['You', 'will', 'have', 'to', 'take', 'on', 'someone', 'to', 'do', 'this', 'work'], ['You', 'could', \"n't\", 'have', 'picked', 'a', 'better', 'time'], ['I', 'do', \"n't\", 'want', 'you', 'putting', 'yourself', 'at', 'risk'], ['Did', 'you', 'tell', 'Tom', 'about', 'tonight', \"'s\", 'party'], ['There', \"'s\", 'no', 'mistake'], ['What', 'do', 'these', 'markings', 'mean'], ['I', 'caught', 'on', 'to', 'what', 'the', 'teacher', 'was', 'explaining'], ['I', 'would', 'never', 'do', 'that'], ['I', 'like', 'Roger', 'Federer', 'What', 'tennis', 'player', 'do', 'you', 'like'], ['I', 'wonder', 'what', 'Tom', 'was', 'doing', 'in', 'here'], ['Anything', 'is', 'infinitely', 'better', 'than', 'nothing'], ['We', \"'ll\", 'catch', 'up', 'with', 'you', 'later'], ['Hold', 'on', 'a', 'minute', 'please', 'I', \"'ll\", 'see', 'if', 'he', 'is', 'in'], ['Ann', 'came', 'downstairs'], ['You', 'do', \"n't\", 'have', 'to', 'do', 'it', 'right', 'away'], ['Jump', 'over', 'it'], ['Somebody', 'called', 'Hanry', 'wants', 'to', 'see', 'you'], ['I', \"'m\", 'not', 'working', 'tonight'], ['All', 'this', 'could', 'be', 'for', 'nothing'], ['It', \"'s\", 'a', 'lot', 'colder', 'in', 'Boston', 'than', 'it', 'is', 'here'], ['Tom', 'and', 'Mary', 'reached', 'an', 'agreement'], ['I', 'was', 'just', 'asking', 'a', 'question'], ['He', 'leaned', 'against', 'the', 'wall'], ['I', 'found', 'him', 'to', 'be', 'a', 'good', 'workman'], ['Obviously', 'he', 'is', 'lying'], ['I', 'ate', 'pizza', 'every', 'day', 'last', 'week'], ['It', 'was', 'a', 'victory', 'for', 'the', 'whole', 'country', 'when', 'he', 'finished', 'first', 'in', 'the', 'race'], ['Can', 'you', 'keep', 'it', 'a', 'secret'], ['I', \"'ve\", 'been', 'waiting', 'all', 'day', 'to', 'meet', 'you'], ['Fallen', 'rocks', 'blocked', 'the', 'road'], ['He', 'came', 'to', 'New', 'York', 'in', 'order', 'to', 'look', 'for', 'a', 'job'], ['Translate', 'this', 'book', 'into', 'English'], ['Tony', 'has', 'a', 'nice', 'voice'], ['Yellow', 'fever', 'and', 'smallpox', 'were', 'no', 'longer', 'a', 'threat'], ['I', 'have', \"n't\", 'heard', 'from', 'her', 'since', 'then'], ['May', 'I', 'have', 'another', 'piece', 'of', 'cake'], ['You', \"'re\", 'too', 'generous'], ['It', \"'s\", 'hot'], ['I', 'do', \"n't\", 'think', 'anyone', 'has', 'lived', 'in', 'this', 'house', 'for', 'years'], ['Tom', 'knew', 'certain', 'things', 'about', 'Mary', 'that', 'she', 'hoped', 'he', 'would', \"n't\", 'tell', 'John'], ['How', 'much', 'of', 'this', 'did', 'you', 'know', 'beforehand'], ['Send', 'this', 'message', 'to', 'as', 'many', 'people', 'as', 'you', 'can'], ['Where', 'did', 'you', 'buy', 'that', 'soap'], ['Tom', 'never', 'works', 'on', 'Sunday'], ['That', 'guy', \"'s\", 'a', 'friend', 'of', 'mine'], ['It', 'does', \"n't\", 'sound', 'too', 'bad', 'to', 'me'], ['I', 'ca', \"n't\", 'help', 'thinking', 'about', 'the', 'future'], ['If', 'I', 'were', 'you', 'I', 'would', \"n't\", 'do', 'that', 'kind', 'of', 'thing'], ['Picasso', 'painted', 'this', 'picture', 'in', '1950'], ['She', 'reached', 'her', 'goal'], ['He', 'was', 'refused', 'medical', 'treatment'], ['We', \"'ve\", 'got', 'a', 'busy', 'day', 'ahead', 'of', 'us'], ['That', \"'s\", 'my', 'fault'], ['Tom', 'does', \"n't\", 'like', 'wearing', 'red'], ['You', \"'re\", 'always', 'in', 'front', 'of', 'the', 'TV'], ['You', 'had', 'better', 'not', 'wait', 'any', 'longer'], ['Mama', 'cried'], ['I', 'study', 'psychology'], ['Tom', 'loves', 'pizza', 'and', 'French', 'fries'], ['Tom', 'feels', 'a', 'little', 'better', 'this', 'morning'], ['Cloning', 'people', 'raises', 'serious', 'ethical', 'problems'], ['How', 'did', 'it', 'feel', 'when', 'it', 'happened'], ['I', 'could', \"n't\", 'have', 'gotten', 'this', 'far', 'without', 'your', 'help'], ['We', 'do', \"n't\", 'talk', 'like', 'that', 'here'], ['In', 'the', '19th', 'century', 'the', 'number', 'of', 'immigrants', 'increased', 'rapidly'], ['How', 'did', 'you', 'reply'], ['Are', 'you', 'sure', 'Tom', 'wo', \"n't\", 'be', 'here', 'until', '2:30'], ['I', 'got', 'it'], ['His', 'bike', 'is', 'better', 'than', 'mine'], ['I', 'think', 'Tom', 'has', 'seen', 'too', 'much'], ['What', 'are', 'you', 'guys', 'doing', 'here'], ['Would', 'you', 'please', 'step', 'back'], ['We', \"'ve\", 'got', 'three', 'hours', 'left'], ['Can', 'I', 'get', 'a', 'dog'], ['He', 'is', 'anxious', 'for', 'her', 'to', 'come'], ['Tom', 'is', 'a', 'confirmed', 'bachelor'], ['This', 'is', \"n't\", 'a', 'very', 'good', 'company'], ['Tom', 'looks', 'uninterested'], ['Which', 'highway', 'leads', 'to', 'the', 'football', 'stadium'], ['There', 'is', 'a', 'generation', 'gap', 'between', 'them'], ['``', 'Where', 'have', 'you', 'been', \"''\", '``', 'I', \"'ve\", 'been', 'to', 'the', 'dentist', \"''\"], ['I', \"'m\", 'not', 'your', 'assistant', 'anymore'], ['Tom', 'seemed', 'to', 'be', 'pretty', 'interested', 'in', 'what', 'Mary', 'was', 'doing'], ['Where', \"'s\", 'the', 'restroom'], ['Leave', 'me', 'a', 'bit', 'of', 'ice', 'cream'], ['I', 'had', 'nothing', 'to', 'do', 'with', 'the', 'accident'], ['You', \"'ll\", 'be', 'asked', 'why', 'you', 'want', 'to', 'be', 'a', 'teacher'], ['I', \"'m\", 'never', 'going', 'out', 'with', 'Mary', 'again'], ['I', 'want', 'to', 'give', 'you', 'some', 'money', 'to', 'help', 'you', 'through', 'these', 'hard', 'times'], ['Mary', 'is', 'wearing', 'a', 'white', 'dress', 'today'], ['Tom', 'would', \"n't\", 'allow', 'me', 'in', 'his', 'office'], ['I', \"'m\", 'going', 'to', 'stop', 'smoking', 'for', 'good'], ['I', 'do', \"n't\", 'disagree'], ['Rain', 'or', 'shine', 'the', 'opening', 'ceremony', 'is', 'to', 'begin', 'at', 'nine'], ['A', 'good', 'coach', 'is', 'like', 'a', 'father', 'to', 'his', 'players'], ['Is', 'your', 'gun', 'loaded'], ['The', 'company', 'went', 'bankrupt'], ['Do', 'want', 'to', 'come', 'inside'], ['Tom', 'shares', 'a', 'bedroom', 'with', 'his', 'brother'], ['He', 'looks', 'terrific'], ['We', \"'d\", 'appreciate', 'a', 'reply'], ['If', 'you', 'want', 'a', 'new', 'bike', 'you', \"'d\", 'better', 'start', 'saving', 'up'], ['We', 'often', 'eat', 'fish', 'raw', 'in', 'Japan'], ['All', 'of', 'us', 'speak', 'French'], ['This', 'conversation', 'is', 'being', 'recorded'], ['Large', 'cars', 'use', 'lots', 'of', 'gas'], ['How', \"'s\", 'everyone', 'doing'], ['That', 'was', 'crazy'], ['I', 'am', 'going', 'to', 'Osaka', 'station'], ['I', \"'m\", 'really', 'concerned', 'about', 'your', 'future'], ['It', 'was', 'hot'], ['Did', \"n't\", 'you', 'write', 'a', 'letter', 'to', 'him'], ['Can', 'I', 'ask', 'a', 'favor'], ['Tom', 'moved', 'to', 'Australia'], ['You', \"'re\", 'forgetting', 'one', 'very', 'important', 'thing'], ['Where', 'do', 'you', 'keep', 'your', 'passport'], ['It', \"'s\", 'an', 'important', 'step'], ['Can', 'I', 'bring', 'you', 'anything', 'else'], ['There', 'was', 'a', 'great', 'deal', 'of', 'snow', 'last', 'year'], ['There', 'is', 'a', 'disproportionate', 'number', 'of', 'girls', 'in', 'the', 'class'], ['I', 'need', 'a', 'knife'], ['I', 'do', \"n't\", 'know', 'where', 'to', 'begin'], ['She', 'dived', 'into', 'the', 'swimming', 'pool'], ['He', 'showed', 'me', 'the', 'manuscript', 'of', 'his', 'new', 'play'], ['Would', 'you', 'and', 'your', 'friends', 'like', 'to', 'play', 'basketball', 'with', 'us'], ['I', 'do', \"n't\", 'like', 'the', 'ocean'], ['Warn', 'me', 'never', 'to', 'go', 'there', 'again'], ['I', 'did', \"n't\", 'do', 'anything', 'for', 'Tom'], ['He', 'can', 'make', 'himself', 'understood', 'in', 'English'], ['My', 'parents', 'were', 'surprised', 'to', 'hear', 'the', 'news'], ['You', \"'re\", 'the', 'new', 'guy', 'are', \"n't\", 'you'], ['We', 'must', 'continue', 'to', 'study', 'as', 'long', 'as', 'we', 'live'], ['Tom', 'did', \"n't\", 'remember', 'to', 'pay', 'his', 'rent'], ['He', 'got', 'a', 'position', 'as', 'a', 'clerk'], ['Computers', 'are', 'complex', 'machines'], ['Why', 'do', \"n't\", 'you', 'come'], ['Try', 'it', 'once', 'more'], ['Tom', 'is', 'looking', 'for', 'his', 'glasses'], ['Tom', 'separated', 'the', 'items', 'into', 'three', 'piles'], ['I', 'could', 'do', 'this', 'myself'], ['Our', 'child', 'likes', 'dogs', 'but', 'I', 'prefer', 'cats'], ['You', 'can', 'rely', 'on', 'his', 'proven', 'ability'], ['Admission', 'is', 'free'], ['She', 'looks', 'like', 'an', 'Indian'], ['Tom', 'looked', 'furious'], ['I', 'hate', 'these', 'words'], ['Tom', 'did', \"n't\", 'offer', 'us', 'anything', 'to', 'drink'], ['Tom', 'is', \"n't\", 'very', 'talkative'], ['It', \"'ll\", 'be', 'forgotten', 'in', 'a', 'few', 'months', 'time'], ['I', 'can', 'see', 'some', 'Japanese', 'people', 'here'], ['This', 'is', 'ridiculous'], ['Can', 'I', 'drop', 'you', 'off'], ['He', 'is', 'a', 'harsh', 'critic'], ['How', 'do', 'you', 'usually', 'decide', 'what', 'to', 'eat'], ['French', 'is', 'spoken', 'in', 'France'], ['I', 'have', \"n't\", 'gotten', 'over', 'my', 'bad', 'cold', 'yet'], ['Please', 'tell', 'me', 'how', 'to', 'get', 'to', 'your', 'house'], ['He', 'talks', 'as', 'if', 'he', 'were', 'a', 'teacher'], ['Tulips', 'will', 'bloom', 'soon'], ['He', 'came', 'to', 'see', 'me', 'during', 'my', 'absence'], ['Do', \"n't\", 'feel', 'so', 'bad'], ['I', 'have', 'an', 'idea', 'how', 'we', 'can', 'do', 'this', 'more', 'efficiently'], ['He', 'tends', 'to', 'get', 'angry', 'when', 'he', 'does', \"n't\", 'have', 'his', 'own', 'way'], ['You', 'should', 'run', 'for', 'governor'], ['That', 'is', 'his', 'car'], ['On', 'arriving', 'in', 'Kyoto', 'he', 'went', 'home'], ['I', 'go', 'to', 'school', 'at', 'seven', \"o'clock\"], ['They', 'just', 'want', 'to', 'talk', 'to', 'Tom'], ['She', 'whispered', 'something', 'to', 'him'], ['Do', \"n't\", 'you', 'think', 'I', 'know', 'my', 'own', 'brother'], ['I', 'like', 'to', 'dress', 'this', 'way'], ['You', 'might', 'have', 'said', 'something', 'earlier'], ['Maybe', 'Tom', 'can', 'remember', 'what', 'happened'], ['It', 'is', 'no', 'laughing', 'matter'], ['I', 'used', 'to', 'be', 'the', 'same', 'age', 'as', 'you'], ['The', 'shop', 'is', 'closed', 'today'], ['He', 'has', 'gained', 'enough', 'wisdom', 'not', 'to', 'say', 'so'], ['I', 'became', 'friends', 'with', 'him', 'while', 'I', 'was', 'in', 'Taiwan'], ['Aoi', 'is', 'a', 'good', 'dancer'], ['I', \"'m\", 'not', 'a', 'thief'], ['I', \"'m\", 'feeling', 'a', 'little', 'nervous', 'right', 'now'], ['I', \"'m\", 'glad', 'you', 'were', \"n't\", 'here'], ['I', 'told', 'Tom', 'to', 'clean', 'his', 'room'], ['I', 'thought', 'it', 'was', 'really', 'cute'], ['Now', 'that', 'he', 'has', 'graduated', 'he', 'must', 'become', 'more', 'serious'], ['I', 'do', \"n't\", 'have', 'any', 'free', 'time', 'today'], ['Is', 'Tom', 'nuts'], ['She', 'asked', 'him', 'to', 'sit', 'down'], ['I', \"'ve\", 'made', 'a', 'list', 'of', 'foods', 'that', 'I', 'ca', \"n't\", 'eat'], ['One', 'who', 'knows', 'no', 'love', 'knows', 'no', 'unhappiness'], ['We', 'were', \"n't\", 'amused'], ['Do', \"n't\", 'make', 'this', 'personal'], ['Be', 'careful', 'with', 'Tom'], ['Mary', 'loves', 'to', 'ride', 'her', 'horse'], ['No', 'boy', 'in', 'the', 'class', 'is', 'taller', 'than', 'Bill'], ['He', 'is', 'flying', 'to', 'Paris', 'tomorrow'], ['Tom', 'did', \"n't\", 'buy', 'what', 'I', 'asked', 'him', 'to'], ['I', 'had', 'half', 'a', 'mind', 'to', 'throw', 'in', 'the', 'towel'], ['I', 'do', \"n't\", 'need', 'this', 'anymore'], ['I', \"'m\", 'glad', 'you', 'could', 'come'], ['You', \"'re\", 'going', 'to', 'be', 'just', 'fine'], ['You', 'had', 'better', 'consult', 'with', 'your', 'teacher'], ['Tom', 'is', 'in', 'the', 'hospital'], ['That', \"'s\", 'confusing'], ['It', 'was', 'a', 'nervous', 'moment', 'for', 'me'], ['He', 'had', 'no', 'more', 'than', '10,000', 'yen'], ['I', 'could', 'have', 'done', 'it', 'by', 'myself'], ['What', \"'s\", 'your', 'opinion', 'of', 'Japanese', 'food'], ['I', 'think', 'that', 'they', 'will', 'be', 'late'], ['This', 'is', 'the', 'house', 'where', 'Tom', 'was', 'brought', 'up'], ['What', \"'s\", 'your', 'hurry'], ['I', 'began', 'driving', 'our', 'tractor', 'when', 'I', 'was', '12', 'years', 'old', 'to', 'help', 'my', 'father', 'out', 'at', 'harvest', 'time'], ['I', 'ca', \"n't\", 'figure', 'out', 'why', 'he', 'did', \"n't\", 'tell', 'the', 'truth'], ['Do', 'you', 'know', 'what', 'happiness', 'is'], ['We', 'still', 'have', 'a', 'lot', 'to', 'cover'], ['Did', 'Tom', 'ever', 'talk', 'about', 'his', 'father'], ['I', 'think', 'I', 'broke', 'Tom', \"'s\", 'heart'], ['She', 'is', 'a', 'very', 'nice', 'person'], ['Please', 'come', 'to', 'meet', 'me', 'some', 'time', 'when', 'it', \"'s\", 'convenient'], ['The', 'movie', 'was', 'a', 'real', 'disappointment'], ['Last', 'night', 'he', 'saw', 'a', 'UFO', 'in', 'the', 'sky'], ['As', 'anticipated', 'we', 'have', 'had', 'some', 'problems'], ['Do', 'you', 'know', 'his', 'older', 'brother'], ['He', 'left', 'Japan', 'for', 'Europe'], ['We', 'all', 'did', 'well'], ['Do', \"n't\", 'evade', 'the', 'question'], ['I', 'have', 'complete', 'faith', 'in', 'my', 'doctor'], ['I', 'think', 'it', \"'s\", 'a', 'wild', 'goose', 'chase'], ['Mary', 'and', 'I', 'are', 'engaged'], ['Two', 'men', 'wearing', 'ski', 'masks', 'entered', 'the', 'bank'], ['Is', 'it', 'true', 'that', 'you', 'came', 'by', 'plane'], ['The', 'majority', 'of', 'large', 'Japanese', 'companies', 'depend', 'on', 'exports'], ['He', 'was', 'the', 'champion', 'for', 'three', 'years'], ['What', \"'s\", 'that', 'called'], ['He', 'has', 'aged', 'a', 'great', 'deal', 'lately'], ['Bring', 'wine'], ['The', 'calf', 'was', 'born', 'this', 'morning'], ['Stay', 'sharp'], ['It', \"'ll\", 'work'], ['Tom', 'does', \"n't\", 'want', 'his', 'son', 'to', 'turn', 'out', 'like', 'me'], ['It', \"'s\", 'just', 'a', 'matter', 'of', 'time', 'before', 'Tom', 'gets', 'into', 'trouble', 'again'], ['Is', 'there', 'a', 'toilet', 'near', 'here'], ['I', 'obeyed', 'the', 'rules'], ['What', 'he', 'said', 'was', 'by', 'no', 'means', 'true'], ['It', \"'s\", 'not', 'the', 'first', 'time'], ['Tom', 'considered', 'working', 'for', 'our', 'company', 'but', 'decided', 'not', 'to'], ['I', 'do', \"n't\", 'want', 'a', 'drink'], ['Tom', 'is', 'waiting', 'in', 'the', 'lobby'], ['It', 'belongs', 'to', 'my', 'brother'], ['I', 'do', \"n't\", 'have', 'as', 'much', 'free', 'time', 'as', 'you', 'do'], ['Being', 'unemployed', 'gave', 'me', 'the', 'chance', 'to', 'stand', 'back', 'and', 'think', 'about', 'my', 'life'], ['I', 'should', 'have', 'kept', 'my', 'mouth', 'shut'], ['They', 'attend', 'every', 'meeting'], ['Do', \"n't\", 'say', 'things', 'like', 'that'], ['Thank', 'you', 'for', 'drawing', 'a', 'bird', 'for', 'me'], ['I', \"'m\", 'not', 'cleaning', 'that', 'up'], ['I', 'used', 'to', 'eat', 'pizza'], ['You', \"'d\", 'better', 'stay', 'with', 'me'], ['Tom', 'needed', 'food'], ['I', 'hope', 'you', 'like', 'this', 'gift'], ['Tom', 'opened', 'the', 'glove', 'compartment', 'and', 'took', 'out', 'his', 'registration'], ['He', 'and', 'I', 'discussed', 'the', 'waste', 'problem', 'in', 'terms', 'of', 'recycling'], ['Tom', 'expects', 'Mary', 'to', 'come', 'back', 'soon'], ['They', 'found', 'Tom'], ['They', 'blamed', 'him', 'for', 'failing', 'to', 'improve', 'the', 'economy'], ['We', 'are', 'having', 'fish', 'for', 'our', 'main', 'course'], ['This', 'is', 'a', 'wooden', 'table'], ['Nobody', 'anticipated', 'such', 'a', 'sharp', 'decline', 'in', 'interest', 'rates'], ['As', 'usual', 'Tom', 'was', 'late'], ['Strange', 'to', 'say', 'no', 'one', 'voted', 'for', 'the', 'candidate'], ['Tom', 'left', 'his', 'bag'], ['Tom', 'did', \"n't\", 'tell', 'the', 'truth'], ['I', 'should', \"'ve\", 'thought', 'of', 'that', 'myself'], ['Are', \"n't\", 'you', 'going', 'to', 'eat', 'it'], ['Someone', 'should', 'tell', 'Tom'], ['Take', 'me', 'home'], ['Is', 'it', 'true', 'that', 'Tom', 'jumped', 'in', 'front', 'of', 'a', 'bus'], ['Everyone', 'makes', 'that', 'mistake'], ['She', 'did', 'not', 'succeed', 'but', 'after', 'all', 'that', 'was', 'her', 'first', 'attempt'], ['I', 'thought', 'Tom', 'might', 'be', 'the', 'one', 'responsible', 'for', 'the', 'problem'], ['Keep', 'the', 'toilet', 'clean'], ['If', 'you', 'use', 'the', 'money', 'you', 'will', 'have', 'to', 'answer', 'for', 'it', 'later'], ['Australia', 'is', 'rich', 'in', 'natural', 'resources'], ['I', \"'m\", 'looking', 'forward', 'to', 'seeing', 'you', 'one', 'of', 'these', 'days'], ['I', 'hope', 'your', 'business', 'trip', 'to', 'France', 'was', 'successful'], ['We', 'were', 'not', 'invited', 'to', 'the', 'party'], ['Just', 'looking', 'at', 'her', 'you', 'can', 'see', 'that', 'she', 'loves', 'you'], ['We', 'all', 'have', 'families'], ['I', \"'ll\", 'be', 'back', 'for', 'you', 'later'], ['You', \"'d\", 'better', 'hurry', 'up', 'if', 'you', 'want', 'to', 'get', 'home', 'before', 'dark'], ['His', 'father', 'eats', 'there', 'twice', 'a', 'week'], ['I', 'smell', 'something', 'awful'], ['I', 'assumed', 'you', 'would', 'come'], ['The', 'region', 'has', 'never', 'been', 'inhabited', 'by', 'people'], ['I', \"'m\", 'the', 'only', 'one', 'qualified', 'to', 'do', 'this'], ['Give', 'help', 'to', 'anyone', 'who', 'needs', 'it'], ['I', 'strolled', 'along', 'the', 'streets', 'to', 'kill', 'time'], ['We', 'keep', 'a', 'collie', 'as', 'a', 'pet'], ['I', 'suppose', 'he', \"'s\", 'gone', 'home'], ['She', 'advised', 'him', 'not', 'to', 'drive', 'too', 'fast', 'but', 'he', 'would', \"n't\", 'listen', 'to', 'her'], ['Tom', 'does', \"n't\", 'want', 'to', 'do', 'anything', 'to', 'hurt', 'Mary'], ['I', 'have', 'small', 'hands'], ['Are', 'you', 'going', 'to', 'come', 'tomorrow'], ['Tom', 'entered', 'without', 'knocking'], ['There', 'is', 'something', 'more'], ['I', 'want', 'to', 'know', 'where', 'Tom', 'is'], ['I', 'came', 'here', 'to', 'see', 'Tom'], ['You', 'left', 'me', 'no', 'choice'], ['I', 'studied', 'for', 'a', 'year', 'in', 'Boston'], ['It', 'was', \"n't\", 'bad'], ['Modern', 'science', 'has', 'turned', 'many', 'impossibilities', 'into', 'possibilities'], ['It', 'was', 'obvious', 'that', 'Tom', 'was', 'trying', 'to', 'get', 'Mary', \"'s\", 'attention'], ['I', 'love', 'her', 'perfume'], ['I', 'do', \"n't\", 'know', 'if', 'I', 'can', 'trust', 'Tom'], ['I', 'wish', 'I', \"'d\", 'kept', 'up', 'my', 'Chinese', 'I', 'need', 'it', 'for', 'my', 'job'], ['How', 'much', 'does', 'Tom', 'really', 'know', 'about', 'what', 'happened', 'to', 'Mary'], ['Tom', 'thinks', 'Mary', 'is', 'cute'], ['Tom', 'does', \"n't\", 'want', 'to', 'see', 'Mary', 'at', 'all'], ['I', 'used', 'to', 'play', 'in', 'a', 'band', 'with', 'Tom'], ['Who', 'is', 'that'], ['Let', \"'s\", 'hope', 'Tom', 'is', \"n't\", 'dead'], ['The', 'wind', 'began', 'to', 'blow'], ['Whose', 'book', 'is', 'this'], ['Tom', 'wo', \"n't\", 'care', 'what', 'we', 'say'], ['I', 'like', 'trains'], ['Tom', 'got', 'used', 'to', 'ignoring', 'the', 'noise'], ['Do', \"n't\", 'lump', 'all', 'these', 'issues', 'together', 'You', 'need', 'to', 'give', 'every', 'single', 'one', 'careful', 'consideration'], ['I', 'remember', 'having', 'a', 'hot', 'discussion', 'about', 'the', 'matter', 'with', 'him'], ['Before', 'the', 'crash', 'Tom', 'had', 'been', 'hoping', 'to', 'become', 'a', 'professional', 'tennis', 'player'], ['This', 'does', \"n't\", 'concern', 'you'], ['He', 'was', 'brought', 'up', 'in', 'Australia'], ['Which', 'is', 'larger', 'Japan', 'or', 'England'], ['The', 'teacher', 'pointed', 'to', 'the', 'blackboard'], ['He', 'has', 'been', 'sitting', 'there', 'for', 'two', 'hours'], ['Do', 'I', 'need', 'to', 'reconfirm'], ['If', 'something', 'happened', 'to', 'you', 'I', 'do', \"n't\", 'know', 'what', 'I', \"'d\", 'do'], ['I', 'have', 'to', 'be', 'in', 'Boston', 'in', 'the', 'morning'], ['My', 'responsibility', 'is', 'to', 'keep', 'the', 'company', 'solvent'], ['Education', 'starts', 'at', 'home'], ['Tom', 'gave', 'Mary', 'a', 'kiss', 'on', 'the', 'forehead'], ['I', 'never', 'really', 'gave', 'it', 'much', 'thought'], ['That', \"'s\", 'serious'], ['I', 'do', \"n't\", 'want', 'to', 'work', 'today'], ['Shanghai', 'is', 'referred', 'to', 'as', 'the', 'Paris', 'of', 'the', 'East'], ['There', 'was', 'no', 'answer', 'to', 'my', 'question'], ['I', 'find', 'it', 'much', 'easier', 'to', 'speak', 'French', 'than', 'English'], ['Do', 'you', 'know', 'if', 'Tom', 'is', 'here'], ['Tom', 'looks', 'like', 'he', \"'s\", 'drunk'], ['I', \"'d\", 'be', 'disappointed', 'if', 'you', 'did', \"n't\", 'come', 'to', 'my', 'party'], ['I', \"'d\", 'like', 'to', 'see', 'you'], ['I', 'heard', 'Tom', 'and', 'Mary', 'fighting'], ['Give', 'me', 'some', 'room', 'here'], ['You', \"'d\", 'better', 'go', 'home'], ['Tom', 'had', 'only', 'one', 'chance', 'to', 'get', 'things', 'right'], ['Patience', 'is', 'a', 'rare', 'virtue', 'these', 'days'], ['Tom', 'asked', 'his', 'father', 'if', 'he', 'could', 'go', 'to', 'a', 'movie'], ['Is', 'there', 'a', 'problem', 'with', 'him'], ['I', \"'ve\", 'been', 'friends', 'with', 'him', 'since', 'we', 'were', 'children'], ['I', 'did', \"n't\", 'want', 'to', 'spend', 'any', 'more', 'time', 'with', 'Tom'], ['Are', 'you', 'seriously', 'asking', 'me', 'to', 'give', 'that', 'to', 'you'], ['Nothing', 'valuable', 'can', 'be', 'lost', 'by', 'taking', 'time'], ['Tom', 'told', 'Mary', 'he', \"'d\", 'never', 'been', 'to', 'a', 'nude', 'beach'], ['He', 'is', 'busy', 'preparing', 'for', 'the', 'entrance', 'examination'], ['A', 'great', 'change', 'has', 'come', 'about', 'after', 'the', 'war'], ['No', 'wonder', 'you', 'are', 'so', 'happy'], ['Tom', 'makes', 'a', 'lot', 'more', 'money', 'than', 'I', 'do'], ['The', 'rebels', 'have', 'captured', 'the', 'broadcasting', 'station'], ['Do', 'what', 'you', 'think', 'is', 'best'], ['Tom', 'is', 'being', 'very', 'brave'], ['We', 'had', 'a', 'heart-to-heart', 'talk', 'with', 'each', 'other'], ['He', 'went', 'abroad', 'to', 'raise', 'fund', 'for', 'the', 'project'], ['I', 'think', 'what', 'Tom', 'is', 'doing', 'is', 'worthwhile'], ['The', 'planes', 'arrived', 'one', 'after', 'another'], ['What', 'are', 'you', 'still', 'doing', 'here'], ['I', 'know', 'it', \"'s\", 'hard', 'to', 'find', 'the', 'time', 'but', 'could', 'you', 'proofread', 'this', 'for', 'me', 'before', 'next', 'Monday'], ['Let', 'me', 'tell', 'you', 'a', 'story'], ['You', 'look', 'exhausted'], ['I', 'have', 'to', 'admit', 'I', 'was', 'starting', 'to', 'feel', 'a', 'little', 'sorry', 'for', 'myself'], ['Tom', 'is', 'helping', 'Mary', 'carry', 'in', 'her', 'suitcases'], ['Tell', 'Tom', 'it', \"'s\", 'not', 'my', 'fault'], ['Come', 'on', 'home'], ['She', 'carried', 'the', 'box', 'under', 'her', 'arm'], ['Your', 'names', 'were', 'crossed', 'off', 'the', 'list'], ['It', 'was', 'Tom', 'who', 'first', 'suggested', 'that', 'this', 'might', 'be', 'the', 'cause'], ['They', 'need', 'to', 'feel', 'safe'], ['The', 'rebels', 'sabotaged', 'the', 'railroad'], ['Put', 'your', 'room', 'in', 'order'], ['She', 'put', 'the', 'key', 'in', 'her', 'pocket'], ['Is', \"n't\", 'this', 'wonderful'], ['It', \"'s\", 'settled', 'then'], ['We', \"'ll\", 'be', 'leaving', 'soon'], ['The', 'expensive', 'machine', 'turned', 'out', 'to', 'be', 'of', 'no', 'use'], ['Can', 'you', 'sew', 'on', 'these', 'buttons', 'for', 'me'], ['I', 'guess', 'you', 'do', \"n't\", 'remember', 'me'], ['You', 'must', 'go', 'on', 'a', 'diet', 'because', 'you', 'are', 'too', 'fat'], ['You', 'continue', 'making', 'the', 'same', 'mistakes', 'time', 'after', 'time'], ['Tom', 'is', 'ready', 'to', 'go', 'out'], ['Tom', 'is', 'sitting', 'by', 'the', 'campfire'], ['Tom', 'and', 'Mary', 'have', 'become', 'very', 'good', 'friends'], ['I', 'am', 'not', 'in', 'the', 'least', 'surprised'], ['Taxi', 'fares', 'will', 'go', 'up', 'next', 'month'], ['Just', 'try', 'and', 'stay', 'calm'], ['An', 'old', 'woman', 'limped', 'along', 'the', 'street'], ['I', 'want', 'to', 'tell', 'you', 'a', 'strange', 'thing'], ['I', 'think', 'Tom', 'is', 'going', 'to', 'get', 'fired'], ['I', 'do', \"n't\", 'want', 'to', 'talk', 'about', 'love'], ['You', 'should', 'study', 'French', 'harder'], ['I', \"'m\", 'not', 'worried', 'about', 'the', 'meeting'], ['We', 'have', 'a', 'long', 'ways', 'to', 'go'], ['I', \"'ll\", 'set', 'it', 'up', 'with', 'Tom'], ['He', 'applied', 'for', 'the', 'position'], ['You', 'wo', \"n't\", 'be', 'punished'], ['I', 'do', \"n't\", 'understand', 'you', 'people'], ['I', 'arrived', 'here', 'last', 'night'], ['Life', 'being', 'very', 'short', 'you', 'ought', 'not', 'to', 'waste', 'your', 'time'], ['That', 'shows', 'the', 'depth', 'of', 'his', 'love', 'for', 'his', 'family'], ['Can', 'I', 'do', 'it', 'again'], ['You', \"'d\", 'better', 'not', 'speak'], ['Scott', 'believed', 'it', 'would', 'be', 'a', 'long', 'war'], ['Has', 'Jane', 'left', 'Japan', 'for', 'good'], ['You', 'need', 'not', 'do', 'so'], ['Rock', 'the', 'baby', 'to', 'sleep'], ['You', \"'re\", 'no', 'fun', 'at', 'all'], ['I', 'was', 'afraid', 'that', 'it', 'might', 'hurt', 'her', 'feelings'], ['Somebody', 'has', 'to', 'take', 'the', 'blame'], ['All', 'parents', 'like', 'to', 'have', 'their', 'children', 'praised'], ['Tom', 'certainly', 'fooled', 'us', 'all'], ['Tom', 'told', 'Mary', 'that', 'it', 'was', 'too', 'hot', 'to', 'play', 'outside'], ['I', 'could', \"n't\", 'prevent', 'Tom', 'from', 'eating', 'all', 'the', 'cookies'], ['I', 'forgot', 'my', 'jacket'], ['I', 'told', 'my', 'wife', 'to', 'get', 'ready', 'in', 'a', 'hurry'], ['For', 'that', 'price', 'you', 'should', 'be', 'able', 'to', 'get', 'something', 'better'], ['Tom', 'became', 'a', 'successful', 'photographer'], ['I', 'was', 'coughing'], ['I', 'speak', 'French', 'every', 'day', 'at', 'work'], ['Language', 'and', 'culture', 'ca', \"n't\", 'be', 'separated'], ['Truman', 'had', 'three', 'difficult', 'choices'], ['He', 'had', 'his', 'hair', 'cut', 'short'], ['Cosmetic', 'surgery', 'is', 'not', 'covered', 'by', 'most', 'insurance', 'plans'], ['I', \"'m\", 'just', 'a', 'taxi', 'driver'], ['It', \"'s\", 'not', 'about', 'that'], ['You', \"'re\", 'just', 'scared'], ['Tom', 'does', 'little', 'other', 'than', 'play', 'the', 'guitar'], ['I', 'visited', 'him', 'once', 'in', 'a', 'while'], ['This', 'happens', 'to', 'be', 'mine'], ['I', 'knew', 'you', 'would', 'get', 'it'], ['The', 'policy', 'of', 'the', 'government', 'was', 'criticized', 'by', 'the', 'opposition', 'party'], ['You', 'deserve', 'better', 'than', 'that'], ['The', 'report', 'is', 'being', 'prepared', 'by', 'the', 'committee'], ['After', 'lunch', 'they', 'usually', 'have', 'a', 'nap'], ['I', \"'ll\", 'call', 'you', 'up', 'around', 'eight', 'this', 'evening'], ['Listen', 'and', 'I', \"'ll\", 'explain'], ['We', \"'ll\", 'order', 'a', 'pizza'], ['No', 'criminal', 'charges', 'will', 'be', 'filed', 'against', 'you'], ['Tom', 'and', 'I', 'were', 'born', 'on', 'the', 'same', 'day'], ['Some', 'of', 'these', 'young', 'people', 'have', 'legs', 'twice', 'as', 'long', 'as', 'mine'], ['He', 'left', 'the', 'country', 'after', 'his', 'grandfather', \"'s\", 'death'], ['Do', 'you', 'want', 'something', 'to', 'drink'], ['I', 'promise', 'I', \"'ll\", 'try'], ['The', 'crowd', 'went', 'wild', 'when', 'the', 'news', 'was', 'announced'], ['I', \"'m\", 'glad', 'I', \"'m\", 'Tom', \"'s\", 'friend'], ['Who', 'was', 'it'], ['General', 'Erwin', 'Rommel', 'was', 'brave', 'and', 'smart'], ['I', 'think', 'you', 'might', 'need', 'me'], ['I', 'meant', 'to', 'call', 'but', 'I', 'forgot'], ['My', 'TV', 'is', 'on', 'the', 'fritz', 'again'], ['Tom', 'always', 'worries', 'about', 'his', 'daughter'], ['Tom', 'does', \"n't\", 'know', 'when', 'Mary', 'got', 'married'], ['A', 'few', 'days', 'later', 'he', 'came'], ['She', 'would', 'rather', 'go', 'by', 'train', 'than', 'by', 'plane'], ['Marie', 'took', 'the', 'wrong', 'train'], ['Tom', 'flicked', 'off', 'the', 'TV'], ['Tom', 'punched', 'somebody'], ['I', \"'m\", 'not', 'sure', 'Tom', 'would', 'want', 'Mary', 'to', 'kiss', 'him'], ['Tom', 'and', 'Mary', 'have', 'a', 'very', 'complicated', 'relationship'], ['Things', 'did', \"n't\", 'go', 'the', 'way', 'I', 'planned'], ['You', 'ca', \"n't\", 'possibly', 'really', 'believe', 'that'], ['You', 'simply', 'do', \"n't\", 'understand'], ['I', 'have', 'to', 'find', 'my', 'pen'], ['You', 'wo', \"n't\", 'even', 'remember', 'me', 'a', 'few', 'years', 'from', 'now'], ['We', \"'d\", 'be', 'safe', 'there'], ['I', 'gave', 'Tom', 'no', 'choice'], ['I', \"'m\", 'sure', 'we', \"'d\", 'be', 'able', 'to', 'get', 'this', 'done', 'by', '2:30', 'if', 'Tom', 'helped', 'us'], ['My', 'physics', 'teacher', 'does', \"n't\", 'care', 'if', 'I', 'skip', 'classes'], ['He', 'can', 'run', 'the', 'fastest', 'in', 'his', 'class'], ['I', 'was', 'playing', 'a', 'game', 'when', 'I', 'felt', 'an', 'earthquake'], ['Tom', 'was', 'cautiously', 'optimistic'], ['Tom', 'has', 'calmed', 'down'], ['The', 'company', 'is', 'turning', 'to', 'export', 'markets', 'to', 'make', 'up', 'for', 'a', 'decline', 'in', 'domestic', 'sales'], ['Why', 'should', 'I', 'talk', 'to', 'you'], ['Tom', 'ca', \"n't\", 'ever', 'seem', 'to', 'make', 'up', 'his', 'mind'], ['Tom', 'told', 'me', 'you', 'needed', 'my', 'help'], ['Tom', 'said', 'I', 'was', 'supposed', 'to', 'talk', 'to', 'you'], ['This', 'coat', 'is', 'too', 'short', 'on', 'me'], ['Tom', 'was', 'scared'], ['The', 'train', 'was', 'so', 'packed', 'that', 'I', 'had', 'to', 'stand', 'up', 'during', 'the', 'whole', 'trip'], ['That', \"'s\", 'remarkable'], ['Tell', 'her', 'that', 'I', 'am', 'angry'], ['I', \"'d\", 'like', 'to', 'talk', 'with', 'Tony'], ['Words', 'can', 'not', 'express', 'the', 'extent', 'to', 'which', 'you', 'are', 'wrong'], ['Japan', \"'s\", 'army', 'was', 'very', 'powerful'], ['Tom', 'is', 'pleased'], ['I', 'think', 'of', 'him', 'as', 'one', 'of', 'my', 'good', 'friends'], ['I', \"'ll\", 'never', 'forgive', 'myself'], ['What', 'did', 'Tom', 'have', 'to', 'do', 'with', 'it'], ['Glass', 'is', 'made', 'from', 'sand'], ['I', 'know', 'you', \"'re\", 'probably', 'mad', 'about', 'what', 'I', 'said', 'yesterday'], ['We', \"'re\", 'all', 'together', 'right', 'now'], ['His', 'laziness', 'is', 'a', 'bad', 'sign', 'for', 'the', 'future'], ['You', 'are', 'a', 'bit', 'fat'], ['We', 'bedded', 'down', 'at', 'the', 'roadside', 'park', 'for', 'the', 'night'], ['Ca', \"n't\", 'this', 'wait', 'until', 'things', 'are', 'back', 'to', 'normal'], ['It', 'has', 'been', 'snowing', 'on', 'and', 'off'], ['Tom', 'plowed', 'his', 'way', 'through', 'the', 'crowd'], ['It', \"'s\", 'just', 'like', 'you', 'say'], ['Who', 'asked', 'for', 'your', 'opinion', 'anyway'], ['He', 'warned', 'me', 'that', 'I', 'would', 'fail'], ['Are', 'you', 'going', 'to', 'attend', 'ceremony'], ['Tom', 'bowed', 'to', 'his', 'teacher'], ['I', 'was', 'nervous'], ['Would', 'you', 'be', 'kind', 'enough', 'to', 'pass', 'the', 'salt'], ['She', 'pressed', 'her', 'lips', 'firmly', 'together'], ['Please', 'do', \"n't\", 'follow', 'this', 'advice'], ['If', 'you', \"'re\", 'not', 'happy', 'quit'], ['Tom', 'can', 'play', 'both', 'tennis', 'and', 'table', 'tennis', 'well'], ['Tom', 'hung', 'out', 'in', 'a', 'bar', 'with', 'Mary', 'all', 'afternoon'], ['I', 'guess', 'Tom', 'is', 'on', 'vacation'], ['Do', 'you', 'hear', 'that'], ['Mary', 'helped', 'her', 'mother', 'prepare', 'dinner'], ['He', 'spied', 'on', 'her', 'while', 'she', 'was', 'bathing'], ['I', 'ca', \"n't\", 'come', 'in', 'today'], ['She', 'was', 'holding', 'an', 'umbrella'], ['Maybe', 'I', \"'ll\", 'tell', 'you', 'and', 'maybe', 'I', 'wo', \"n't\"], ['What', 'is', 'your', 'date', 'of', 'birth'], ['I', 'asked', 'him', 'if', 'he', 'would', 'return', 'soon'], ['Has', 'anybody', 'seen', 'my', 'beer', 'mug'], ['I', 'really', 'do', 'hope', 'that', 'you', \"'ll\", 'do', 'that', 'without', 'complaining'], ['Stop', 'that', 'truck'], ['A', 'savage', 'tribe', 'lived', 'there', 'in', 'those', 'days'], ['Tom', 'did', \"n't\", 'think', 'he', 'had', 'the', 'stomach', 'to', 'tell', 'Mary', 'what', 'needed', 'to', 'be', 'done'], ['How', 'do', 'you', 'know', 'all', 'that'], ['It', \"'s\", 'a', 'pain', 'in', 'the', 'neck'], ['He', 'amused', 'the', 'children', 'with', 'the', 'story'], ['Tell', 'me', 'a', 'true', 'story'], ['I', \"'ll\", 'pick', 'you', 'up', 'at', 'your', 'home', 'at', 'five'], ['I', 'locked', 'myself', 'out', 'of', 'my', 'apartment'], ['But', 'I', 'was', 'careful'], ['I', 'have', 'to', 'learn', 'Japanese'], ['As', 'the', 'train', 'came', 'to', 'a', 'halt', 'all', 'of', 'the', 'passengers', 'wondered', 'what', 'was', 'happening'], ['Tom', 'turned', 'to', 'his', 'friends', 'for', 'help'], ['We', \"'re\", 'still', 'involved'], ['I', 'do', \"n't\", 'think', 'it', \"'s\", 'your', 'fault'], ['Do', 'you', 'care', 'what', 'other', 'people', 'think'], ['Tom', 'began', 'to', 'undress', 'but', 'then', 'noticed', 'that', 'the', 'curtain', 'was', 'open', 'so', 'he', 'went', 'over', 'to', 'close', 'it'], ['I', 'asked', 'you', 'last', 'night'], ['His', 'brave', 'deed', 'earned', 'him', 'respect'], ['I', 'wonder', 'why', 'Tom', 'is', 'late'], ['Tom', 'was', 'wearing', 'a', 'uniform'], ['Tom', 'grabbed', 'his', 'mug', 'and', 'walked', 'into', 'the', 'kitchen', 'to', 'get', 'a', 'refill'], ['The', 'house', 'was', 'being', 'painted', 'by', 'my', 'father'], ['I', 'told', 'you', 'that', 'you', 'should', 'buy', 'a', 'new', 'one'], ['Those', 'candles', 'burned', 'the', 'table'], ['He', 'caught', 'sight', 'of', 'Nancy', 'getting', 'into', 'a', 'taxi'], ['Who', 'are', 'my', 'new', 'neighbors'], ['Are', 'you', 'free', 'tomorrow', 'afternoon'], ['We', 'soon', 'recognized', 'each', 'other', 'although', 'we', 'had', 'not', 'met', 'for', 'years'], ['Tom', 'has', 'changed', 'a', 'lot', 'since', 'then'], ['I', \"'ve\", 'been', 'at', 'home'], ['It', \"'s\", 'not', 'important', 'anymore'], ['That', \"'s\", 'nothing', 'to', 'worry', 'about'], ['That', 'will', 'not', 'be', 'permitted'], ['Many', 'of', 'my', 'friends', 'think', 'that', 'Tom', 'and', 'Mary', 'are', 'overprotective', 'parents'], ['The', 'pigeon', 'has', 'flown', 'away'], ['Tom', 'is', 'beginning', 'to', 'irritate', 'me'], ['Tom', 'is', 'outgoing'], ['Tom', 'really', 'wants', 'your', 'help'], ['What', 'are', 'your', 'recommendations'], ['You', \"'re\", 'not', 'answering', 'the', 'question'], ['It', 'was', \"n't\", 'mine'], ['Skyscrapers', 'are', 'beautiful', 'structures'], ['Your', 'explanation', 'is', 'too', 'abstract', 'to', 'me'], ['I', 'thought', 'we', 'were', \"n't\", 'supposed', 'to', 'talk', 'about', 'Tom'], ['Do', \"n't\", 'put', 'me', 'in', 'the', 'middle', 'of', 'this'], ['It', 'was', 'almost', 'noon', 'by', 'the', 'time', 'Tom', 'woke', 'up'], ['Let', \"'s\", 'get', 'together', 'tonight'], ['The', 'teacher', 'told', 'us', 'a', 'funny', 'story'], ['The', 'press', 'has', 'been', 'hounding', 'the', 'president', 'nonstop', 'about', 'reneging', 'on', 'his', 'promise', 'not', 'to', 'raise', 'taxes'], ['We', 'had', 'to', 'sell', 'the', 'building', 'because', 'for', 'years', 'we', 'operated', 'it', 'in', 'the', 'red'], ['He', 'said', 'it', 'as', 'a', 'joke'], ['Read', 'this'], ['The', 'Indians', 'were', 'not', 'happy', 'with', 'this', 'agreement'], ['I', 'have', 'to', 'solve', 'this', 'problem', 'myself'], ['The', 'ribbon', 'does', \"n't\", 'match', 'the', 'dress'], ['If', 'I', 'were', 'free', 'I', 'could', 'help', 'you'], ['I', 'want', 'a', 'pool'], ['Tom', 'greeted', 'everyone'], ['I', 'married', 'my', 'high', 'school', 'sweetheart'], ['I', 'think', 'we', 'should', 'wait'], ['I', 'took', 'him', 'to', 'the', 'most', 'expensive', 'restaurant', 'on', 'campus'], ['Tom', 'gave', 'Mary', 'something', 'to', 'read'], ['My', 'mother', 'used', 'to', 'read', 'me', 'stories', 'when', 'I', 'was', 'a', 'young', 'kid'], ['Tom', 'texted', 'Mary'], ['He', 'seldom', 'gives', 'his', 'wife', 'presents'], ['We', 'chose', 'Henry', 'to', 'be', 'the', 'captain', 'of', 'our', 'team'], ['Tom', 'must', 'be', 'out'], ['Do', 'you', 'think', 'I', 'should', 'tell', 'Tom'], ['When', 'she', 'was', 'a', 'student', 'she', 'went', 'to', 'the', 'disco', 'only', 'once'], ['There', \"'s\", 'no', 'point', 'in', 'hiring', 'a', 'babysitter', 'for', 'the', 'evening'], ['The', 'accident', 'occurred', 'yesterday', 'morning'], ['I', 'think', 'telling', 'lies', 'is', 'wrong'], ['I', \"'d\", 'like', 'to', 'borrow', 'about', 'three', 'hundred', 'thousand', 'dollars'], ['The', 'girl', 'who', 'wrote', 'this', 'composition', 'is', 'Nancy'], ['I', 'just', 'assumed', 'that', 'was', 'the', 'reason'], ['Could', 'I', 'drop', 'by', 'your', 'place', 'one', 'of', 'these', 'days'], ['That', \"'s\", 'a', 'fine', 'way', 'to', 'treat', 'a', 'friend'], ['He', 'lived', 'a', 'long', 'life'], ['She', 'can', 'speak', 'French', 'and', 'she', 'speaks', 'it', 'fluently'], ['This', 'lid', 'is', 'too', 'tight', 'for', 'me', 'to', 'open'], ['We', 'sometimes', 'go', 'for', 'a', 'drive'], ['How', 'about', 'your', 'place'], ['What', 'about', 'having', 'fish', 'for', 'dinner'], ['I', 'hardly', 'know', 'where', 'to', 'begin'], ['I', 'do', \"n't\", 'have', 'to', 'use', 'that', 'right', 'now'], ['I', 'do', \"n't\", 'want', 'anyone', 'to', 'play', 'my', 'guitar'], ['They', 'do', \"n't\", 'want', 'you', 'They', 'want', 'Tom'], ['I', 'wonder', 'who', 'has', 'come'], ['He', 'is', 'foolish', 'to', 'meet', 'her', 'again'], ['Tom', 'held', 'up', 'his', 'wine', 'glass', 'for', 'a', 'toast'], ['Our', 'world', 'is', 'only', 'a', 'tiny', 'part', 'of', 'the', 'universe'], ['Tom', 'wanted', 'a', 'Porsche'], ['You', 'must', 'swear', 'with', 'your', 'hand', 'on', 'the', 'Bible'], ['Send', 'the', 'telegram', 'at', 'once'], ['I', \"'m\", 'sure', 'that', 'Tom', 'does', \"n't\", 'like', 'Mary'], ['He', 'died', 'of', 'that', 'disease'], ['This', 'stuff', \"'s\", 'irreplaceable'], ['Give', 'it', 'back', 'to', 'me'], ['Tom', 'denied', 'that', 'he', 'was', 'the', 'thief'], ['Tom', 'is', \"n't\", 'around'], ['Tom', 'wants', 'to', 'lose', 'weight'], ['It', 'was', \"n't\", 'that', 'serious'], ['We', 'have', 'many', 'rainy', 'days', 'in', 'June'], ['Speak', 'loud', 'enough', 'to', 'be', 'heard'], ['Tom', 'does', \"n't\", 'like', 'eating', 'vegetables'], ['This', 'is', 'the', 'part', 'I', 'hate', 'the', 'most'], ['Hey', 'I', 'may', 'have', 'no', 'money', 'but', 'I', 'still', 'have', 'my', 'pride'], ['He', 'has', 'two', 'cats'], ['I', \"'m\", 'taking', 'my', 'lunch', 'break'], ['Tom', 'says', 'hello'], ['Can', 'I', 'order', 'one'], ['I', 'sat', 'down', 'next', 'to', 'Tom'], ['Would', 'you', 'mind', 'letting', 'me', 'see', 'your', 'passport'], ['We', \"'re\", 'going', 'to', 'be', 'just', 'fine'], ['What', \"'s\", 'in', 'this', 'drawer'], ['I', \"'d\", 'like', 'to', 'go', 'to', 'Boston', 'someday'], ['I', 'wish', 'he', 'had', 'attended', 'the', 'meeting'], ['Tom', 'shot', 'the', 'dog', 'that', 'attacked', 'Mary'], ['What', 'kind', 'of', 'musicals', 'are', 'on', 'Broadway', 'right', 'now'], ['She', 'seems', 'to', 'be', 'happy'], ['I', 'think', 'Tom', 'is', 'too', 'young', 'to', 'really', 'understand', 'women'], ['I', 'heard', 'about', 'your', 'party'], ['Tom', 'often', 'has', 'nightmares'], ['I', 'want', 'to', 'talk', 'with', 'you', 'about', 'Tom'], ['I', 'made', 'it', 'up'], ['Tom', 'seems', 'dazed'], ['The', 'police', 'have', 'taken', 'Tom', 'into', 'custody'], ['We', 'want', 'to', 'attend', 'tonight', \"'s\", 'concert'], ['Tom', 'helped', 'Mary', 'get', 'into', 'her', 'wheelchair'], ['I', \"'m\", 'checking', 'to', 'see', 'if', 'there', 'is', 'an', 'update', 'right', 'now'], ['You', \"'re\", 'a', 'coward'], ['Can', 'I', 'go', 'to', 'the', 'bathroom'], ['Here', 'are', 'your', 'instructions'], ['I', \"'ve\", 'been', 'working', 'here', '13', 'months'], ['She', 'watched', 'the', 'passengers', 'get', 'off', 'the', 'bus'], ['How', 'many', 'pens', 'are', 'there', 'on', 'the', 'desk'], ['Call', 'it', 'what', 'you', 'will'], ['You', \"'re\", 'the', 'only', 'person', 'I', 'know', 'besides', 'me', 'who', 'likes', 'to', 'do', 'that'], ['We', \"'ve\", 'been', 'having', 'good', 'weather'], ['I', 'was', 'a', 'little', 'afraid'], ['Is', 'this', 'accurate'], ['Tom', 'and', 'Mary', 'have', 'forgiven', 'me'], ['Tom', 'fixed', 'the', 'leaky', 'faucet'], ['That', 'doctor', \"'s\", 'experiments', 'have', 'blazed', 'the', 'way', 'for', 'new', 'discoveries'], ['Do', \"n't\", 'make', 'Tom', 'angry'], ['I', 'do', \"n't\", 'have', 'enough', 'space', 'to', 'store', 'these', 'boxes'], ['News', 'of', 'the', 'recent', 'blast', 'is', 'all', 'over', 'the', 'radio'], ['Tom', 'was', 'the', 'only', 'one', 'who', 'was', 'injured'], ['I', 'do', \"n't\", 'feel', 'like', 'going', 'out', 'for', 'a', 'walk'], ['I', 'just', 'finished'], ['No', 'one', 'knew', 'for', 'certain', 'how', 'the', 'accident', 'happened'], ['Everything', 'goes', 'wrong', 'when', 'I', 'leave'], ['I', 'assure', 'you', 'that', 'wo', \"n't\", 'be', 'necessary'], ['You', 'may', 'come', 'to', 'regret', 'having', 'told', 'him', 'about', 'your', 'plan'], ['The', 'prices', 'will', 'come', 'down'], ['Tom', 'attended', 'Mary', \"'s\", 'graduation', 'ceremony'], ['I', 'will', 'stay', 'at', 'home'], ['Our', 'parents', 'are', 'so', 'proud'], ['You', \"'ve\", 'probably', 'forgotten', 'about', 'it', 'already'], ['I', 'have', 'no', 'idea', 'what', 'I', 'need', 'to', 'do', 'now'], ['This', 'letter', 'was', 'written', 'by', 'Naoko', 'last', 'night'], ['Please', 'call', 'me', 'as', 'soon', 'as', 'you', 'arrive', 'in', 'Boston'], ['Take', 'some', 'time', 'off'], ['The', 'school', 'is', 'located', 'within', 'five', 'minutes', 'walk', 'of', 'the', 'station'], ['He', 'lost', 'his', 'honor'], ['Tom', 'is', 'getting', 'desperate'], ['Would', 'you', 'please', 'look', 'over', 'my', 'report'], ['Tom', 'was', 'obviously', 'sick'], ['What', 'do', 'you', 'say', 'to', 'going', 'fishing', 'with', 'me'], ['They', 'want', 'to', 'riot'], ['She', 'is', 'three', 'years', 'older', 'than', 'I', 'am'], ['He', 'did', \"n't\", 'show', 'up', 'at', 'the', 'party'], ['A', 'watchman', 'sat', 'with', 'his', 'legs', 'crossed'], ['You', \"'re\", 'fired'], ['Jefferson', 'agreed', 'with', 'Madison'], ['I', \"'ve\", 'got', 'the', 'documents', 'you', 'asked', 'for'], ['I', \"'ve\", 'never', 'trusted', 'Tom', 'and', 'I', 'do', \"n't\", 'think', 'I', 'ever', 'will'], ['Tom', 'started', 'talking', 'to', 'Mary', 'as', 'soon', 'as', 'the', 'door', 'closed'], ['I', 'need', 'you', 'both', 'to', 'go', 'now'], ['Tom', 'certainly', 'is', 'good-looking'], ['What', 'are', 'you', 'doing', 'up', 'at', 'this', 'hour'], ['Let', \"'s\", 'do', 'it', 'again'], ['Hang', 'in', 'there', 'folks'], ['I', \"'ve\", 'got', 'to', 'see', 'you'], ['I', \"'m\", 'about', 'the', 'same', 'age', 'as', 'you'], ['Tom', 'shouted', 'for', 'help', 'but', 'no', 'one', 'came'], ['The', 'bullet', 'cut', 'through', 'an', 'artery'], ['She', 'made', 'him', 'a', 'new', 'suit'], ['The', 'news', 'that', 'her', 'son', 'was', 'injured', 'in', 'the', 'accident', 'was', 'a', 'great', 'shock', 'to', 'her'], ['I', 'want', 'to', 'have', 'something', 'to', 'remember', 'you', 'by'], ['I', \"'m\", 'right-handed'], ['I', 'want', 'you', 'to', 'see', 'this'], ['His', 'life', 'was', 'miserable', 'beyond', 'description'], ['I', 'have', 'nothing', 'else', 'to', 'say'], ['What', 'makes', 'you', 'think', 'I', 'have', 'any', 'secrets'], ['Tom', 'is', 'a', 'big', 'spender'], ['Put', 'it', 'there', 'not', 'here'], ['Those', 'children', 'are', 'waiting', 'for', 'their', 'mother'], ['We', 'ca', \"n't\", 'reach', 'Tom', 'by', 'phone', 'so', 'send', 'him', 'an', 'email'], ['He', 'had', \"n't\", 'eaten', 'in', 'two', 'days'], ['Tom', 'says', 'that', 'he', \"'s\", 'too', 'busy', 'to', 'help', 'Mary', 'today'], ['I', \"'ve\", 'tried', 'to', 'talk', 'to', 'Tom'], ['I', 'love', 'being', 'with', 'Tom'], ['Things', 'have', 'been', 'so', 'busy'], ['Tom', 'pretended', 'that', 'he', 'did', \"n't\", 'care', 'that', 'he', 'was', 'poor'], ['Tom', 'did', \"n't\", 'lift', 'a', 'finger', 'to', 'help'], ['I', 'do', \"n't\", 'need', 'anything', 'from', 'you'], ['This', 'Sunday', 'is', 'Mother', \"'s\", 'Day', 'in', 'Spain'], ['The', 'man', 'I', 'was', 'talking', 'to', 'is', 'my', 'English', 'teacher'], ['Tom', 'never', 'wanted', 'you', 'here'], ['I', 'do', \"n't\", 'think', 'Tom', 'is', 'the', 'only', 'one', 'who', 'had', 'to', 'go', 'to', 'the', 'hospital'], ['We', 'wo', \"n't\", 'let', 'it', 'happen', 'again'], ['I', 'wish', 'you', 'could', 'stay', 'longer'], ['Tom', 'told', 'Mary', 'that', 'he', 'needed', 'her', 'help'], ['Do', 'you', 'have', 'any', 'plans', 'for', 'tonight'], ['Tom', 'has', 'accumulated', 'a', 'lot', 'of', 'junk'], ['Are', 'you', 'open', 'on', 'Saturday'], ['I', \"'ve\", 'been', 'having', 'trouble', 'sleeping'], ['He', 'would', 'often', 'go', 'fishing'], ['Tom', 'has', 'been', 'in', 'Boston', 'for', 'a', 'week', 'now'], ['He', 'drinks', 'too', 'much'], ['Tom', 'did', \"n't\", 'want', 'it'], ['Tom', 'seems', 'excited'], ['Tom', 'was', 'carrying', 'a', 'pair', 'of', 'cross-country', 'skis', 'that', 'he', \"'d\", 'borrowed', 'from', 'Mary', \"'s\", 'husband'], ['Because', 'of', 'the', 'storm', 'the', 'ship', 'could', \"n't\", 'leave', 'port'], ['Do', \"n't\", 'climb', 'up', 'the', 'wall'], ['The', 'announcer', 'spoke', 'English'], ['Thank', 'you', 'very', 'much', 'everyone'], ['He', 'is', 'certain', 'to', 'turn', 'up', 'some', 'time'], ['Tom', 'was', 'glad', 'that', 'Mary', 'agreed', 'with', 'him'], ['Are', 'you', 'certain', 'about', 'this'], ['I', 'forgot', 'to', 'give', 'you', 'what', 'Tom', 'gave', 'me', 'to', 'give', 'you'], ['The', 'vote', 'was', 'twenty-eight', 'for', 'and', 'twenty', 'against'], ['I', 'think', 'I', \"'m\", 'beginning', 'to', 'see', 'the', 'problem', 'here'], ['We', 'appreciate', 'your', 'time'], ['Tom', 'and', 'Mary', 'are', 'standing', 'together'], ['Macedonia', 'and', 'Bulgaria', 'are', 'not', 'friends'], ['I', 'do', \"n't\", 'want', 'you', 'to', 'hurt', 'yourself', 'again'], ['I', 'am', 'blind', 'in', 'the', 'right', 'eye'], ['I', 'asked', 'Tom', 'what', 'he', \"'d\", 'do'], ['You', 'can', 'hear', 'the', 'news', 'on', 'the', 'radio', 'at', 'nine', \"o'clock\"], ['I', \"'ll\", 'fire', 'Tom'], ['What', \"'s\", 'that', 'again'], ['He', 'translated', 'French', 'into', 'Japanese'], ['I', 'went', 'to', 'high', 'school', 'with', 'Tom'], ['I', 'need', 'a', 'pair', 'of', 'scissors', 'to', 'cut', 'this', 'paper'], ['My', 'son', 'is', 'playing', 'in', 'the', 'rain'], ['She', \"'s\", 'helping', 'me'], ['That', 'is', 'potentially', 'our', 'problem'], ['I', \"'m\", 'planning', 'to', 'buy', 'a', 'mobile', 'phone', 'tomorrow'], ['Why', 'are', 'you', 'so', 'defensive'], ['Have', 'you', 'already', 'finished', 'your', 'homework'], ['She', 'has', 'a', 'round', 'face'], ['Tom', 'has', 'no', 'need', 'to', 'worry'], ['Tom', 'won', 'three', 'thousand', 'dollars'], ['He', 'hopes', 'to', 'run', 'a', 'company', 'in', 'the', 'future'], ['I', 'think', 'Tom', 'is', 'trying', 'to', 'impress', 'you'], ['I', 'told', 'Tom', 'what', 'he', 'had', 'to', 'do'], ['The', 'flood', 'began', 'to', 'subside'], ['May', 'I', 'come', 'to', 'see', 'you', 'at', 'your', 'office', 'tomorrow', 'morning'], ['I', \"'m\", 'just', 'asking', 'you', 'to', 'think', 'about', 'it'], ['Tom', 'ca', \"n't\", 'walk', 'on', 'his', 'own', 'yet'], ['I', 'arranged', 'for', 'a', 'car', 'to', 'meet', 'you', 'at', 'the', 'airport'], ['I', 'love', 'being', 'around', 'Tom'], ['Get', 'me', 'some', 'ice'], ['Has', 'anybody', 'seen', 'Tom'], ['I', 'think', 'it', \"'s\", 'fascinating'], ['He', 'is', 'an', 'aristocrat'], ['Competition', 'is', 'not', 'bad', 'in', 'itself'], ['I', 'can', 'sit', 'anywhere', 'right'], ['I', 'needed', 'your', 'help', 'on', 'something', 'but', 'I', 'could', \"n't\", 'find', 'you'], ['I', \"'m\", 'still', 'in', 'shock'], ['A', 'girl', 'is', 'playing', 'the', 'flute'], ['They', 'deal', 'with', 'Muslims'], ['The', 'probability', 'of', 'Tom', 'being', 'punished', 'is', 'very', 'small'], ['We', 'are', \"n't\", 'that', 'poor'], ['I', 'resemble', 'my', 'mother'], ['He', 'is', 'always', 'late', 'for', 'school'], ['The', 'police', 'chased', 'the', 'stolen', 'car'], ['Tom', 'will', 'be', 'safe', 'here', 'with', 'me'], ['You', \"'re\", 'mean'], ['I', 'did', \"n't\", 'catch', 'even', 'one', 'fish'], ['How', 'do', 'they', 'prepare', 'this', 'fish', 'in', 'France'], ['I', 'want', 'exactly', 'what', 'you', 'want'], ['Fred', 'spent', 'all', 'day', 'looking', 'for', 'a', 'job'], ['When', 'did', 'you', 'get', 'to', 'Boston'], ['The', 'warehouse', 'was', 'a', 'front', 'for', 'drug', 'traffickers'], ['Entering', 'the', 'house', 'I', 'tripped', 'over', 'the', 'mat'], ['This', 'was', 'Tom', \"'s\", 'choice'], ['Please', 'turn', 'in', 'the', 'report', 'by', 'the', 'end', 'of', 'the', 'month'], ['Tom', 'and', 'I', 'went', 'to', 'the', 'same', 'high', 'school', 'He', 'was', 'two', 'years', 'above', 'me'], ['I', 'am', 'hungry', 'because', 'I', 'did', 'not', 'have', 'breakfast'], ['I', 'thought', 'you', \"'d\", 'sleep', 'until', 'noon'], ['Tom', 'did', \"n't\", 'know', 'what', 'was', 'happening'], ['I', 'underestimated', 'you', 'Tom'], ['I', \"'ll\", 'never', 'hurt', 'you'], ['We', \"'ve\", 'been', 'friends', 'for', 'three', 'years'], ['It', 'seems', 'Ann', 'and', 'Zachary', 'ran', 'off', 'together'], ['Jack', 'is', \"n't\", 'there'], ['When', 'was', 'the', 'last', 'time', 'you', 'saw', 'Tom', 'wear', 'a', 'tie'], ['Tom', 'tumbled', 'down', 'the', 'stairs'], ['Are', 'you', 'insinuating', 'something'], ['``', 'When', 'does', 'your', 'sister', 'come', 'back', 'from', 'work', \"''\", '``', 'I', 'do', \"n't\", 'know', 'but', 'I', 'think', 'she', \"'ll\", 'arrive', 'at', 'home', 'a', 'few', 'minutes', 'before', 'me', \"''\"], ['It', \"'s\", 'better', 'to', 'drink', 'in', 'moderation'], ['Do', \"n't\", 'take', 'it', 'seriously'], ['Tom', 'came', 'to', 'visit', 'us', 'just', 'last', 'week'], ['He', 'lived', 'a', 'lonely', 'life', 'in', 'the', 'forest'], ['We', 'could', 'really', 'use', 'your', 'help'], ['Put', 'on', 'this', 'sweater'], ['Do', \"n't\", 'miss', 'this', 'chance'], ['I', \"'m\", 'not', 'in', 'a', 'very', 'good', 'mood'], ['I', 'just', 'got', 'back', 'from', 'Boston'], ['This', 'will', 'teach', 'you', 'not', 'to', 'annoy', 'other', 'people'], ['Tom', 'fell', 'asleep', 'reading', 'a', 'book'], ['I', 'did', \"n't\", 'read', 'any', 'books', 'yesterday'], ['Tom', 'is', 'a', 'very', 'talented', 'writer'], ['You', 'do', \"n't\", 'have', 'to', 'lie'], ['What', 'will', 'that', 'accomplish'], ['She', 'loves', 'Tom', 'more', 'than', 'I', 'do'], ['This', 'house', 'has', 'six', 'rooms'], ['Tom', 'changed', 'the', 'station', 'to', 'CNN'], ['Tom', \"'s\", 'a', 'farther', 'of', 'three'], ['Tom', 'has', 'trouble', 'making', 'both', 'ends', 'meet'], ['I', 'do', \"n't\", 'see', 'the', 'relevance'], ['I', 'want', 'to', 'find', 'out', 'where', 'it', 'came', 'from'], ['Tom', 'is', \"n't\", 'paying', 'us', 'anything'], ['The', 'manufacturing', 'sector', 'is', 'a', 'frenzy', 'over', 'the', 'new', 'monetary', 'policy'], ['I', 'do', \"n't\", 'mind', 'staying'], ['Does', 'Tom', 'swim', 'every', 'day'], ['You', 'touched', 'my', 'heart'], ['I', \"'m\", 'sure', 'Tom', 'will', 'be', 'here', 'any', 'minute'], ['I', 'know', 'Tom', 'did', \"n't\", 'leave', 'the', 'house'], ['We', 'must', 'wait'], ['I', \"'m\", 'closing', 'my', 'store'], ['As', 'time', 'goes', 'on', 'China', \"'s\", 'economy', 'gets', 'stronger', 'and', 'stronger'], ['You', 'guys', 'can', 'do', 'what', 'you', 'want'], ['I', 'love', 'him', 'more', 'than', 'any', 'of', 'the', 'other', 'boys'], ['I', 'have', 'a', 'dim', 'memory', 'of', 'my', 'grandmother'], ['She', 'lay', 'awake', 'for', 'a', 'long', 'time', 'thinking', 'of', 'her', 'future'], ['He', 'is', 'a', 'poet'], ['She', 'employed', 'him', 'as', 'a', 'programmer'], ['Rome', 'is', 'famous', 'for', 'its', 'ancient', 'architecture'], ['That', 'was', 'a', 'very', 'sad', 'story'], ['Let', \"'s\", 'have', 'sushi'], ['They', 'heard', 'a', 'speech', 'written', 'especially', 'for', 'them'], ['Her', 'teacher', 'praised', 'her'], ['My', 'family', 'are', 'all', 'well'], ['What', 'did', 'Tom', 'say', 'exactly'], ['Tom', \"'s\", 'feet', 'got', 'wet'], ['Did', 'Tom', 'know', 'about', 'Mary', \"'s\", 'drinking', 'problem'], ['Tom', 'is', 'not', 'welcome', 'in', 'our', 'home'], ['I', 'stayed', 'up', 'much', 'later', 'when', 'I', 'was', 'a', 'student'], ['Tom', 'and', 'Mary', 'never', 'met', 'again'], ['I', 'hope', 'to', 'go', 'to', 'Canada', 'next', 'year'], ['Tell', 'me', 'why', 'you', 'think', 'you', 'ca', \"n't\", 'trust', 'me'], ['If', 'you', 'cheat', 'on', 'me', 'again', 'I', 'definitely', 'wo', \"n't\", 'forgive', 'you'], ['She', 'seemed', 'disappointed', 'at', 'the', 'result'], ['We', 'missed', 'the', 'deadline'], ['Where', 'would', 'you', 'like', 'to', 'be', 'living', 'three', 'years', 'from', 'now'], ['My', 'skirt', 'is', 'too', 'long'], ['Tom', 'is', 'fasting'], ['Kevin', 'has', 'bought', 'a', 'diamond', 'ring', 'and', 'is', 'going', 'to', 'pop', 'the', 'question', 'to', 'Kim', 'tonight'], ['It', \"'s\", 'not', 'supposed', 'to', 'be', 'happening'], ['Let', 'me', 'ask', 'you', 'something', 'Tom', 'Do', 'you', 'think', 'we', 'really', 'have', 'a', 'chance'], ['We', 'can', 'save', 'a', 'little', 'time', 'if', 'we', 'do', 'what', 'Tom', 'suggests'], ['The', 'sun', 'sends', 'out', 'an', 'incredible', 'amount', 'of', 'heat', 'and', 'light'], ['She', 'worked', 'hard', 'to', 'get', 'the', 'work', 'done'], ['He', 'goes', 'to', 'school', 'on', 'foot'], ['I', \"'ll\", 'give', 'you', 'a', 'hint'], ['This', 'is', 'what', 'I', 'get', 'paid', 'to', 'do'], ['Can', 'you', 'believe', 'this', 'smell'], ['Have', 'you', 'ever', 'sung', 'in', 'public'], ['Tom', 'should', \"'ve\", 'been', 'nicer', 'to', 'Mary'], ['I', 'got', 'a', 'shave', 'and', 'a', 'haircut'], ['The', 'boy', 'splashed', 'about', 'in', 'the', 'tub'], ['Tom', 'has', 'to', 'do', 'it'], ['The', 'whole', 'community', 'is', 'behind', 'this', 'plan'], ['He', 'was', 'holding', 'a', 'large', 'box', 'in', 'his', 'arms'], ['I', 'hate', 'the', 'world', 'because', 'the', 'world', 'hates', 'me'], ['How', 'many', 'credits', 'can', 'I', 'get', 'for', 'this', 'course'], ['The', 'boy', 'grew', 'up', 'to', 'be', 'a', 'scientist'], ['They', 'relaxed'], ['You', 'have', 'made', 'the', 'very', 'same', 'mistake', 'again'], ['Tom', 'put', 'on', 'his', 'rubber', 'gloves'], ['Do', \"n't\", 'open', 'the', 'door', 'till', 'the', 'train', 'stops'], ['``', 'Where', 'is', 'my', 'classroom', \"''\", '``', 'It', \"'s\", 'on', 'the', 'third', 'floor', \"''\"], ['My', 'mother', 'did', \"n't\", 'let', 'me', 'wear', 'a', 'miniskirt'], ['There', \"'s\", 'nothing', 'wrong'], ['Tom', 'wiped', 'the', 'bloody', 'knife', 'on', 'his', 'shirt'], ['They', \"'ve\", 'had', 'a', 'talk'], ['Everybody', 'knows', 'she', 'can', 'speak', 'English', 'well'], ['He', 'lay', 'in', 'agony', 'until', 'the', 'doctor', 'arrived'], ['Who', \"'s\", 'the', 'captain', 'of', 'this', 'ship'], ['She', 'lost', 'her', 'son', 'in', 'the', 'war'], ['Check', 'Tom', \"'s\", 'pulse', 'again'], ['My', 'new', 'Alfa', 'Romeo', 'convertible', 'is', 'light', 'red'], ['She', 'is', 'always', 'finding', 'fault', 'with', 'her', 'husband'], ['I', 'can', 'speak', 'Chinese', 'but', 'I', 'ca', \"n't\", 'read', 'it'], ['Where', 'is', 'the', 'telephone', 'book'], ['I', 'think', 'that', 'Japanese', 'students', 'are', 'very', 'good', 'at', 'gathering', 'knowledge'], ['Tom', 'decided', 'to', 'buy', 'a', 'new', 'computer'], ['Their', 'financial', 'problems', 'began', 'in', 'the', 'second', 'half', 'of', 'the', 'year'], ['You', 'may', 'have', 'whatever', 'book', 'you', 'want', 'to', 'read'], ['I', 'ca', \"n't\", 'eat', 'raw', 'eggs', 'They', 'have', 'to', 'be', 'cooked'], ['I', \"'m\", 'just', 'trying', 'to', 'understand', 'what', \"'s\", 'going', 'on'], ['I', 'think', 'people', 'should', 'work', 'together', 'to', 'find', 'reasonable', 'solutions', 'to', 'their', 'problems'], ['Do', \"n't\", 'come', 'any', 'closer'], ['It', 'does', \"n't\", 'need', 'to', 'be', 'white', 'but', 'I', \"'d\", 'prefer', 'white'], ['I', 'do', \"n't\", 'think', 'anyone', 'notices', 'what', 'Tom', 'does'], ['Tom', 'said', 'he', \"'d\", 'be', 'interested', 'in', 'taking', 'over', 'Mary', \"'s\", 'job', 'when', 'she', 'retires'], ['She', 'pulled', 'her', 'sweater', 'on'], ['Tom', 'does', \"n't\", 'find', 'this', 'as', 'funny', 'as', 'Mary', 'does'], ['Tom', 'killed', 'Mary', 'because', 'he', 'found', 'out', 'she', 'had', 'started', 'the', 'fire', 'that', 'had', 'killed', 'his', 'family'], ['Was', 'Tom', 'hospitalized'], ['He', 'called', 'her', 'every', 'other', 'day'], ['You', 'need', 'to', 'eat', 'vegetables', 'every', 'day'], ['This', 'is', 'not', 'so', 'bad'], ['Her', 'cat', 'had', 'another', 'four', 'kittens'], ['I', 'laughed', 'very', 'hard', 'when', 'I', 'saw', 'that'], ['I', \"'ll\", 'stand', 'guard', 'now', 'Go', 'get', 'some', 'sleep'], ['I', \"'m\", 'sorry', 'but', 'I', 'forgot', 'to', 'do', 'the', 'homework'], ['Tom', 'is', 'a', 'dwarf'], ['He', \"'s\", 'a', 'lawyer'], ['Why', 'do', \"n't\", 'I', 'just', 'talk', 'to', 'Tom'], ['I', 'do', \"n't\", 'know', 'when', 'he', 'will', 'come', 'here'], ['He', 'is', 'quick', 'to', 'voice', 'his', 'concerns'], ['I', 'just', 'say', 'what', 'Tom', 'tells', 'me', 'to', 'say'], ['Tom', 'is', 'suing', 'you'], ['There', \"'s\", 'no', 'one', 'in', 'the', 'house', 'They', \"'re\", 'all', 'outside'], ['I', 'had', 'been', 'reading', 'a', 'book', 'when', 'he', 'came', 'in'], ['She', 'tried', 'to', 'run', 'as', 'fast', 'as', 'she', 'could'], ['You', 'get', 'more', 'handsome', 'every', 'year'], ['They', 'sat', 'around', 'the', 'table', 'playing', 'cards'], ['I', 'already', 'feel', 'better', 'about', 'that'], ['I', 'bet', 'you', \"'re\", 'wondering', 'how', 'this', 'works'], ['One', 'of', 'the', 'lions', 'has', 'escaped'], ['That', \"'s\", 'what', 'I', 'want', 'most', 'in', 'the', 'world'], ['He', 'was', 'reluctant', 'to', 'answer'], ['I', 'ate', 'some', 'Greek', 'food', 'at', 'a', 'nearby', 'restaurant', 'just', 'a', 'few', 'days', 'ago'], ['He', 'studies', 'English', 'but', 'he', \"'s\", 'also', 'studying', 'German'], ['He', 'made', 'a', 'gesture', 'with', 'his', 'hand'], ['He', 'saved', 'himself', 'somehow'], ['Tom', 'does', 'anything', 'we', 'tell', 'him'], ['Have', 'you', 'told', 'everyone', 'where', 'the', 'meeting', 'will', 'be'], ['The', 'guards', 'did', \"n't\", 'see', 'Tom'], ['Tom', 'knows', 'I', 'like', 'him'], ['I', 'answered', 'neither', 'of', 'the', 'letters'], ['I', 'have', 'a', 'good', 'idea', 'for', 'you'], ['Sorry', 'I', 'must', 'have', 'dialled', 'the', 'wrong', 'number'], ['Obviously', 'Tom', 'is', \"n't\", 'interested'], ['Tom', 'put', 'on', 'his', 'socks'], ['Is', 'eating', 'meat', 'morally', 'wrong'], ['Butter', 'is', 'sold', 'by', 'the', 'pound', 'in', 'the', 'USA'], ['Do', 'you', 'think', 'she', \"'s\", 'pretty'], ['Do', 'you', 'have', 'any', 'idea', 'what', \"'s\", 'happened'], ['I', \"'m\", 'older', 'than', 'your', 'brother'], ['Take', 'care', 'not', 'to', 'make', 'a', 'foolish', 'move'], ['The', 'baby', 'ceased', 'crying'], ['I', 'did', \"n't\", 'pretend', 'to', 'be', 'your', 'friend'], ['I', 'know', 'you', 'hired', 'an', 'accountant'], ['Tom', 'has', 'been', 'living', 'in', 'Boston', 'since', 'he', 'was', 'a', 'kid'], ['The', 'fire', 'consumed', 'the', 'whole', 'house'], ['There', 'must', 'be', 'something', 'wrong', 'with', 'the', 'machine'], ['I', 'put', 'some', 'cookies', 'on', 'the', 'table', 'and', 'the', 'kids', 'ate', 'them', 'right', 'up'], ['It', \"'s\", 'all', 'so', 'hopeless'], ['What', 'does', 'Tom', 'need'], ['What', 'she', 'said', 'did', 'not', 'make', 'sense'], ['He', 'insulted', 'our', 'team'], ['Tell', 'Tom', 'Mary', 'has', 'already', 'told', 'John'], ['We', 'both', 'knew', 'the', 'risks'], ['Tom', 'has', 'a', 'healthy', 'lifestyle'], ['My', 'dog', 'and', 'cat', 'live', 'in', 'harmony', 'with', 'each', 'other'], ['I', 'tried', 'to', 'phone', 'you'], ['I', \"'m\", 'trying', 'to', 'get', 'enough', 'money', 'to', 'buy', 'a', 'new', 'guitar'], ['Let', \"'s\", 'divide', 'the', 'check', 'between', 'us'], ['There', 'were', 'only', 'six', 'people', 'at', 'the', 'party'], ['Are', 'you', 'sure', 'you', \"'re\", 'up', 'to', 'this'], ['I', 'want', 'you', 'to', 'return', 'it', 'to', 'me', 'as', 'soon', 'as', 'possible'], ['Tom', 'almost', 'never', 'eats', 'junk', 'food'], ['You', 'were', 'sensational'], ['This', 'is', 'by', 'far', 'the', 'best', 'way'], ['They', 'have', 'nothing', 'in', 'common'], ['Is', 'anyone', 'else', 'excited', 'about', 'this'], ['Who', 'killed', 'Tom'], ['Any', 'child', 'can', 'answer', 'that'], ['The', 'stadium', 'is', 'adjacent', 'to', 'the', 'school'], ['Tom', 'works', 'for', 'me', 'as', 'my', 'private', 'secretary'], ['I', 'want', 'a', 'low', 'table'], ['I', 'felt', 'a', 'sharp', 'pain', 'in', 'my', 'stomach', 'all', 'of', 'a', 'sudden'], ['I', \"'m\", 'just', 'glad', 'Tom', 'is', 'back'], ['Tom', 'thought', 'Mary', 'seemed', 'really', 'happy'], ['Tom', 'had', 'a', 'good', 'reason', 'for', 'not', 'going'], ['You', \"'re\", 'the', 'woman', 'of', 'my', 'dreams'], ['Yesterday', 'the', 'teacher', 'told', 'us', 'that', 'he', 'would', 'give', 'us', 'a', 'test', 'today'], ['My', 'parents', 'know', 'about', 'it'], ['They', 'advised', 'us', 'to', 'stay', 'put', 'for', 'the', 'time', 'being'], ['What', 'do', 'they', 'know'], ['Tom', 'did', \"n't\", 'give', 'me', 'time', 'to', 'think'], ['His', 'house', 'is', 'on', 'the', 'bank', 'of', 'the', 'river'], ['He', 'is', 'a', 'scientist'], ['I', 'think', 'Tom', 'was', 'born', 'in', 'Boston'], ['She', 'was', 'unwilling', 'to', 'tell', 'her', 'name'], ['We', 'want', 'a', 'second', 'opinion'], ['Tom', 'asked', 'some', 'very', 'good', 'questions'], ['My', 'father', 'seemed', 'to', 'be', 'disappointed', 'I', 'had', \"n't\", 'passed', 'the', 'examination'], ['That', 'is', 'a', 'good', 'idea'], ['Give', 'me', 'the', 'keys', 'to', 'your', 'car'], ['My', 'baggage', 'is', 'missing'], ['The', 'woman', 'is', 'reading'], ['Tom', 'was', 'peering', 'out', 'of', 'the', 'window', 'into', 'the', 'street'], ['He', 'is', 'far', 'from', 'perfect'], ['Is', 'Tom', 'partly', 'to', 'blame'], ['I', \"'ll\", 'always', 'care', 'about', 'you'], ['He', 'dislikes', 'unexpectedness', 'and', 'emergencies', 'of', 'any', 'kind'], ['We', 'should', 'be', 'helping'], ['Is', 'it', 'going', 'to', 'rain', 'tomorrow'], ['Tom', 'is', 'in', 'horrible', 'danger'], ['Tom', 'underestimated', 'me'], ['The', 'book', 'is', 'available', 'in', 'both', 'hard', 'and', 'soft-cover', 'versions'], ['It', \"'s\", 'not', 'a', 'bomb'], ['It', 'was', 'dark'], ['Tom', 'has', 'been', 'living', 'just', 'outside', 'Boston', 'for', 'years'], ['Why', 'are', 'you', 'running'], ['I', \"'ll\", 'get', 'Tom', \"'s\", 'number', 'for', 'you'], ['We', 'lost', 'our', 'way', 'and', 'what', 'was', 'worse', 'we', 'were', 'caught', 'in', 'a', 'shower'], ['Call', 'me', 'now', 'and', 'then'], ['I', 'do', \"n't\", 'think', 'I', 'can', 'help', 'you'], ['We', 'were', 'almost', 'too', 'late'], ['There', 'is', 'no', 'future', 'in', 'his', 'job'], ['I', 'forgot', 'to', 'tell', 'you', 'something'], ['Tom', 'gently', 'hugged', 'Mary'], ['Do', \"n't\", 'you', 'see', 'the', 'clock'], ['You', \"'ve\", 'put', 'on', 'weight'], ['You', 'should', \"n't\", 'eat', 'anything', 'cold'], ['I', \"'ll\", 'keep', 'looking'], ['He', 'took', 'the', 'eggs', 'out', 'one', 'by', 'one'], ['I', \"'ve\", 'been', 'busy', 'this', 'week'], ['I', 'met', 'her', 'by', 'chance', 'at', 'a', 'restaurant', 'yesterday'], ['I', 'offered', 'him', 'some', 'money', 'but', 'he', 'would', 'not', 'take', 'it'], ['Is', 'it', 'fifth', 'period'], ['Tom', 'liked', 'to', 'write', 'stories'], ['A', 'dog', 'followed', 'me', 'to', 'my', 'school'], ['He', \"'s\", 'strong'], ['Do', 'you', 'need', 'me', 'to', 'give', 'you', 'some', 'money'], ['I', 'think', 'that', 'actress', 'is', 'one', 'of', 'the', 'most', 'beautiful', 'women', 'on', 'earth'], ['You', 'can', 'get', 'to', 'her', 'house', 'in', 'a', 'variety', 'of', 'different', 'ways'], ['Tom', 'walked', 'into', 'the', 'store'], ['How', 'can', 'you', 'eat', 'that'], ['I', 'begged', 'her', 'not', 'to', 'go'], ['He', 'is', 'a', 'man', 'of', 'wit'], ['Thanks', 'for', 'trying'], ['We', 'felt', 'the', 'house', 'shake', 'a', 'little'], ['I', \"'m\", 'not', 'having', 'any', 'fun'], ['We', \"'re\", 'sorry', 'but', 'this', 'video', 'is', 'no', 'longer', 'available'], ['It', \"'s\", 'just', 'not', 'possible', 'for', 'me', 'to', 'do', 'this', 'by', 'myself'], ['There', 'was', 'a', 'knock', 'at', 'the', 'front', 'door'], ['Help', 'me', 'with', 'this', 'file', 'cabinet'], ['The', 'next', 'one', \"'s\", 'for', 'you'], ['The', 'Giants', 'play', 'the', 'Dragons', 'tomorrow'], ['He', 'was', 'a', 'burden', 'to', 'his', 'parents'], ['Tom', 'is', 'in', 'another', 'room'], ['I', \"'ll\", 'deliver', 'the', 'box'], ['If', 'you', 'consider', 'his', 'age', 'then', 'you', 'ca', \"n't\", 'blame', 'him', 'for', 'his', 'actions'], ['He', 'is', 'justly', 'proud', 'of', 'his', 'son'], ['I', 'do', \"n't\", 'ever', 'want', 'to', 'do', 'that', 'again'], ['You', 'really', 'do', \"n't\", 'want', 'me', 'to', 'kiss', 'you', 'do', 'you'], ['I', 'sang', 'a', 'song'], ['I', \"'ll\", 'tell', 'the', 'others'], ['I', 'saw', 'an', 'explosion'], ['Tom', \"'s\", 'dog', 'ate', 'the', 'breadcrumbs'], ['Tom', 'here', \"'s\", 'someone', 'I', 'want', 'you', 'to', 'meet'], ['Tom', 'held', 'the', 'canteen', 'of', 'water', 'to', 'Mary', \"'s\", 'lips'], ['As', 'far', 'as', 'I', 'can', 'remember', 'it', 'was', 'three', 'years', 'ago', 'that', 'we', 'last', 'met'], ['I', 'had', 'to', 'crawl', 'under', 'the', 'fence'], ['Tom', 'missed', 'the', 'opportunity', 'to', 'go', 'to', 'Boston', 'with', 'Mary'], ['She', \"'s\", 'working', 'on', 'a', 'term', 'paper'], ['What', 'kind', 'of', 'music', 'has', 'been', 'popular', 'lately'], ['Somebody', 'wanted', 'to', 'scare', 'you'], ['How', 'do', 'you', 'tell', 'someone', 'their', 'children', 'died'], ['You', \"'re\", 'the', 'nicest', 'girlfriend', 'I', 'ever', 'had'], ['The', 'law', 'is', 'not', 'always', 'fair'], ['I', 'worked', 'on', 'the', 'farm', 'all', 'day'], ['They', \"'re\", 'looking', 'into', 'the', 'problem'], ['We', \"'ve\", 'got', 'more', 'than', 'enough', 'to', 'do'], ['Tom', 'did', \"n't\", 'understand', 'exactly', 'what', 'Mary', 'wanted', 'him', 'to', 'do'], ['Do', 'you', 'know', 'how', 'to', 'operate', 'this', 'machine'], ['Did', 'you', 'answer', 'Tom', \"'s\", 'question'], ['Bring', 'me', 'two', 'pieces', 'of', 'chalk'], ['Let', \"'s\", 'go', 'to', 'sleep'], ['I', 'feel', 'bad', 'about', 'not', 'having', 'gone', 'to', 'his', 'funeral'], ['Everybody', 'loves', 'music'], ['Tom', 'told', 'me', 'that', 'he', 'was', 'busy'], ['I', 'had', 'never', 'seen', 'that', 'kind', 'of', 'fish', 'until', 'then'], ['I', 'wo', \"n't\", 'let', 'Tom', 'hurt', 'you'], ['You', 'must', 'get', 'the', 'job', 'done', 'before', 'the', 'deadline'], ['Something', 'happened', 'here', 'but', 'I', 'do', \"n't\", 'know', 'what'], ['Do', \"n't\", 'try', 'to', 'keep', 'her', 'to', 'yourself'], ['There', \"'s\", 'something', 'over', 'there'], ['Tom', 'is', 'suspended'], ['She', 'divorced', 'him'], ['Tom', 'is', 'the', 'one', 'who', 'said', 'he', 'was', 'too', 'busy', 'to', 'help', 'not', 'me'], ['He', 'may', 'not', 'come'], ['I', 'admit', 'it', 'I', 'was', 'wrong'], ['We', 'thought', 'we', 'were', 'ready', 'for', 'anything'], ['Is', 'eating', 'egg', 'yolks', 'really', 'that', 'unhealthy'], ['Do', \"n't\", 'forget', 'to', 'see', 'me', 'tomorrow', 'morning'], ['The', 'radio', 'is', 'a', 'bit', 'loud'], ['She', 'became', 'a', 'mother', 'when', 'she', 'was', 'fifteen', 'years', 'old'], ['This', 'music', 'is', 'giving', 'me', 'a', 'headache'], ['Whose', 'car', 'is', 'that'], ['Please', 'do', \"n't\", 'call', 'the', 'cops'], ['I', 'never', 'thought', 'of', 'that'], ['Hold', 'me', 'close'], ['She', 'spread', 'a', 'cloth', 'over', 'the', 'table'], ['The', 'game', 'was', 'postponed', 'until', 'next', 'Sunday'], ['I', 'knew', 'all', 'about', 'that'], ['Where', 'did', 'you', 'learn', 'to', 'speak', 'French'], ['I', \"'m\", 'for', 'that'], ['Does', 'Tom', 'live', 'here'], ['The', 'deadline', 'for', 'the', 'reports', 'is', 'next', 'Monday'], ['Tom', 'has', 'a', 'short', 'temper'], ['Tom', 'is', 'twice', 'as', 'old', 'as', 'me'], ['That', \"'s\", 'what', 'I', 'told', 'them'], ['How', 'can', 'you', 'afford', 'something', 'like', 'this'], ['The', 'fight', 'for', 'civil', 'rights', 'in', 'the', 'United', 'States', 'started', 'in', '1954', 'when', 'the', 'government', 'said', 'school', 'had', 'to', 'be', 'open', 'to', 'everyone'], ['Would', 'you', 'like', 'a', 'glass', 'of', 'orange', 'juice', 'with', 'your', 'breakfast'], ['Do', 'you', 'have', 'a', 'pen', 'or', 'pencil'], ['What', 'happened', 'to', 'your', 'ankle'], ['I', 'am', 'sending', 'a', 'copy', 'of', 'my', 'letter', 'to', 'you'], ['The', 'police', 'demanded', 'that', 'I', 'move', 'my', 'car'], ['I', 'know', 'it', \"'s\", 'not', 'your', 'fault'], ['Tom', 'and', 'Mary', 'were', 'alone', 'in', 'the', 'park'], ['You', 'should', \"n't\", 'smoke'], ['What', 'club', 'do', 'you', 'belong', 'to'], ['I', \"'m\", 'well', 'aware', 'of', 'Tom', \"'s\", 'financial', 'situation'], ['He', 'drank', 'orange', 'juice', 'out', 'of', 'a', 'bottle'], ['I', \"'ve\", 'never', 'trusted', 'Tom', 'and', 'I', 'doubt', 'I', 'ever', 'will'], ['You', 'ca', \"n't\", 'just', 'change', 'your', 'mind'], ['Whatever', 'the', 'origin', 'is', 'Valentine', \"'s\", 'Day', 'has', 'had', 'a', 'long', 'and', 'romantic', 'history'], ['What', 'kind', 'of', 'chocolate', 'do', 'you', 'like'], ['This', 'does', 'not', 'apply', 'to', 'students'], ['There', \"'s\", 'something', 'on', 'that', 'shelf', 'that', 'Tom', 'wants'], ['I', 'ca', \"n't\", 'move'], ['I', 'am', 'sorry'], ['Tom', 'has', 'three', 'thousand', 'yen', 'in', 'his', 'pocket'], ['I', 'could', \"n't\", 'help', 'you', 'even', 'if', 'I', 'wanted', 'to'], ['Is', 'she', 'making', 'a', 'doll'], ['The', 'money', 'came', 'like', 'manna', 'from', 'heaven'], ['There', \"'s\", 'no', 'one', 'in', 'the', 'garden'], ['Tom', 'told', 'me', 'a', 'secret'], ['Please', 'just', 'leave', 'me', 'alone'], ['I', \"'ll\", 'sit', 'with', 'Tom'], ['I', 'wish', 'Tom', 'would', \"n't\", 'always', 'be', 'late'], ['``', 'Do', 'you', 'think', 'she', \"'ll\", 'come', \"''\", '``', 'I', 'hope', 'not', \"''\"], ['I', 'was', 'hoping', 'I', 'could', 'get', 'a', 'little', 'help'], ['We', \"'re\", 'on', 'our', 'way'], ['I', \"'ve\", 'got', 'a', 'gun'], ['I', 'think', 'I', \"'d\", 'rather', 'walk'], ['Tom', 'faked', 'his', 'own', 'death'], ['Let', 'me', 'tell', 'you', 'why', 'that', \"'s\", 'not', 'going', 'to', 'happen'], ['I', 'gave', 'my', 'half', 'to', 'Tom'], ['I', 'have', 'to', 'take', 'something', 'to', 'Tom'], ['It', 'was', 'a', 'great', 'trip'], ['Ca', \"n't\", 'you', 'see', 'what', 'we', \"'re\", 'doing'], ['Before', 'Mary', 'got', 'married', 'she', 'was', 'a', 'dancer'], ['I', 'ca', \"n't\", 'answer', 'your', 'question'], ['My', 'son', 'likes', 'books', 'about', 'animals'], ['I', \"'ll\", 'understand', 'if', 'you', 'want', 'to', 'wait'], ['Let', \"'s\", 'finish', 'it', 'now'], ['What', 'convinced', 'you', 'that', 'you', 'were', 'wrong'], ['Excuse', 'me', 'but', 'let', 'me', 'have', 'another', 'look', 'at', 'the', 'photo'], ['He', 'thinks', 'I', \"'m\", 'jealous'], ['Can', 'you', 'believe', 'what', 'he', 'said'], ['This', 'is', 'not', 'normal'], ['Tom', 'did', \"n't\", 'know', 'for', 'certain', 'where', 'he', 'should', 'go'], ['Not', 'every', 'student', 'has', 'a', 'dictionary'], ['Have', 'you', 'decided', 'what', 'to', 'do', 'next', 'Sunday'], ['He', \"'s\", 'the', 'head', 'of', 'the', 'marketing', 'department'], ['It', 'is', 'difficult', 'to', 'understand', 'his', 'theory'], ['We', 'all', 'pigged', 'out', 'at', 'the', 'company', 'Christmas', 'party', 'especially', 'on', 'the', 'roast', 'beef'], ['I', \"'ll\", 'take', 'care', 'of', 'your', 'children', 'tonight'], ['Tom', 'is', 'too', 'old', 'for', 'me'], ['Do', \"n't\", 'go', 'home'], ['Are', \"n't\", 'you', 'done', 'yet'], ['I', \"'m\", 'not', 'going', 'to', 'talk', 'to', 'you', 'about', 'this', 'right', 'now'], ['I', 'gave', 'him', 'the', 'book'], ['The', 'jewelry', 'store', 'is', 'open'], ['I', \"'m\", 'not', 'hungry', 'right', 'now'], ['Maybe', 'eventually', 'you', \"'ll\", 'decide', 'you', 'do', \"n't\", 'want', 'to', 'live', 'here', 'anymore'], ['I', 'know', 'I', 'should', 'stay', 'a', 'little', 'bit', 'longer'], ['What', 'was', 'he', 'doing', 'there'], ['I', 'think', 'you', 'know', 'why', 'I', 'summoned', 'you'], ['It', 'was', 'too', 'muggy', 'for', 'me', 'to', 'get', 'to', 'sleep', 'last', 'night'], ['Japanese', 'children', 'watch', 'television', 'more', 'than', 'English', 'children'], ['Tom', 'is', 'dodging', 'my', 'calls'], ['She', 'does', \"n't\", 'have', 'a', 'lazy', 'bone', 'in', 'her', 'body'], ['I', 'ca', \"n't\", 'believe', 'you', 'told', 'Tom'], ['Have', 'you', 'flown', 'before'], ['I', 'will', 'eat', 'supper', 'at', 'seven'], ['I', \"'m\", 'headed', 'the', 'other', 'way'], ['I', 'ca', \"n't\", 'understand', 'you'], ['Tom', 'hacked', 'Mary', \"'s\", 'leg', 'off', 'with', 'a', 'rusty', 'machete'], ['This', 'carpet', 'is', 'designed', 'for', 'residential', 'use'], ['My', 'credit', 'card', 'was', 'stolen', 'on', 'the', 'subway'], ['I', 'need', 'new', 'shoes'], ['He', 'is', 'old', 'enough', 'to', 'understand', 'it'], ['He', 'did', \"n't\", 'agree', 'with', 'us', 'about', 'the', 'matter'], ['Which', 'bag', 'is', 'yours'], ['Tom', 'ca', \"n't\", 'handle', 'this'], ['I', 'did', \"n't\", 'know', 'that', 'you', 'knew', 'Tom'], ['Tom', 'pulled', 'out', 'of', 'the', 'parking', 'lot'], ['Your', 'skirt', \"'s\", 'on', 'backwards'], ['I', 'seem', 'to', 'have', 'lost', 'my', 'purse'], ['I', 'was', 'thinking', 'that', 'I', 'would', 'go', 'there', 'by', 'bicycle', 'but', 'it', 'began', 'to', 'rain'], ['My', 'mother', 'objected', 'to', 'my', 'working', 'part', 'time'], ['I', 'laughed', 'so', 'much', 'my', 'stomach', 'hurts'], ['There', 'was', 'a', 'fire', 'near', 'the', 'train', 'station', 'last', 'night'], ['I', 'have', 'never', 'gone', 'swimming', 'with', 'Tom'], ['You', \"'re\", 'an', 'overly', 'optimistic', 'girl'], ['This', 'fish', 'has', 'a', 'lot', 'of', 'bones'], ['Tom', 'has', \"n't\", 'met', 'Mary', \"'s\", 'parents', 'yet'], ['Do', 'you', 'know', 'how', 'to', 'play', 'the', 'piano'], ['Some', 'Japanese', 'are', 'shy', 'even', 'to', 'the', 'point', 'of', 'appearing', 'rude'], ['Tom', 'is', 'breathing', 'heavily'], ['Tom', 'and', 'Mary', 'are', 'having', 'a', 'dinner', 'party', 'Friday', 'evening'], ['Can', 'you', 'wake', 'Tom', 'up', 'for', 'me'], ['I', 'use', 'this', 'desk'], ['Some', 'people', 'love', 'hot', 'curry', 'but', 'it', \"'s\", 'not', 'Jeff', \"'s\", 'cup', 'of', 'tea'], ['Tom', 'thinks', 'he', \"'s\", 'invincible'], ['Maybe', 'you', 'were', 'wrong'], ['Did', 'you', 'come', 'here', 'alone'], ['We', \"'re\", 'doing', 'our', 'best'], ['I', 'only', 'eat', 'kosher', 'food'], ['I', 'was', 'hoping', 'to', 'go', 'fishing', 'today', 'but', 'something', 'came', 'up'], ['Tom', 'confessed', 'that', 'he', 'had', 'broken', 'the', 'window'], ['He', 'did', 'not', 'say', 'so'], ['Tom', 'is', 'a', 'very', 'secretive', 'person'], ['The', 'pie', \"'s\", 'delicious'], ['Tom', 'and', 'Mary', 'were', 'in', 'the', 'middle', 'of', 'a', 'heated', 'argument', 'when', 'John', 'walked', 'into', 'the', 'room'], ['I', 'went', 'with', 'them', 'so', 'that', 'I', 'could', 'guide', 'them', 'around', 'Nagasaki'], ['I', 'think', 'you', 'should', 'meet', 'Tom'], ['We', \"'d\", 'better', 'get', 'out', 'of', 'here'], ['Tears', 'rolled', 'down', 'his', 'cheeks'], ['Love', 'is', 'blinding', 'you'], ['Do', 'we', 'have', 'something', 'to', 'celebrate'], ['Tom', 'asked', 'Mary', 'if', 'she', 'was', 'OK'], ['I', 'put', 'in', 'for', 'more', 'overtime'], ['I', 'know', 'what', 'it', \"'s\", 'like', 'to', 'be', 'the', 'new', 'guy'], ['The', 'only', 'thing', 'you', 'need', 'to', 'do', 'is', 'go', 'there'], ['Why', 'do', 'you', 'always', 'ask', 'so', 'many', 'questions'], ['He', 'finally', 'fulfilled', 'my', 'request'], ['My', 'father', 'could', 'swim', 'well', 'when', 'he', 'was', 'young'], ['Tom', \"'s\", 'drowning'], ['Do', \"n't\", 'punish', 'Tom', 'for', 'that'], ['You', 'look', 'happier', 'than', 'usual'], ['Did', 'Tom', 'believe', 'it'], ['We', \"'ll\", 'do', 'this', 'later'], ['I', 'doubt', 'that', 'Tom', 'would', 'remember', 'me'], ['Tom', 'must', \"'ve\", 'been', 'sick'], ['He', \"'ll\", 'be', 'here', 'any', 'moment'], ['We', \"'ll\", 'visit', 'you', 'one', 'of', 'these', 'days'], ['My', 'mom', 'will', 'kill', 'me'], ['Eating', 'yogurt', 'with', 'a', 'fork', 'is', 'somewhat', 'difficult'], ['It', \"'s\", 'a', 'bit', 'strange', 'to', 'me'], ['You', \"'re\", 'here', 'are', \"n't\", 'you'], ['We', 'have', \"n't\", 'had', 'a', 'price', 'increase', 'in', 'the', 'last', 'five', 'years'], ['Please', 'put', 'the', 'dustpan', 'in', 'the', 'broom', 'closet'], ['Are', 'you', 'absolutely', 'certain', 'we', \"'re\", 'safe'], ['You', \"'ll\", 'have', 'to', 'start', 'at', 'once'], ['They', \"'d\", 'like', 'that'], ['How', 'often', 'do', 'you', 'wash', 'your', 'jeans'], ['I', 'met', 'Tony', 'on', 'my', 'way', 'home', 'yesterday'], ['Return', 'to', 'your', 'seat'], ['There', \"'s\", 'something', 'I', 'need', 'to', 'do', 'right', 'now'], ['Bob', 'has', 'the', 'habit', 'of', 'going', 'to', 'bed', 'at', '10:00'], ['Tom', 'was', 'lying', 'helpless', 'on', 'the', 'floor'], ['How', 'about', 'some', 'more', 'roast', 'beef'], ['His', 'office', 'is', 'convenient', 'to', 'the', 'station'], ['I', 'know', 'why', 'Tom', 'is', \"n't\", 'here'], ['Do', \"n't\", 'you', 'think', 'Cookie', 'would', 'be', 'a', 'good', 'name', 'for', 'a', 'dog'], ['You', 'had', 'better', 'not', 'make', 'a', 'noise', 'here'], ['That', 'was', 'the', 'last', 'thing', 'I', 'wanted', 'to', 'do'], ['He', 'gets', 'up', 'at', '7'], ['I', 'thought', 'you', 'were', 'going', 'to', 'wait', 'for', 'Tom'], ['Smiles', 'do', 'not', 'always', 'indicate', 'pleasure'], ['He', 'sat', 'listening', 'to', 'the', 'radio'], ['Would', 'you', 'please', 'stop', 'singing', 'so', 'loudly', 'This', 'is', 'not', 'a', 'cheap', 'drinking', 'place'], ['It', 'is', 'bad', 'manners', 'to', 'point', 'at', 'people'], ['Has', 'anybody', 'seen', 'my', 'wallet'], ['I', 'wish', 'I', 'could', 'stop', 'thinking', 'about', 'it'], ['I', 'have', 'aches', 'and', 'pains', 'all', 'over', 'my', 'body'], ['We', 'had', 'a', 'brief', 'discussion', 'about', 'human', 'rights'], ['Are', 'you', 'deaf'], ['It', 'is', 'nice', 'of', 'you', 'to', 'come', 'and', 'see', 'me'], ['It', 'is', 'not', 'too', 'much', 'to', 'say', 'that', 'he', 'is', 'a', 'genius'], ['After', 'thinking', 'long', 'and', 'hard', 'I', 'put', 'the', 'plan', 'into', 'practice'], ['Why', 'did', 'you', 'leave', 'the', 'room'], ['I', 'still', 'want', 'to', 'see', 'you', 'tomorrow'], ['I', 'often', 'hiccup'], ['Tom', 'always', 'said', 'he', 'was', 'lucky'], ['This', 'cola', 'has', 'lost', 'its', 'fizz', 'and', 'does', \"n't\", 'taste', 'any', 'good'], ['Just', 'do', \"n't\", 'disappear'], ['Let', 'me', 'go', 'in', 'and', 'talk', 'to', 'Tom'], ['You', 'are', 'on', 'the', 'wrong', 'train'], ['Tom', 'did', \"n't\", 'get', 'sick'], ['I', 'did', \"n't\", 'speak', 'to', 'Tom', 'for', 'months'], ['Close', 'your', 'eyes', 'for', 'three', 'minutes'], ['He', 'awoke', 'to', 'find', 'the', 'house', 'on', 'fire'], ['He', 'is', 'kind', 'of', 'person', 'no', 'one', 'would', 'turn', 'to', 'for', 'help'], ['They', 'chose', 'Peter', 'as', 'captain'], ['Because', 'his', 'salary', 'is', 'low', 'he', 'ca', \"n't\", 'buy', 'that', 'house'], ['Tom', 'is', 'very', 'worried'], ['It', 'has', 'begun'], ['This', 'game', 'is', 'really', 'fun'], ['I', 'know', 'you', \"'re\", 'still', 'mad'], ['Why', 'would', 'Tom', 'want', 'that'], ['I', 'know', 'the', 'poem', 'by', 'heart'], ['Are', 'you', 'going', 'call', 'Tom', 'or', 'do', 'you', 'want', 'me', 'to'], ['I', \"'ll\", 'see', 'Tom', 'next', 'week'], ['You', 'can', 'do', 'it', 'Tom'], ['She', 'is', 'absent', 'because', 'of', 'sickness'], ['The', 'length', 'of', 'this', 'ship', 'is', '30', 'meters'], ['Would', 'you', 'move', 'your', 'car', 'please'], ['The', 'names', 'are', 'in', 'alphabetical', 'order'], ['Tom', 'pulled', 'out', 'a', 'big', 'wad', 'of', 'cash', 'out', 'of', 'his', 'pocket'], ['I', 'ca', \"n't\", 'imagine', 'why'], ['Something', 'tells', 'me', 'you', \"'re\", 'wrong'], ['His', 'father', 'is', 'an', 'impostor'], ['He', 'spoke', 'very', 'well'], ['I', \"'ll\", 'keep', 'that', 'if', 'you', 'do', \"n't\", 'mind'], ['I', 'made', 'a', 'stupid', 'mistake'], ['I', 'ca', \"n't\", 'excuse', 'what', 'I', 'did'], ['You', \"'re\", 'asking', 'for', 'too', 'much'], ['Tom', 'does', \"n't\", 'have', 'a', 'penny', 'to', 'his', 'name'], ['Even', 'a', 'child', 'can', 'understand', 'that'], ['There', 'were', 'a', 'lot', 'of', 'people', 'at', 'Tom', \"'s\", 'funeral'], ['There', 'would', 'be', 'no', 'competition'], ['I', 'like', 'to', 'play', 'tennis', 'What', 'sport', 'do', 'you', 'like', 'to', 'play'], ['I', \"'ve\", 'got', 'a', 'flat', 'tire'], ['My', 'parents', 'were', 'against', 'our', 'marriage'], ['Excuse', 'me', 'waiter', 'There', \"'s\", 'a', 'hair', 'in', 'my', 'soup'], ['Do', 'not', 'play', 'with', 'the', 'key'], ['What', 'kind', 'of', 'inhaler', 'do', 'you', 'use'], ['Tom', 'does', \"n't\", 'care', 'what', 'happens', 'to', 'his', 'old', 'car'], ['I', 'had', 'beef', 'stew', 'for', 'lunch'], ['Do', 'they', 'have', 'that'], ['I', 'am', 'in', 'charge', 'of', 'this'], ['The', 'wood', 'grain', 'in', 'Brazilian', 'rosewood', 'is', 'beautiful'], ['Would', 'you', 'like', 'me', 'to', 'do', 'that', 'for', 'you'], ['They', 'have', \"n't\", 'slept', 'for', 'forty-eight', 'hours'], ['This', 'is', 'a', 'heartwarming', 'movie'], ['She', 'was', 'on', 'the', 'point', 'of', 'going', 'out'], ['Should', \"n't\", 'you', 'be', 'helping', 'Tom'], ['Did', 'somebody', 'mention', 'my', 'name'], ['He', 'will', 'be', 'a', 'doctor', 'when', 'he', 'grows', 'up'], ['She', 'made', 'a', 'delicious', 'meal', 'for', 'him'], ['Her', 'father', 'has', 'a', 'general', 'store'], ['The', 'examination', 'he', 'took', 'last', 'week', 'was', 'very', 'hard'], ['Tom', 'unwrapped', 'the', 'gift', 'carefully'], ['I', 'felt', 'somebody', 'patting', 'on', 'my', 'shoulder', 'from', 'behind'], ['It', 'might', 'snow', 'this', 'evening'], ['Tom', 'wants', 'you', 'to', 'ask', 'him', 'to', 'your', 'party'], ['You', 'are', 'right', 'to', 'a', 'certain', 'extent'], ['Tom', 'came', 'downstairs', 'so', 'we', 'stopped', 'kissing', 'immediately'], ['Now', 'then', 'let', \"'s\", 'get', 'this', 'problem', 'cleared', 'up'], ['You', \"'ve\", 'got', 'no', 'authority', 'to', 'do', 'that'], ['I', 'read', 'about', 'how', 'to', 'make', 'tempura', 'in', 'a', 'book'], ['Is', 'this', 'real', 'silk'], ['I', 'want', 'to', 'go', 'home', 'as', 'soon', 'as', 'possible'], ['Are', 'you', 'accusing', 'me'], ['Tom', 'has', 'been', 'arrested', 'three', 'times', 'for', 'assault'], ['No', 'one', 'asked', 'for', 'your', 'opinion'], ['He', 'was', 'infuriated', 'by', 'what', 'she', 'said'], ['Which', 'season', 'do', 'you', 'like', 'the', 'best'], ['We', \"'ll\", 'be', 'too', 'late'], ['What', 'are', 'you', 'learning', 'at', 'school'], ['I', \"'m\", 'really', 'proud', 'of', 'it'], ['Do', \"n't\", 'you', 'dare', 'touch', 'that'], ['We', 'were', 'just', 'studying'], ['Tom', 'was', 'obviously', 'disappointed'], ['Let', \"'s\", 'play'], ['He', 'grew', 'a', 'beard', 'while', 'he', 'was', 'on', 'holiday'], ['She', 'has', 'the', 'big', 'room', 'entirely', 'to', 'herself'], ['I', 'am', 'prepared', 'for', 'the', 'worst'], ['It', \"'s\", 'been', 'ten', 'years', 'since', 'I', 'left', 'college'], ['He', 'would', 'sit', 'and', 'look', 'at', 'the', 'sea', 'for', 'hours'], ['I', 'do', \"n't\", 'believe', 'we', \"'ve\", 'been', 'formally', 'introduced'], ['Tom', 'has', 'a', 'big', 'TV'], ['When', 'I', 'was', 'in', 'Boston', 'I', 'used', 'to', 'eat', 'out', 'at', 'least', 'once', 'a', 'week'], ['Tom', 'turned', 'on', 'the', 'windshield', 'wipers'], ['I', 'do', \"n't\", 'want', 'to', 'look', 'like', 'a', 'tourist'], ['I', \"'m\", 'fine', 'How', 'about', 'you'], ['Would', 'you', 'mind', 'staying', 'home', 'and', 'taking', 'care', 'of', 'the', 'children'], ['Tom', 'wanted', 'me', 'to', 'find', 'out', 'if', 'you', \"'d\", 'be', 'willing', 'to', 'help', 'us'], ['Tom', 'looks', 'thoughtful'], ['Do', \"n't\", 'you', 'think', 'you', 'are', 'a', 'little', 'too', 'pushy'], ['All', 'of', 'the', 'boys', 'are', 'asleep', 'in', 'the', 'next', 'room'], ['The', 'syntax', 'of', 'Python', 'scripts', 'is', 'very', 'simple'], ['English', 'is', \"n't\", 'my', 'first', 'language'], ['Genes', 'consist', 'of', 'a', 'specific', 'sequence', 'of', 'DNA'], ['Tom', 'keeps', 'his', 'important', 'papers', 'in', 'a', 'safety', 'deposit', 'box'], ['This', 'sort', 'of', 'thing', 'does', \"n't\", 'happen', 'where', 'I', \"'m\", 'come', 'from'], ['I', 'think', 'you', 'should', 'get', 'started'], ['I', \"'m\", 'thinking', 'about', 'which', 'college', 'might', 'be', 'best', 'for', 'me'], ['I', 'just', 'do', \"n't\", 'want', 'to', 'die'], ['How', 'would', 'you', 'know', 'about', 'that'], ['Three', 'beers', 'and', 'a', 'tequila', 'please'], ['You', 'must', 'be', 'very', 'good'], ['I', 'do', \"n't\", 'have', 'a', 'system'], ['I', 'asked', 'why', 'Tom', 'was', 'late'], ['There', \"'s\", 'also', 'another', 'possibility'], ['He', 'came', 'at', 'three', 'in', 'the', 'afternoon'], ['I', \"'m\", 'going', 'to', 'be', 'in', 'my', 'room'], ['He', 'made', 'it', 'known', 'to', 'his', 'friends', 'that', 'he', 'was', 'unwilling', 'to', 'run', 'for', 'the', 'election'], ['I', 'certainly', 'had', 'no', 'idea', 'Tom', 'did', \"n't\", 'know', 'how', 'to', 'swim'], ['I', 'was', 'going', 'to', 'do', 'that', 'anyway'], ['She', 'ca', \"n't\", 'have', 'been', 'in', 'her', 'twenties', 'at', 'that', 'time'], ['Let', \"'s\", 'wait', 'here', 'until', 'she', 'comes', 'back'], ['To', 'some', 'extent', 'I', 'agree', 'with', 'you'], ['Have', 'you', 'thought', 'of', 'that'], ['Are', 'you', 'uncomfortable'], ['Tom', 'asked', 'me', 'a', 'lot', 'of', 'questions', 'that', 'I', 'could', \"n't\", 'answer'], ['Tom', 'was', 'the', 'one', 'who', 'suggested', 'leaving', 'early'], ['Tom', 'does', \"n't\", 'think', 'Mary', 'is', 'busy'], ['Maybe', 'someone', 'else', 'can', 'help', 'us'], ['There', 'were', 'a', 'number', 'of', 'cars', 'on', 'the', 'street'], ['Let', 'me', 'introduce', 'my', 'sister', 'to', 'you'], ['Being', 'deeply', 'thankful', 'he', 'tried', 'to', 'express', 'his', 'thanks'], ['The', 'higher', 'we', 'go', 'up', 'the', 'thinner', 'the', 'air', 'becomes'], ['Tom', 'tried', 'to', 'hide', 'his', 'anger'], ['Tom', 'and', 'Mary', 'were', 'alone', 'in', 'the', 'room'], ['Why', 'he', 'got', 'angry', 'is', 'quite', 'clear'], ['You', 'told', 'me', 'not', 'to', 'do', 'it'], ['Everyone', \"'s\", 'asleep'], ['I', 'guess', 'I', 'was', 'mistaken'], ['I', 'think', 'we', \"'ve\", 'wasted', 'enough', 'of', 'your', 'time'], ['This', 'is', 'one', 'of', 'the', 'best', 'dictionaries', 'I', 'have'], ['Let', \"'s\", 'step', 'outside'], ['You', \"'ve\", 'got', 'to', 'sign', 'your', 'name'], ['Tom', 'may', 'not', 'want', 'to', 'do', 'that', 'but', 'he', 'should'], ['I', 'ca', \"n't\", 'bring', 'myself', 'to', 'trust', 'his', 'story'], ['The', 'man', 'lay', 'asleep', 'all', 'day', 'long'], ['How', 'many', 'children', 'do', 'you', 'want', 'to', 'have', 'when', 'you', 'get', 'married'], ['Tom', 'is', 'truthful'], ['Work', 'absorbs', 'most', 'of', 'his', 'time'], ['How', 'much', 'time', 'do', 'I', 'have'], ['Tom', 'and', 'Mary', 'just', 'do', \"n't\", 'trust', 'John'], ['Someone', 'might', 'see', 'us'], ['I', 'quickly', 'ate', 'lunch'], ['If', 'you', 'push', 'the', 'button', 'the', 'engine', 'will', 'stop'], ['What', 'is', 'the', 'cat', 'up', 'to'], ['I', 'could', 'use', 'some', 'help', 'in', 'the', 'kitchen'], ['I', 'wo', \"n't\", 'allow', 'you', 'to', 'do', 'that'], ['When', 'and', 'where', 'shall', 'we', 'meet'], ['Tom', 'found', 'himself', 'in', 'a', 'tight', 'spot'], ['I', 'do', \"n't\", 'have', 'all', 'the', 'answers'], ['She', 'was', 'trembling', 'as', 'she', 'listened', 'to', 'the', 'news'], ['We', 'refer', 'to', 'this', 'city', 'as', 'Little', 'Kyoto'], ['Tom', 'carried', 'Mary', \"'s\", 'suitcase', 'for', 'her'], ['Tom', 'felt', 'all', 'alone'], ['Some', 'people', 'questioned', 'his', 'honesty'], ['Josh', 'asked', 'me', 'out', 'but', 'I', 'told', 'him', 'where', 'to', 'go'], ['Did', 'I', 'tell', 'you', 'that'], ['I', 'knew', 'what', 'needed', 'to', 'be', 'done'], ['Tom', 'is', 'used', 'to', 'talking', 'to', 'children'], ['Possibly', 'she', 'will', 'not', 'come'], ['What', 'did', 'you', 'hide'], ['I', 'ca', \"n't\", 'do', 'without', 'a', 'coat', 'in', 'the', 'winter'], ['It', 'did', \"n't\", 'go', 'well'], ['You', 'look', 'surprised'], ['That', \"'s\", 'the', 'way', 'Tom', 'likes', 'it'], ['This', 'is', 'the', 'mildest', 'winter', 'that', 'we', 'have', 'ever', 'experienced'], ['I', 'know', 'what', 'I', 'said'], ['There', 'was', 'no', 'visible', 'danger'], ['Tom', 'never', 'bothered', 'me', 'again', 'after', 'that'], ['He', 'came', 'to', 'see', 'me'], ['Kaneko', 'was', 'so', 'stressed', 'out', 'at', 'her', 'new', 'job', 'that', 'she', 'had', 'a', 'nervous', 'breakdown'], ['I', 'know', 'you', 'hate', 'carrots'], ['Tom', 'is', 'not', 'happy', 'to', 'see', 'Mary'], ['Do', 'you', 'get', 'many', 'visitors'], ['There', 'is', 'no', 'use', 'in', 'making', 'excuses'], ['Tom', 'does', \"n't\", 'want', 'to', 'have', 'to', 'fight', 'you'], ['Nakagawa', 'was', 'on', 'the', 'point', 'of', 'going', 'out', 'when', 'I', 'called', 'on', 'him'], ['I', 'bought', 'a', 'new', 'sewing', 'machine'], ['Tom', 'did', \"n't\", 'seem', 'preoccupied'], ['I', 'do', \"n't\", 'think', 'I', 'want', 'that'], ['Do', 'you', 'want', 'me', 'to', 'fix', 'your', 'broken', 'shovel', 'or', 'do', \"n't\", 'you'], ['Choose', 'one', 'from', 'among', 'these', 'prizes'], ['The', 'dining', 'room', 'is', \"n't\", 'open', 'yet'], ['I', 'can', 'tell', 'you', 'what', 'to', 'look', 'for'], ['It', 'rained', 'for', 'days'], ['Tom', 'does', \"n't\", 'know', 'anything', 'about', 'it'], ['Do', 'you', 'offer', 'any', 'day', 'tours'], ['Please', 'come', 'back', 'as', 'soon', 'as', 'possible'], ['Who', \"'d\", 'ever', 'want', 'to', 'leave', 'here'], ['I', 'hope', 'they', 'liked', 'me'], ['He', 'ordered', 'me', 'to', 'clean', 'the', 'room'], ['I', 'thought', 'Tom', 'would', 'need', 'help', 'getting', 'in', 'and', 'out', 'of', 'the', 'bathtub'], ['I', \"'ll\", 'save', 'you'], ['Could', 'you', 'make', 'sure', 'Tom', 'does', 'his', 'homework'], ['Tom', 'is', 'here', 'to', 'help', 'Mary', 'figure', 'out', 'her', 'income', 'taxes'], ['The', 'business', 'failed'], ['``', 'I', \"'ll\", 'be', 'back', 'in', 'a', 'minute', \"''\", 'he', 'added'], ['The', 'island', 'was', 'enveloped', 'in', 'a', 'thick', 'fog'], ['Tom', 'sat', 'down'], ['Tom', 'beat', 'me', 'up'], ['Tom', 'is', 'looking', 'ill'], ['I', \"'ll\", 'see', 'you', 'at', '2:30'], ['Now', 'and', 'then', 'we', 'go', 'to', 'London', 'on', 'business'], ['All', 'men', 'have', 'some', 'natural', 'talent', 'but', 'the', 'question', 'is', 'whether', 'they', 'can', 'use', 'it', 'or', 'not'], ['Pull', 'me', 'in'], ['He', 'has', 'been', 'unconscious', 'for', 'three', 'days'], ['Brown', 'saw', 'that', 'he', 'was', 'surrounded'], ['We', 'could', 'not', 'overtake', 'him'], ['They', 'just', 'announced', 'their', 'engagement'], ['As', 'soon', 'as', 'it', 'stopped', 'raining', 'a', 'beautiful', 'rainbow', 'appeared'], ['I', 'needed', 'the', 'money'], ['Tom', 'and', 'Mary', 'do', \"n't\", 'even', 'know', 'each', 'other'], ['Onions', 'can', 'be', 'used', 'in', 'many', 'dishes'], ['Tom', 'thinks', 'everything', 'is', 'his', 'business'], ['Tom', 'and', 'Mary', 'want', 'to', 'know', 'what', \"'s\", 'going', 'on'], ['Tom', 'became', 'even', 'more', 'upset'], ['The', 'true', 'secret', 'of', 'writing', 'a', 'good', 'letter', 'is', 'to', 'write', 'as', 'if', 'you', 'were', 'talking'], ['Be', 'quick', 'or', 'you', 'will', 'miss', 'the', 'train'], ['Whatever', 'you', 'do', 'do', \"n't\", 'tell', 'Tom', 'about', 'what', 'we', 'did'], ['I', 'do', \"n't\", 'know', 'why', 'it', \"'s\", 'taking', 'so', 'long'], ['I', 'told', 'Tom', 'to', 'handle', 'it', 'himself'], ['What', 'can', 'anybody', 'do'], ['Tom', 'said', 'he', \"'d\", 'help', 'me', 'find', 'what', 'I', 'need'], ['I', \"'m\", 'a', 'huge', 'fan', 'of', 'golf'], ['The', 'boy', 'caught', 'the', 'cat', 'by', 'the', 'tail'], ['Tom', 'says', 'he', 'needs', 'a', 'vacation'], ['My', 'father', 'bought', 'this', 'hat', 'for', 'me'], ['I', 'do', \"n't\", 'mind', 'standing'], ['You', 'make', 'me', 'want', 'to', 'throw', 'up'], ['Do', 'we', 'have', 'enough', 'food'], ['I', \"'ve\", 'got', 'to', 'do', 'something'], ['Get', 'me', 'a', 'glass', 'of', 'milk'], ['The', 'first', 'airplane', 'flew', 'in', '1903', 'for', 'twelve', 'seconds'], ['Tom', 'never', 'jokes'], ['Look', 'at', 'those', 'clouds'], ['Tom', 'wanted', 'to', 'help', 'Mary', 'do', 'the', 'right', 'thing'], ['Let', \"'s\", 'start', 'early', 'shall', 'we'], ['I', 'forgot', 'to', 'bring', 'my', 'umbrella', 'with', 'me'], ['He', 'became', 'a', 'Catholic'], ['I', 'am', 'to', 'meet', 'him', 'at', 'five', 'at', 'the', 'station'], ['Are', 'you', 'easy-going'], ['They', 'are', 'struggling', 'for', 'freedom'], ['The', 'panelists', 'discussed', 'energy', 'problems'], ['You', 'seem', 'a', 'little', 'sore'], ['Night', 'is', 'when', 'most', 'people', 'sleep'], ['How', 'did', 'Noah', 'keep', 'the', 'animals', 'from', 'eating', 'each', 'other'], ['Is', 'Mr.', 'Jones', 'in', 'the', 'office'], ['Tom', 'did', \"n't\", 'make', 'it', 'to', 'the', 'station', 'in', 'time', 'to', 'catch', 'the', 'train', 'he', 'was', 'planning', 'to', 'catch'], ['Shut', 'the', 'window', 'Jim'], ['Tom', 'told', 'Mary', 'that', 'her', 'French', 'was', 'good'], ['I', \"'m\", 'glad', 'to', 'do', 'it'], ['This', 'morning', 'I', 'missed', 'the', '8:30', 'train', 'by', 'five', 'minutes'], ['I', 'ca', \"n't\", 'get', 'rid', 'of', 'it'], ['I', 'expect', 'him', 'to', 'come', 'soon'], ['You', 'do', \"n't\", 'have', 'to', 'be', 'perfect', 'all', 'the', 'time'], ['She', 'is', 'a', 'member', 'of', 'this', 'organization'], ['They', 'had', 'been', 'dancing', 'for', 'an', 'hour', 'when', 'there', 'was', 'a', 'knock', 'on', 'the', 'door'], ['The', 'police', 'officer', 'asked', 'me', 'what', 'my', 'name', 'was'], ['Can', 'I', 'have', 'the', 'check', 'please'], ['Tom', 'is', 'still', 'at', 'school'], ['My', 'brother', 'did', \"n't\", 'like', 'her', 'from', 'the', 'start'], ['I', 'thought', 'I', 'might', 'find', 'you', 'here'], ['He', 'walked', 'down', 'the', 'street', 'whistling', 'cheerfully'], ['Whenever', 'I', 'see', 'this', 'I', 'remember', 'him'], ['Mary', 'is', 'pregnant'], ['Tom', 'put', 'one', 'strawberry', 'on', 'each', 'cupcake'], ['Tom', 'is', 'in', 'the', 'kitchen', 'washing', 'dishes'], ['Precise', 'measurements', 'are', 'needed'], ['Either', 'he', 'does', \"n't\", 'know', 'how', 'to', 'wash', 'the', 'dishes', 'or', 'he', 'is', 'just', 'lazy'], ['I', 'can', 'recommend', 'it', 'to', 'anyone'], ['Do', \"n't\", 'dump', 'garbage', 'here'], ['I', 'work', 'until', 'very', 'late'], ['Take', 'the', 'path', 'that', 'runs', 'along', 'the', 'river'], ['I', 'want', 'you', 'to', 'keep', 'up', 'with', 'me'], ['Why', 'wo', \"n't\", 'you', 'listen', 'to', 'me'], ['He', 'is', 'an', 'old', 'friend', 'of', 'mine'], ['I', \"'ve\", 'enjoyed', 'your', 'company'], ['I', \"'ll\", 'give', 'you', 'a', 'fair', 'price'], ['Many', 'of', 'Tom', \"'s\", 'clients', 'are', 'millionaires'], ['That', 'house', 'belongs', 'to', 'him'], ['A', 'rainbow', 'is', 'a', 'natural', 'phenomenon'], ['Tom', 'will', 'listen', 'to', 'you'], ['I', \"'m\", 'still', 'very', 'tired'], ['Tom', 'died', 'in', 'battle'], ['I', 'am', 'what', 'I', 'am', 'today', 'thanks', 'to', 'my', 'parents'], ['This', 'was', 'why', 'he', 'entered', 'the', 'university'], ['Tom', 'enjoys', 'skydiving', 'and', 'scuba', 'diving'], ['You', \"'re\", 'far', 'too', 'young', 'to', 'be', 'doing', 'this'], ['Tom', 'did', \"n't\", 'need', 'it', 'anymore'], ['He', 'was', 'accused', 'of', 'having', 'violated', 'the', 'law'], ['Tom', \"'s\", 'in', 'a', 'slump', 'lately'], ['You', 'know', 'very', 'well', 'what', 'Tom', 'wants'], ['For', 'goodness', 'sake', 'please', 'be', 'nice', 'to', 'him'], ['I', 'could', \"n't\", 'be', 'happier'], ['Our', 'work', 'is', 'almost', 'over'], ['I', 'remember', 'seeing', 'the', 'gentleman', 'before'], ['She', 'has', 'been', 'studying', 'English', 'since', 'the', 'age', 'of', 'ten'], ['Tom', 'spoke', 'in', 'a', 'low', 'voice'], ['Tom', 'could', 'think', 'of', 'no', 'reason', 'why', 'he', 'should', 'give', 'Mary', 'any', 'money'], ['We', 'live', 'in', 'that', 'apartment', 'just', 'over', 'the', 'street'], ['Marriage', 'customs', 'differ', 'by', 'country'], ['Your', 'suit', 'is', 'the', 'same', 'as', 'mine'], ['Ann', 'likes', 'chocolate', 'very', 'much'], ['Wait', 'till', 'I', 'get', 'my', 'hat'], ['What', \"'s\", 'the', 'name', 'of', 'the', 'person', 'who', 'recommended', 'us', 'to', 'you'], ['You', 'wrote', 'that', 'you', 'thought', 'Tom', 'would', 'be', 'late'], ['For', 'all', 'I', 'know', 'he', 'was', 'born', 'in', 'Italy'], ['Why', 'do', \"n't\", 'you', 'do', 'homework'], ['It', 'was', 'an', 'accident', 'that', 'was', 'waiting', 'to', 'happen'], ['She', 'was', 'absent', 'because', 'she', 'caught', 'a', 'cold'], ['That', 'book', 'is', 'written', 'in', 'English'], ['Do', \"n't\", 'leave', 'me', 'again'], ['We', 'want', 'complete', 'sentences'], ['The', 'group', 'of', 'clowns', 'begin', 'stumbling', 'as', 'they', 'ran'], ['I', 'am', 'invited', 'to', 'this', 'party'], ['Tom', 'apologized', 'for', 'not', 'having', 'told', 'Mary', 'sooner'], ['Who', 'is', 'that', 'old', 'man'], ['Have', 'you', 'figured', 'out', 'the', 'cost'], ['You', \"'re\", 'not', 'in', 'this', 'alone'], ['It', \"'s\", 'fun', 'to', 'take', 'a', 'trip', 'in', 'an', 'automobile'], ['What', 'can', 'Tom', 'say'], ['I', \"'m\", 'not', 'rich', 'enough', 'to', 'buy', 'that'], ['They', 'contacted', 'their', 'local', 'politicians'], ['Tom', \"'s\", 'elderly'], ['If', 'you', 'ca', \"n't\", 'love', 'yourself', 'no', 'one', 'else', 'will'], ['You', 'have', 'eaten', 'lunch', 'have', \"n't\", 'you'], ['Tom', 'applied', 'for', 'a', 'leave', 'of', 'absence'], ['Can', 'you', 'believe', 'this'], ['I', 'had', 'no', 'idea', 'what', 'I', 'was', 'looking', 'for'], ['I', 'know', 'who', 'killed', 'Tom'], ['Tom', 'fell', 'into', 'the', 'pool', 'and', 'drowned'], ['Swimming', 'in', 'the', 'sea', 'is', 'great', 'fun'], ['Her', 'father', 'was', 'probably', 'killed', 'in', 'a', 'car', 'accident'], ['Do', \"n't\", 'go', 'to', 'sleep', 'with', 'the', 'light', 'on'], ['The', 'letter', 'is', 'being', 'written', 'at', 'this', 'very', 'minute'], ['Eat', 'and', 'drink', 'as', 'much', 'as', 'you', 'want'], ['I', \"'ll\", 'never', 'forgive', 'him'], ['For', 'one', 'thing', 'I', 'do', \"n't\", 'have', 'any', 'money', 'For', 'another', 'I', 'do', \"n't\", 'have', 'the', 'time'], ['Tom', 'lit', 'the', 'candle', 'and', 'then', 'stared', 'at', 'its', 'flame'], ['She', 'has', 'tried', 'various', 'methods', 'of', 'slimming', 'down'], ['Tom', 'really', 'enjoyed', 'the', 'party'], ['Tom', 'is', 'ready', 'to', 'go', 'home', 'now'], ['He', 'took', 'out', 'one', 'egg'], ['I', 'go', 'to', 'Tokyo', 'every', 'day'], ['They', 'ca', \"n't\", 'push', 'us', 'around'], ['I', \"'m\", 'going', 'to', 'mow', 'the', 'lawn', 'tomorrow', 'weather', 'permitting'], ['During', 'warm', 'weather', 'sweating', 'helps', 'man', 'regulate', 'his', 'body', 'temperature'], ['That', 'sounds', 'a', 'lot', 'easier', 'to', 'do', 'than', 'it', 'is'], ['Tell', 'Tom', 'I', 'do', \"n't\", 'know', 'where', 'his', 'car', 'keys', 'are'], ['It', 'was', 'romantic'], ['We', 'ca', \"n't\", 'all', 'be', 'like', 'Tom'], ['He', 'stood', 'up'], ['We', \"'ll\", 'toss', 'for', 'it'], ['Take', 'a', 'wild', 'guess'], ['The', 'girl', 'fainted', 'but', 'she', 'came', 'to', 'when', 'we', 'threw', 'water', 'on', 'her', 'face'], ['If', 'we', 'hang', 'tight', 'I', \"'m\", 'sure', 'we', 'can', 'make', 'it', 'through', 'these', 'bad', 'times'], ['How', 'deep', 'is', 'that', 'lake'], ['Tom', 'flew', 'in', 'from', 'Boston', 'that', 'night'], ['Close', 'your', 'eyes', 'Tom'], ['Let', \"'s\", 'get', 'together'], ['That', 'was', 'very', 'foolish'], ['I', 'have', 'caught', 'a', 'cold'], ['I', 'feel', 'a', 'lot', 'better', 'now'], ['Tom', 'read', 'the', 'entire', 'book', 'in', 'three', 'hours'], ['Tom', 'could', 'barely', 'speak'], ['Pink', 'is', 'for', 'girls'], ['Are', 'you', 'guys', 'OK'], ['I', 'did', \"n't\", 'go', 'into', 'the', 'cave', 'with', 'Tom'], ['I', 'know', 'that', 'you', 'love', 'me'], ['What', \"'s\", 'your', 'favorite', 'non-caffeinated', 'drink'], ['She', 'often', 'calls', 'him', 'names'], ['How', 'can', 'you', 'be', 'so', 'calm'], ['We', \"'ve\", 'only', 'got', 'three', 'more', 'days'], ['How', 'many', 'volunteers', 'did', 'you', 'find'], ['You', 'have', 'only', 'to', 'read', 'a', 'few', 'pages', 'of', 'this', 'book'], ['A', 'good', 'management', 'would', 'listen', 'to', 'reasonable', 'demands'], ['He', 'really', 'makes', 'me', 'angry'], ['I', 'am', 'uncomfortable', 'in', 'these', 'new', 'shoes'], ['I', \"'m\", 'not', 'interested'], ['She', 'breathed', 'in', 'the', 'cold', 'air'], ['Tom', 'recognized', 'the', 'old', 'man', 'but', 'did', \"n't\", 'know', 'his', 'name'], ['Tom', 'knew', 'exactly', 'what', 'to', 'say'], ['I', 'ca', \"n't\", 'get', 'Tom', 'out', 'of', 'the', 'house'], ['I', \"'m\", 'sure', 'everything', 'will', 'work', 'out', 'in', 'the', 'end'], ['I', 'feel', 'cold', 'Would', 'you', 'shut', 'the', 'window', 'please'], ['We', \"'re\", 'just', 'children'], ['Mr.', 'Brown', 'has', 'a', 'magical', 'way', 'with', 'children'], ['He', 'will', 'get', 'better', 'in', 'two', 'weeks'], ['We', \"'re\", 'better'], ['The', 'old', 'cottage', 'had', 'only', 'one', 'bed', 'so', 'we', 'all', 'took', 'turns', 'sleeping', 'in', 'it'], ['Who', 'are', 'you', 'to', 'judge'], ['It', 'was', 'just', 'a', 'coincidence'], ['May', 'I', 'speak', 'frankly'], ['I', 'did', \"n't\", 'expect', 'you', 'to', 'say', 'that'], ['You', \"'d\", 'have', 'done', 'the', 'same', 'in', 'my', 'position'], ['This', 'family', 'gave', 'me', 'a', 'warm', 'welcome'], ['It', 'was', 'like', 'something', 'out', 'of', 'a', 'nightmare'], ['I', \"'ll\", 'take', 'some', 'X-rays', 'of', 'your', 'teeth'], ['That', 'has', 'us', 'concerned'], ['By', 'the', 'way', 'how', 'many', 'of', 'you', 'keep', 'diaries'], ['Susan', 'made', 'a', 'dress', 'for', 'Jill'], ['We', \"'re\", 'doing', 'nothing'], ['Tom', 'promised', 'to', 'help'], ['I', 'was', 'skeptical'], ['As', 'soon', 'as', 'you', 'tell', 'me', 'what', 'to', 'do', 'I', \"'ll\", 'do', 'it'], ['Needless', 'to', 'say', 'getting', 'up', 'early', 'is', 'important'], ['There', 'was', 'a', 'sharp', 'rise', 'in', 'prices', 'last', 'year'], ['There', \"'s\", 'a', 'bird', 'singing', 'in', 'the', 'cage', 'is', \"n't\", 'there'], ['This', 'is', 'the', 'free', 'one'], ['Common-law', 'relationships', 'are', 'not', 'legal', 'unions', 'in', 'France'], ['Tom', 'sent', 'a', 'picture', 'postcard', 'to', 'Mary'], ['My', 'car', \"'s\", 'in', 'the', 'garage'], ['The', 'children', 'are', 'full', 'of', 'energy'], ['He', 'will', 'play', 'soccer', 'tomorrow'], ['Five', 'times', 'five', 'is', 'twenty-five'], ['I', \"'m\", 'a', 'volleyball', 'player'], ['It', 'was', 'careless', 'of', 'him', 'to', 'make', 'such', 'a', 'mistake'], ['My', 'Arabic', 'is', \"n't\", 'very', 'good'], ['I', 'want', 'another', 'chance'], ['Get', 'dressed'], ['I', 'kind', 'of', 'wish', 'you', 'had', \"n't\", 'done', 'that'], ['I', 'asked', 'Tom', 'if', 'he', 'knew', 'anybody', 'who', 'taught', 'French'], ['I', \"'m\", 'a', 'thirty-year-old', 'unmarried', 'woman'], ['We', 'made', 'an', 'appeal', 'for', 'support'], ['He', 'would', 'die', 'within', 'a', 'month'], ['I', 'did', \"n't\", 'know', 'where', 'else', 'to', 'go'], ['Napoleon', 'called', 'the', 'English', 'a', 'nation', 'of', 'shopkeepers'], ['Do', 'you', 'want', 'to', 'go', 'to', 'jail'], ['In', 'order', 'to', 'serve', 'you', 'better', 'your', 'call', 'may', 'be', 'monitored'], ['The', 'boy', 'hid', 'behind', 'the', 'door'], ['Why', 'is', 'Tom', 'there'], ['Jane', 'wore', 'the', 'same', 'ribbon', 'as', 'her', 'mother', 'did'], ['His', 'English', 'is', 'better', 'than', 'mine'], ['What', \"'s\", 'your', 'favorite', 'part', 'of', 'this', 'book'], ['Tom', 'was', \"n't\", 'paying', 'attention'], ['His', 'condition', 'got', 'worse', 'every', 'day'], ['He', 'would', 'often', 'sit', 'for', 'hours', 'without', 'saying', 'a', 'word'], ['They', 'ate', 'up', 'all', 'the', 'cake'], ['I', 'think', 'I', \"'m\", 'in', 'big', 'trouble'], ['What', 'do', 'I', 'need', 'to', 'do', 'now'], ['She', 'treated', 'him', 'very', 'well'], ['She', 'has', 'a', 'brilliant', 'future'], ['Tom', 'has', 'been', 'in', 'the', 'hospital', 'for', 'a', 'few', 'months'], ['You', 'have', 'a', 'pretty', 'good', 'memory'], ['We', \"'re\", 'aware', 'of', 'the', 'risks'], ['I', 'was', \"n't\", 'stealing', 'anything'], ['How', 'long', 'do', 'you', 'want', 'this', 'time'], ['The', 'pretty', 'girl', 'in', 'the', 'bikini', 'is', 'Tom', \"'s\", 'sister'], ['No', 'other', 'mountain', 'in', 'the', 'world', 'is', 'so', 'high', 'as', 'Mt', 'Everest'], ['Economy', 'cars', 'save', 'you', 'money'], ['Tom', 'would', 'never', 'have', 'let', 'that', 'happen'], ['Matsutake', 'mushrooms', 'are', 'in', 'season', 'now', 'so', 'they', 'are', 'cheap'], ['He', 'was', 'alone'], ['I', 'really', 'ought', 'to', 'buy', 'a', 'new', 'car'], ['I', 'was', 'tired', 'from', 'studying'], ['The', 'train', 'leaves', 'at', '2:30', 'p.m'], ['We', \"'ll\", 'wait', 'for', 'you', 'there'], ['We', 'know', 'you', 'can', 'handle', 'it', 'Tom'], ['I', 'knew', 'where', 'to', 'search'], ['I', 'meet', 'with', 'him', 'once', 'every', 'six', 'months'], ['It', \"'s\", 'very', 'frustrating'], ['The', 'policeman', 'told', 'me', 'that', 'the', 'last', 'bus', 'leaves', 'at', 'ten'], ['Did', 'the', 'meeting', 'go', 'well'], ['We', 'learn', 'a', 'lot', 'from', 'experience'], ['Let', \"'s\", 'suppose', 'for', 'the', 'sake', 'of', 'argument', 'that', 'you', \"'re\", 'right'], ['He', 'can', 'run', 'as', 'fast', 'as', 'any', 'other', 'boy'], ['I', 'offered', 'to', 'help', 'Tom', 'move'], ['It', 'is', 'definite', 'that', 'he', 'will', 'go', 'to', 'America'], ['You', 'were', 'nodding', 'off', 'at', 'times', 'during', 'my', 'lecture'], ['The', 'sperm', 'whale', 'can', 'dive', 'to', 'a', 'depth', 'of', '1,000', 'meters'], ['A', 'Mexican', 'taught', 'him', 'Spanish'], ['We', \"'re\", 'watching', 'TV'], ['We', 'came', 'to', 'the', 'conclusion', 'that', 'he', 'should', 'be', 'fired'], ['Tom', 'made', 'a', 'promise', 'to', 'himself', 'that', 'he', 'would', 'never', 'make', 'the', 'same', 'mistake', 'again'], ['Hi', 'I', \"'m\", 'new', 'here'], ['He', 'does', \"n't\", 'believe', 'in', 'God'], ['Tom', 'opened', 'his', 'toolbox'], ['My', 'back', 'still', 'hurts'], ['Tom', 'and', 'Mary', 'are', 'still', 'making', 'up', 'their', 'minds'], ['I', 'lost', 'my', 'hat'], ['Tom', 'sometimes', 'stays', 'up', 'late', 'at', 'night'], ['The', 'murderer', 'was', 'finally', 'caught', 'last', 'night'], ['The', 'teacher', 'will', 'give', 'him', 'a', 'passing', 'grade', 'if', 'he', 'shows', 'effort'], ['What', \"'s\", 'the', 'most', 'interesting', 'thing', 'you', 'ate', 'on', 'your', 'trip'], ['Tom', 'had', 'blue', 'eyes'], ['There', 'is', 'nothing', 'as', 'important', 'as', 'friendship'], ['They', 'took', 'food', 'and', 'clothing'], ['We', 'do', \"n't\", 'really', 'need', 'Tom'], ['You', 'do', \"n't\", 'want', 'to', 'tell', 'me', 'why', 'do', 'you'], ['Tom', 'played', 'an', 'old', 'Irish', 'song', 'on', 'his', 'new', 'French', 'horn'], ['He', \"'s\", 'been', 'asleep', 'for', 'ten', 'hours', 'now'], ['We', \"'ll\", 'speak', 'to', 'Tom', 'later'], ['He', 'is', 'an', 'ill-mannered', 'man'], ['I', 'do', \"n't\", 'want', 'you', 'to', 'tell', 'me', 'what', 'I', 'already', 'know'], ['I', \"'m\", 'analytical'], ['The', 'new', 'building', 'is', 'enormous'], ['Tom', 'has', 'just', 'arrived'], ['I', 'can', 'still', 'remember', 'a', 'few', 'words', 'in', 'Spanish'], ['Help', 'me', 'with', 'my', 'homework'], ['I', 'lost', 'my', 'phone'], ['This', 'is', 'not', 'going', 'to', 'end', 'well'], ['Does', 'that', 'really', 'happen'], ['Is', 'the', 'tap', 'water', 'in', 'Australia', 'drinkable'], ['Whatever', 'happens', 'do', \"n't\", 'open', 'that', 'door'], ['Huge', 'numbers', 'of', 'soldiers', 'and', 'civilians', 'were', 'killed'], ['It', 'is', 'of', 'the', 'utmost', 'importance'], ['Tom', 'said', 'that', 'he', 'thought', 'Mary', 'knew', 'when', 'John', 'had', 'graduated', 'from', 'Harvard'], ['The', 'British', 'government', 'is', 'against', 'the', 'plan'], ['At', 'least', '100', 'people', 'attended'], ['Do', 'you', 'think', 'that', 'money', 'really', 'matters', 'to', 'me'], ['I', 'was', \"n't\", 'expecting', 'to', 'hear', 'from', 'you'], ['Tom', 'went', 'white-water', 'rafting'], ['Tom', 'was', 'alone'], ['Tom', 'is', 'out', 'having', 'drinks', 'with', 'Mary'], ['His', 'speech', 'deeply', 'affected', 'the', 'audience'], ['Why', 'are', 'we', 'celebrating'], ['It', \"'s\", 'finally', 'Friday'], ['It', \"'s\", 'too', 'painful'], ['Mike', 'always', 'remains', 'calm'], ['You', 'can', 'see', 'the', 'smokestacks', 'of', 'the', 'factory', 'from', 'the', 'window'], ['I', \"'ve\", 'got', 'no', 'reason', 'to', 'lie', 'to', 'you'], ['She', 'showed', 'me', 'her', 'room'], ['The', 'prince', 'became', 'a', 'king', 'that', 'day'], ['It', 'is', \"n't\", 'your', 'fault'], ['Proverbs', 'are', 'full', 'of', 'wisdom'], ['Is', \"n't\", 'this', 'the', 'wrong', 'time', 'to', 'visit', 'him'], ['He', 'is', 'afraid', 'of', 'dogs'], ['I', \"'m\", 'sorry', 'this', 'is', \"n't\", 'for', 'sale'], ['I', 'needed', 'to', 'meet', 'you'], ['I', 'want', 'to', 'buy', 'that'], ['I', 'am', 'saving', 'money', 'in', 'order', 'to', 'buy', 'a', 'new', 'personal', 'computer'], ['Tom', 'agreed', 'to', 'work', 'with', 'us'], ['Hold', 'this', 'while', 'I', 'tie', 'my', 'shoes'], ['I', 'suggest', 'we', 'continue'], ['Tom', 'and', 'Mary', 'both', 'look', 'worried', 'and', 'exhausted'], ['Tom', 'held', 'Mary', 'tightly', 'in', 'his', 'arms'], ['Tom', 'stayed', 'late'], ['Her', 'condition', 'grew', 'worse', 'last', 'night'], ['Tom', 'has', 'had', 'eight', 'jobs', 'in', 'ten', 'years'], ['We', 'do', \"n't\", 'know', 'yet'], ['Tom', 'could', \"n't\", 'understand', 'why', 'Mary', 'had', 'made', 'that', 'decision'], ['I', 'walk', 'to', 'work', 'every', 'day'], ['He', 'did', 'not', 'want', 'war'], ['We', 'were', 'obliged', 'to', 'abandon', 'our', 'plan'], ['You', 'can', 'come', 'in', 'now'], ['I', 'was', 'never', 'brave'], ['She', 'described', 'the', 'scene', 'in', 'detail'], ['I', 'can', 'teach', 'you', 'how', 'to', 'read'], ['I', \"'m\", 'afraid', 'I', 'do', \"n't\", 'understand'], ['I', 'want', 'details'], ['I', 'ca', \"n't\", 'decide', 'what', 'to', 'eat', 'for', 'lunch', 'today'], ['Tom', 'and', 'I', 'are', 'like', 'brothers'], ['It', 'was', 'empty'], ['When', 'will', 'this', 'be', 'returned', 'to', 'me'], ['The', 'politician', 'tried', 'to', 'cover', 'up', 'the', 'insider', 'trading'], ['I', 'worked', 'in', 'Rio', 'de', 'Janeiro', 'for', 'two', 'years'], ['What', \"'s\", 'your', 'favorite', 'thing', 'to', 'do', 'on', 'a', 'rainy', 'day'], ['We', 'discussed', 'a', 'number', 'of', 'options'], ['Our', 'offer', 'still', 'stands', 'if', 'you', \"'re\", 'interested'], ['Tom', 'and', 'I', 'have', \"n't\", 'seen', 'each', 'other', 'since', 'we', 'were', 'in', 'kindergarten'], ['I', 'was', 'thinking', 'of', 'buying', 'a', 'new', 'car'], ['Why', 'does', \"n't\", 'he', 'sit', 'with', 'me', 'anymore'], ['Here', 'come', 'the', 'police', 'Let', \"'s\", 'get', 'out', 'of', 'here'], ['Do', \"n't\", 'bother', 'looking', 'for', 'me'], ['Our', 'son', 'was', 'killed', 'in', 'the', 'war'], ['Just', 'wait', 'here', 'until', 'help', 'arrives'], ['He', 'returned', 'from', 'the', 'workshop'], ['I', 'have', 'something', 'for', 'you'], ['Are', 'you', 'suggesting', 'Tom', 'did', \"n't\", 'die', 'of', 'natural', 'causes'], ['Tom', 'seems', 'harmless'], ['They', 'seem', 'unstoppable'], ['All', 'the', 'sheep', 'were', 'huddled', 'together', 'in', 'the', 'shade', 'of', 'the', 'only', 'tree', 'in', 'the', 'paddock'], ['Do', 'you', 'have', 'an', 'appointment'], ['I', 'was', 'scared', 'of', 'Tom'], ['It', \"'s\", 'just', 'the', 'right', 'size'], ['Just', 'tell', 'me', 'how', 'to', 'do', 'it'], ['The', 'politician', 'was', 'removed', 'from', 'office'], ['What', 'I', 'really', 'want', 'to', 'do', 'is', 'go', 'to', 'Boston', 'to', 'visit', 'Tom'], ['Tom', 'asked', 'Mary', 'to', 'help', 'him', 'with', 'his', 'science', 'project'], ['Tom', \"'s\", 'concerned'], ['There', \"'s\", 'something', 'going', 'on', 'is', \"n't\", 'there'], ['All', 'Tom', 'really', 'needed', 'was', 'a', 'hug'], ['He', 'is', 'quick', 'to', 'adapt', 'to', 'new', 'circumstances'], ['I', 'was', 'distracted'], ['You', 'always', 'destroy', 'everything'], ['There', \"'s\", 'nothing', 'as', 'precious', 'as', 'love'], ['I', 'do', \"n't\", 'want', 'Tom', 'to', 'see', 'this'], ['Reading', 'a', 'book', 'can', 'be', 'compared', 'to', 'a', 'journey'], ['I', 'never', 'wanted', 'you', 'to', 'go'], ['It', 'will', 'hurt', 'a', 'little', 'but', 'not', 'much'], ['I', 'trusted', 'my', 'teacher'], ['He', 'complained', 'of', 'having', 'been', 'treated', 'unfairly'], ['My', 'brother', 'is', 'watching', 'TV'], ['I', 'do', \"n't\", 'think', 'it', \"'ll\", 'be', 'any', 'problem'], ['She', 'always', 'speaks', 'to', 'him', 'in', 'a', 'loud', 'voice', 'because', 'he', \"'s\", 'hard', 'of', 'hearing'], ['I', 'wish', 'I', \"'d\", 'kept', 'my', 'mouth', 'shut'], ['There', 'is', 'a', 'bus', 'every', '20', 'minutes'], ['Tom', 'is', \"n't\", 'so', 'good', 'at', 'singing'], ['Good', 'lumber', 'is', 'hard', 'to', 'find', 'these', 'days'], ['I', 'know', 'how', 'to', 'use', 'this'], ['Please', 'open', 'this', 'box'], ['I', 'think', 'Tom', 'has', 'been', 'here'], ['You', 'have', 'to', 'choose'], ['Among', 'the', 'products', 'of', 'this', 'region', 'cotton', 'predominates'], ['When', 'was', 'the', 'last', 'time', 'you', 'called', 'Mary'], ['Where', \"'s\", 'your', 'better', 'half'], ['They', 'are', 'eating', 'their', 'apples'], ['I', 'can', 'get', 'one', 'of', 'those', 'any', 'time', 'I', 'want'], ['Who', \"'s\", 'your', 'favorite', 'photographer'], ['Tom', 'spoke', 'quietly'], ['How', 'did', 'you', 'lose', 'so', 'much', 'weight'], ['I', \"'ll\", 'do', 'what', 'needs', 'to', 'be', 'done'], ['What', 'would', 'you', 'do', 'if', 'you', 'had', 'a', 'million', 'dollars'], ['How', 'many', 'times', 'have', 'you', 'done', 'that'], ['I', 'miss', 'you', 'when', 'you', \"'re\", 'not', 'here'], ['I', 'never', 'harmed', 'Tom'], ['Let', \"'s\", 'split', 'up', 'and', 'look', 'for', 'Tom'], ['My', 'feet', 'went', 'to', 'sleep', 'and', 'I', 'could', 'not', 'stand', 'up'], ['Tom', 'ca', \"n't\", 'afford', 'to', 'eat', 'at', 'that', 'kind', 'of', 'restaurant', 'so', 'let', \"'s\", 'go', 'somewhere', 'else'], ['I', 'want', 'to', 'go', 'outside', 'for', 'a', 'breath', 'of', 'fresh', 'air'], ['Mine', 'owners', 'refused', 'to', 'negotiate'], ['Tom', 'and', 'Mary', 'gave', 'their', 'mother', 'flowers', 'on', 'Mother', \"'s\", 'Day'], ['Given', 'her', 'interest', 'in', 'children', 'I', 'am', 'sure', 'teaching', 'is', 'the', 'right', 'career', 'for', 'her'], ['It', \"'s\", 'sufficient'], ['I', 'have', 'to', 'pick', 'up', 'my', 'son', 'at', '2:30'], ['I', \"'m\", 'here', 'at', 'Tom', \"'s\", 'request'], ['I', \"'m\", 'speaking', 'to', 'you', 'as', 'a', 'friend'], ['There', \"'s\", 'one', 'thing', 'that', 'is', 'bothering', 'me'], ['Have', 'you', 'washed', 'your', 'hands', 'yet'], ['It', \"'s\", 'just', 'like', 'walking', 'on', 'the', 'moon'], ['This', 'animal', 'is', 'friendly'], ['We', 'were', 'greatly', 'relieved', 'to', 'find', 'that', 'the', 'worst', 'dangers', 'were', 'over'], ['I', 'drank', 'a', 'liter', 'of', 'coffee'], ['I', 'ca', \"n't\", 'confirm', 'anything', 'at', 'this', 'time'], ['The', 'noise', 'disturbed', 'my', 'sleep'], ['I', 'went', 'to', 'school', 'on', 'foot', 'in', 'those', 'days'], ['That', 'would', 'be', 'fine'], ['I', 'really', 'do', \"n't\", 'think', 'Tom', 'is', 'going', 'to', 'go'], ['Friendship', 'consists', 'of', 'mutual', 'understanding'], ['Tom', 'started', 'singing', 'along', 'with', 'Mary'], ['He', 'heard', 'a', 'very', 'small', 'voice'], ['You', \"'re\", 'stronger', 'than', 'Tom', 'is'], ['You', 'look', 'surprised', 'to', 'see', 'me'], ['I', \"'ve\", 'never', 'been', 'to', 'Europe'], ['You', 'should', 'consult', 'the', 'dictionary'], ['I', 'just', 'needed', 'a', 'little', 'encouragement'], ['The', 'weather', 'is', 'more', 'changeable', 'in', 'mountain', 'regions', 'than', 'in', 'any', 'other', 'district'], ['Tom', 'met', 'Mary', 'at', 'the', 'door'], ['I', 'bought', 'myself', 'a', 'dog'], ['The', 'wind', 'gradually', 'died', 'down'], ['What', 'exactly', 'should', 'I', 'have', 'told', 'Tom'], ['Black', 'smoke', 'spewed', 'out', 'of', 'the', 'third-story', 'windows'], ['I', 'am', 'grateful', 'to', 'you', 'for', 'your', 'kindness'], ['Let', \"'s\", 'party'], ['Tom', 'said', 'Mary', 'was', 'in', 'Boston'], ['I', 'only', 'know', 'that', 'Tom', 'is', \"n't\", 'happy'], ['I', \"'d\", 'rather', 'die', 'than', 'surrender'], ['There', \"'s\", 'a', 'coffee', 'shop', 'in', 'front', 'of', 'the', 'station'], ['He', 'is', 'in', 'the', 'habit', 'of', 'taking', 'a', 'walk', 'before', 'breakfast'], ['There', 'are', 'a', 'lot', 'of', 'problems', 'we', 'ca', \"n't\", 'avoid'], ['That', 'did', 'me', 'good'], ['Do', 'you', 'have', 'something', 'stronger', 'to', 'drink'], ['Can', 'I', 'have', 'a', 'copy', 'of', 'that'], ['We', 'need', 'to', 'talk', 'about', 'what', 'needs', 'to', 'be', 'done'], ['Tom', 'what', 'are', 'you', 'doing'], ['He', 'pretended', 'not', 'to', 'be', 'listening'], ['I', 'want', 'to', 'apologize'], ['It', 'can', 'not', 'be', 'done'], ['All', 'the', 'boys', 'were', 'whistling', 'and', 'cheering'], ['Tom', 'finally', 'noticed', 'what', 'Mary', 'was', 'doing'], ['Tom', 'has', 'other', 'things', 'on', 'his', 'mind', 'right', 'now'], ['You', 'did', \"n't\", 'get', 'very', 'far'], ['I', 'would', \"n't\", 'want', 'to', 'miss', 'this'], ['Are', 'you', 'attracted', 'to', 'me'], ['Tom', 'was', 'one', 'of', 'the', 'invited', 'guests'], ['Who', 'am', 'I', 'kidding'], ['Have', 'you', 'ever', 'fallen', 'in', 'love'], ['I', 'was', 'out', 'celebrating'], ['Tom', 'looks', 'quite', 'uncomfortable'], ['You', 'ca', \"n't\", 'eat', 'just', 'one'], ['You', 'should', 'go', 'and', 'have', 'your', 'hair', 'cut'], ['I', \"'ve\", 'got', 'to', 'be', 'very', 'careful', 'Tom'], ['Tom', 'never', 'knew', 'that'], ['This', 'medicine', 'tastes', 'bitter'], ['Tom', 'found', 'that', 'difficult', 'to', 'believe'], ['I', \"'m\", 'waiting', 'to', 'see', 'what', 'Tom', 'will', 'do'], ['How', 'much', 'rent', 'does', 'Tom', 'charge', 'you'], ['He', 'ran'], ['Ten', 'people', 'were', 'slightly', 'injured', 'in', 'the', 'accident'], ['Let', \"'s\", 'just', 'let', 'sleeping', 'dogs', 'lie'], ['Do', \"n't\", 'do', 'it', 'It', \"'s\", 'stupid', 'and', 'dangerous'], ['I', 'do', \"n't\", 'think', 'Tom', 'would', 'be', 'welcomed'], ['Tom', \"'s\", 'sentence', 'was', '25', 'hours', 'of', 'community', 'service'], ['Tom', 'wanted', 'to', 'be', 'just', 'like', 'his', 'dad'], ['I', \"'ve\", 'got', 'a', 'lot', 'to', 'make', 'up', 'for'], ['His', 'comments', 'about', 'the', 'book', 'were', 'favorable'], ['I', 'got', 'him', 'to', 'mend', 'my', 'shoes'], ['The', 'team', 'played', 'hard', 'because', 'the', 'championship', 'of', 'the', 'state', 'was', 'at', 'stake'], ['I', \"'m\", 'going', 'to', 'the', 'village', 'tomorrow'], ['I', 'know', 'it', 'well', 'enough'], ['Tom', 'is', 'probably', 'the', 'one', 'who', 'stole', 'Mary', \"'s\", 'necklace'], ['Has', 'any', 'action', 'been', 'taken', 'on', 'my', 'case'], ['She', 'gave', 'me', 'a', 'haughty', 'look', 'and', 'walked', 'away'], ['Seeing', 'the', 'fresh', 'lobster', 'made', 'me', 'hungry'], ['I', 'assume', 'you', \"'ve\", 'had', 'breakfast'], ['I', 'think', 'you', 'owe', 'her', 'an', 'explanation'], ['Tom', 'exposed', 'Mary', 'as', 'a', 'fraud'], ['I', 'wish', 'you', 'had', 'told', 'me', 'how', 'to', 'do', 'it'], ['The', 'company', 'asked', 'the', 'bank', 'to', 'loan', 'them', 'some', 'money', 'to', 'buy', 'new', 'machinery'], ['I', 'do', 'not', 'work'], ['He', \"'s\", 'good', 'at', 'swimming'], ['The', 'offer', 'is', 'too', 'good', 'to', 'be', 'turned', 'down'], ['When', 'she', 'became', 'a', 'nun', 'she', 'took', 'the', 'name', 'Sister', 'Teresa'], ['Tom', 'did', \"n't\", 'want', 'to', 'do', 'that', 'but', 'he', 'felt', 'he', 'had', 'no', 'choice'], ['Tom', 'and', 'Mary', 'were', 'looking', 'at', 'each', 'other'], ['Unless', 'it', \"'s\", 'something', 'fairly', 'impressive', 'I', 'wo', \"n't\", 'remember', 'it'], ['Tom', 'persuaded', 'the', 'store', 'manager', 'to', 'give', 'him', 'back', 'his', 'money'], ['I', 'want', 'to', 'live', 'here'], ['A', 'robot', 'can', 'do', 'more', 'work', 'than', 'a', 'man', 'can'], ['Let', 'me', 'take', 'a', 'picture', 'of', 'you'], ['The', 'new', 'teacher', 'is', 'in', 'the', 'classroom'], ['Where', 'are', 'you'], ['I', 'know', 'exactly', 'what', 'I', \"'m\", 'asking'], ['It', 'was', 'pitch', 'black', 'outside'], ['I', 'still', 'have', 'to', 'find', 'someone', 'to', 'go', 'with', 'me'], ['That', \"'s\", 'how', 'it', \"'s\", 'always', 'been'], ['Are', 'you', 'important'], ['I', 'have', \"n't\", 'finished', 'my', 'homework', 'yet'], ['What', 'has', 'become', 'of', 'him'], ['I', \"'m\", 'really', 'scared'], ['You', 'can', 'always', 'ask', 'me', 'for', 'help'], ['I', \"'m\", 'unable', 'to', 'translate', 'this', 'sentence'], ['Take', 'a', 'walk', 'every', 'day'], ['This', 'sum', 'of', 'money', 'wo', \"n't\", 'go', 'far'], ['Do', 'you', 'miss', 'me'], ['Tom', 'does', \"n't\", 'know', 'a', 'lot', 'about', 'Boston'], ['I', 'thought', 'Tom', 'would', 'never', 'leave'], ['I', \"'ve\", 'never', 'played', 'golf'], ['Pack', 'up', 'the', 'bags', 'We', \"'re\", 'going', 'back', 'to', 'Boston'], ['I', 'ca', \"n't\", 'do', 'it', 'alone', 'You', 'have', 'to', 'help', 'me'], ['I', 'was', 'talking', 'to', 'Tom', 'the', 'other', 'day'], ['They', 'know', 'I', 'want', 'to', 'leave', 'now'], ['I', \"'m\", 'busy', 'right', 'now'], ['Tom', 'speaks', 'French', 'much', 'better', 'than', 'anyone', 'else'], ['Tom', 'asked', 'Mary', 'to', 'quit', 'smoking'], ['Tom', 'spends', 'all', 'day', 'speaking', 'French', 'at', 'school', 'and', 'only', 'speaks', 'English', 'at', 'home'], ['I', 'love', 'playing', 'my', 'guitar'], ['You', 'go', 'back', 'inside'], ['It', 'was', 'out', 'of', 'the', 'ordinary', 'for', 'Chris', 'to', 'behave', 'so', 'roughly'], ['Tom', 'and', 'Mary', 'wanted', 'to', 'get', 'married', 'and', 'have', 'kids', 'as', 'soon', 'as', 'possible'], ['We', 'have', 'a', 'stock', 'of', 'toilet', 'paper'], ['Tom', 'will', 'give', 'Mary', 'the', 'details', 'later'], ['The', 'computer', 'repair', 'took', 'all', 'day'], ['Tom', 'probably', 'wo', \"n't\", 'even', 'go'], ['It', \"'s\", 'necessary', 'to', 'take', 'correct', 'measurements', 'when', 'you', 'are', 'tailoring', 'a', 'suit'], ['I', 'told', 'you', 'to', 'stop', 'calling', 'me', 'that'], ['I', \"'d\", 'like', 'to', 'apologize', 'for', 'this', 'morning'], ['I', 'never', 'want', 'to', 'see', 'Tom', 'again'], ['I', 'was', 'just', 'about', 'to', 'say', 'the', 'same', 'thing'], ['I', \"'d\", 'like', 'to', 'go', 'to', 'the', 'zoo'], ['I', 'saw', 'a', 'fight'], ['I', 'ca', \"n't\", 'believe', 'Tom', 'is', 'still', 'talking', 'about', 'what', 'happened', 'two', 'years', 'ago'], ['Tom', 'must', \"'ve\", 'found', 'out', 'about', 'the', 'party', 'from', 'Mary'], ['Never', 'forget', 'it'], ['I', \"'m\", 'surprised', 'that', 'you', \"'re\", 'so', 'naive'], ['Steve', 'is', 'wearing', 'a', 'black', 'turtleneck'], ['I', \"'d\", 'rather', 'discuss', 'this', 'at', 'a', 'later', 'time'], ['I', \"'m\", 'not', 'going', 'to', 'be', 'embarrassed', 'anymore'], ['My', 'phone', \"'s\", 'ringing'], ['I', 'saw', 'someone', 'go', 'into', 'the', 'room'], ['Look', 'for', 'yourself'], ['He', 'went', 'to', 'the', 'United', 'States', 'to', 'study', 'medicine'], ['I', \"'m\", 'glad', 'I', 'make', 'you', 'happy'], ['I', 'ca', \"n't\", 'stay', 'silent', 'on', 'this', 'matter'], ['He', 'is', 'never', 'in', 'the', 'office', 'in', 'the', 'morning'], ['She', 'refused', 'to', 'accept', 'the', 'post'], ['Please', 'help', 'me', 'prepare', 'the', 'food'], ['Tom', 'wants', 'to', 'learn', 'some', 'French', 'songs'], ['There', 'are', 'several', 'advantages', 'to', 'city', 'life'], ['Her', 'legs', 'are', 'long'], ['It', \"'s\", 'your', 'own', 'stupid', 'fault'], ['Tom', 'ca', \"n't\", 'remember', 'where', 'he', 'buried', 'the', 'treasure'], ['The', 'young', 'couple', 'ate', 'off', 'the', 'same', 'plate'], ['That', 'guard', 'tends', 'to', 'do', 'everything', 'by', 'the', 'book'], ['They', 'were', 'not', 'impressed'], ['I', 'have', 'an', 'urge', 'to', 'buy', 'something'], ['I', 'saw', 'my', 'mother', 'hiding', 'the', 'cake'], ['I', 'ran', 'a', 'race', 'with', 'him'], ['I', 'knew', 'you', \"'d\", 'come', 'home'], ['Generally', 'men', 'run', 'faster', 'than', 'women'], ['Tom', 'found', 'the', 'leak', 'and', 'fixed', 'it'], ['That', \"'s\", 'exactly', 'what', 'I', \"'m\", 'suggesting'], ['The', 'girl', 'was', 'busy', 'making', 'tea', 'for', 'her', 'friend'], ['Tom', 'is', 'generous', 'and', 'kind'], ['He', 'is', 'not', 'scared', 'of', 'snakes', 'at', 'all'], ['The', 'embassy', 'is', 'located', 'next', 'to', 'the', 'Supreme', 'Court'], ['It', 'wo', \"n't\", 'work'], ['That', 'man', 'standing', 'near', 'the', 'door', 'and', 'that', 'woman', 'on', 'the', 'opposite', 'side', 'of', 'the', 'room', 'next', 'to', 'the', 'window', 'have', 'photographic', 'memories'], ['Can', 'you', 'stay'], ['I', 'should', 'have', 'told', 'you', 'about', 'this', 'earlier'], ['Tom', 'is', \"n't\", 'alone'], ['She', 'used', 'to', 'live', 'with', 'him'], ['Tom', 'tried', 'hard', 'to', 'live', 'up', 'to', 'his', 'parents', 'expectations'], ['Tom', 'knew', 'that', 'Mary', 'was', 'in', 'danger'], ['She', 'ca', \"n't\", 'cook', 'well'], ['Feeling', 'sick', 'he', 'stayed', 'home', 'from', 'school'], ['Tom', 'contradicts', 'just', 'about', 'everything', 'I', 'say'], ['This', 'is', 'my', 'seat'], ['We', 'did', 'write', 'to', 'you'], ['Tom', 'tore', 'out', 'a', 'couple', 'of', 'pages', 'from', 'his', 'notebook'], ['Mary', 'asked', 'Tom', 'what', 'he', 'thought', 'of', 'her', 'dress', 'but', 'he', 'knew', 'better', 'than', 'to', 'tell', 'her', 'what', 'he', 'really', 'thought'], ['Can', 'we', 'have', 'a', 'word', 'with', 'you'], ['Can', 'you', 'please', 'close', 'that', 'window'], ['You', \"'re\", 'not', 'hungry', 'are', 'you'], ['Can', 'the', 'rumor', 'be', 'true'], ['The', 'first', 'sign', 'of', 'trouble', 'came', 'in', 'September', '1945'], ['There', 'will', 'be', 'an', 'energy', 'crisis', 'in', 'the', 'near', 'future'], ['I', 'thought', 'Tom', 'had', 'left', 'town'], ['I', \"'m\", 'here', 'because', 'Tom', 'ordered', 'me', 'to', 'be', 'here'], ['I', \"'ll\", 'see', 'you', 'tomorrow', 'morning'], ['A', 'big', 'typhoon', 'is', 'approaching'], ['The', 'doctor', 'instructed', 'me', 'to', 'go', 'on', 'a', 'diet'], ['Is', 'that', 'possible'], ['Try', 'to', 'see', 'the', 'problem', 'from', 'her', 'point', 'of', 'view'], ['I', 'thought', 'Tom', 'was', 'just', 'bragging'], ['Turn', 'right', 'at', 'the', 'second', 'corner'], ['I', 'ca', \"n't\", 'get', 'that', 'out', 'of', 'my', 'mind'], ['Tom', 'told', 'me', 'he', 'was', 'home', 'last', 'night'], ['In', 'this', 'school', 'a', 'period', 'is', 'fifty', 'minutes', 'long'], ['How', 'do', 'you', 'like', 'these', 'poems'], ['I', 'felt', 'sympathy', 'for', 'him'], ['Just', 'sit', 'over', 'there', 'with', 'the', 'others'], ['You', 'seem', 'perfect'], ['Japan', 'has', 'changed', 'significantly', 'in', 'the', 'past', '50', 'years'], ['Tom', 'usually', 'walks', 'home', 'from', 'work'], ['A', 'growing', 'child', 'requires', 'more', 'food'], ['Do', \"n't\", 'worry', 'Tom', 'will', 'forgive', 'you'], ['I', 'understood', 'it', 'perfectly'], ['Tom', 'should', 'go', 'see', 'a', 'doctor'], ['Is', 'my', 'explanation', 'clear'], ['I', 'want', 'to', 'find', 'out', 'what', 'happened'], ['I', 'ca', \"n't\", 'understand', 'what', 'they', 'were', 'thinking'], ['The', 'play', 'was', 'produced', 'by', 'him'], ['You', 'have', 'a', 'lot', 'to', 'learn'], ['I', 'liked', 'them', 'before', 'they', 'were', 'popular'], ['We', \"'re\", 'having', 'breakfast'], ['Tom', 'is', 'a', 'terrible', 'farmer'], ['I', 'call', 'her', 'up', 'every', 'day'], ['Tom', 'folded', 'the', 'napkins', 'carefully'], ['I', \"'ll\", 'go', 'back', 'to', 'Boston'], ['Was', 'there', 'much', 'damage'], ['His', 'delay', 'made', 'the', 'situation', 'all', 'the', 'worse'], ['You', 'can', 'get', 'there', 'in', 'less', 'than', 'thirty', 'minutes'], ['Tom', 'is', 'former', 'CIA'], ['The', 'miners', 'did', 'not', 'want', 'to', 'fight'], ['I', 'advised', 'him', 'to', 'take', 'a', 'rest'], ['I', 'do', \"n't\", 'think', 'I', 'have', 'to', 'tell', 'you', 'why'], ['It', 'would', 'be', 'great', 'if', 'we', 'could', 'meet', 'again'], ['Who', 'am', 'I', 'going', 'to', 'eat', 'lunch', 'with'], ['I', 'am', 'not', 'on', 'call', 'tomorrow'], ['I', 'heard', 'what', 'happened', 'last', 'night'], ['She', 'is', 'wearing', 'a', 'white', 'dress', 'today'], ['I', 'need', 'to', 'know', 'by', 'tomorrow'], ['I', 'have', 'been', 'to', 'the', 'station', 'to', 'see', 'him', 'off'], ['I', 'just', 'borrowed', 'it'], ['Her', 'eyes', 'remind', 'me', 'of', 'a', 'cat'], ['She', 'was', 'wearing', 'a', 'heavy', 'coat', 'to', 'protect', 'against', 'the', 'chill'], ['Would', 'you', 'put', 'those', 'bags', 'in', 'the', 'car'], ['Tom', 'had', 'a', 'hectic', 'week'], ['He', 'was', 'easily', 'deceived', 'and', 'gave', 'her', 'some', 'money'], ['I', 'tried', 'to', 'erase', 'the', 'memory', 'of', 'her', 'crying'], ['We', 'have', 'been', 'good', 'friends', 'for', 'a', 'long', 'time'], ['Tom', 'reached', 'for', 'his', 'drink'], ['I', 'sat', 'down', 'in', 'the', 'shade', 'of', 'a', 'tree', 'and', 'read', 'the', 'book'], ['What', 'did', 'you', 'want', 'to', 'tell', 'me'], ['Tom', \"'s\", 'sobs', 'could', 'be', 'heard', 'from', 'the', 'next', 'room'], ['We', \"'re\", 'changing', 'it'], ['The', 'policeman', 'called', 'our', 'attention', 'to', 'the', 'danger', 'of', 'pickpockets'], ['The', 'satellite', 'is', 'in', 'orbit', 'around', 'the', 'moon'], ['All', 'the', 'students', 'attended', 'the', 'party'], ['I', 'guess', 'I', 'have', \"n't\", 'made', 'myself', 'clear'], ['I', \"'ve\", 'been', 'here', 'for', 'three', 'hours'], ['Tom', 'is', 'still', 'hiding'], ['I', 'wish', 'you', 'were', 'a', 'little', 'more', 'like', 'me'], ['The', 'footprints', 'continued', 'down', 'to', 'the', 'river'], ['The', 'boat', 'passed', 'under', 'the', 'bridge'], ['I', 'do', \"n't\", 'think', 'Tom', 'can', 'hear', 'me'], ['Tom', 'seems', 'really', 'annoyed'], ['Did', \"n't\", 'you', 'see', 'my', 'birds'], ['All', 'was', 'silent', 'in', 'the', 'house'], ['Do', \"n't\", 'expect', 'too', 'much', 'of', 'me'], ['We', 'have', 'an', 'orange', 'tree'], ['Do', 'you', 'promise', 'you', 'wo', \"n't\", 'tell', 'anyone'], ['To', 'relax', 'breathe', 'slowly'], ['I', \"'m\", 'sorry', 'I', 'even', 'tried'], ['Tom', 'certainly', 'is', 'a', 'good', 'teacher'], ['My', 'car', 'cost', 'more', 'than', 'yours', 'did'], ['Do', \"n't\", 'move'], ['I', 'was', \"n't\", 'even', 'sure', 'you', 'knew', 'it'], ['Tom', 'has', 'no', 'health', 'problems', 'that', 'I', 'know', 'of'], ['Tom', 'used', 'to', 'work', 'for', 'my', 'grandfather'], ['Ca', \"n't\", 'you', 'see', 'what', 'just', 'happened'], ['I', 'should', \"'ve\", 'told', 'Tom', 'the', 'truth'], ['I', 'do', \"n't\", 'think', 'she', 'will', 'come', 'back', 'by', 'five'], ['They', \"'re\", 'crazy'], ['I', \"'m\", 'very', 'busy', 'so', 'do', \"n't\", 'count', 'on', 'me'], ['Tom', 'did', \"n't\", 'believe', 'Mary', 'at', 'first'], ['We', 'often', 'express', 'our', 'emotions', 'nonverbally'], ['I', 'need', 'to', 'get', 'my', 'oboe', 'repaired'], ['I', 'had', 'a', 'similar', 'experience', 'once'], ['Tell', 'Tom', 'I', \"'m\", 'looking', 'forward', 'to', 'meeting', 'him'], ['You', 'need', 'to', 'double-click', 'on', 'the', 'application', \"'s\", 'icon', 'to', 'open', 'the', 'application'], ['I', 'might', 'need', 'some', 'help'], ['Tom', 'is', 'no', 'killer'], ['You', 'have', \"n't\", 'learned', 'a', 'thing'], ['I', 'can', 'never', 'make', 'my', 'son', 'to', 'eat', 'any', 'vegetables'], ['Can', 'I', 'get', 'you', 'a', 'drink', 'Tom'], ['I', 'did', \"n't\", 'understand', 'the', 'meaning'], ['I', 'guess', 'you', 'will', 'be', 'very', 'busy', 'tonight'], ['Tom', 'chose', 'Mary', 'for', 'the', 'job'], ['I', 'bump', 'into', 'her'], ['We', 'adore', 'picnics'], ['I', 'kind', 'of', 'messed', 'up'], ['Tom', 'glanced', 'back'], ['Maybe', 'Tom', 'will', 'help', 'us', 'find', 'Mary'], ['Let', \"'s\", 'pick', 'flowers', 'from', 'the', 'garden'], ['Where', 'did', 'you', 'get', 'all', 'this', 'from'], ['Tom', 'and', 'I', 'are', 'married', 'to', 'each', 'other'], ['It', \"'s\", 'best', 'if', 'you', 'do', \"n't\", 'talk'], ['Please', 'pass', 'it', 'to', 'the', 'other', 'kids'], ['She', 'died', 'before', 'I', 'arrived', 'there'], ['Tom', 'looked', 'after', 'Mary', 'while', 'her', 'parents', 'were', 'out', 'shopping'], ['That', \"'s\", 'real', 'helpful'], ['He', 'keeps', 'his', 'word'], ['You', 'can', 'fly', 'across', 'America', 'in', 'about', 'five', 'hours'], ['We', \"'re\", 'on', 'the', 'right', 'track'], ['The', 'politician', 'was', 'not', 'ashamed', 'of', 'having', 'taken', 'bribes'], ['Tom', 'cared'], ['He', 'is', 'very', 'friendly', 'so', 'I', 'enjoy', 'working', 'with', 'him'], ['He', 'married', 'his', 'daughter', 'to', 'a', 'lawyer'], ['Mary', 'is', 'the', 'youngest', 'of', 'the', 'three', 'sisters'], ['Tom', 'does', \"n't\", 'want', 'to', 'negotiate'], ['Did', 'it', 'not', 'occur', 'to', 'you', 'to', 'close', 'the', 'windows'], ['Tom', 'did', \"n't\", 'go', 'and', 'I', 'did', \"n't\", 'either'], ['Tom', 'thinks', 'about', 'Mary', 'all', 'the', 'time'], ['The', 'baby', 'needs', 'his', 'mother'], ['Please', 'go', 'get', 'help'], ['Faded', 'jeans', 'are', 'still', 'in', 'fashion'], ['Will', 'the', 'present', 'make', 'him', 'happier'], ['I', 'knew', 'Tom', 'was', 'different'], ['The', 'pencil', 'case', 'is', 'on', 'the', 'table'], ['It', 'rained', 'a', 'lot', 'last', 'summer'], ['My', 'room', 'has', 'only', 'one', 'window'], ['It', 'looks', 'like', 'it', 'is', 'going', 'to', 'clear', 'up', 'soon'], ['It', 'has', 'been', 'ten', 'years', 'since', 'I', 'came', 'here'], ['I', 'decided', 'to', 'buy', 'a', 'car'], ['If', 'you', 'buy', 'two', 'sandwiches', 'I', \"'ll\", 'give', 'you', 'another', 'one', 'for', 'free'], ['Come', 'in', 'The', 'door', 'is', 'open'], ['Either', 'you', 'or', 'I', 'will', 'get', 'the', 'first', 'prize'], ['It', 'was', 'harder', 'than', 'I', 'expected'], ['You', 'do', \"n't\", 'look', 'too', 'good'], ['I', 'was', 'quite', 'surprised'], ['We', 'saw', 'the', 'old', 'building', 'pulled', 'down'], ['I', 'think', 'we', 'make', 'a', 'good', 'team'], ['He', \"'s\", 'had', 'many', 'bad', 'experiences'], ['The', 'dish', 'is', 'too', 'sweet', 'for', 'Tom'], ['He', 'picked', 'a', 'fight', 'with', 'me'], ['For', 'the', 'time', 'being', 'my', 'sister', 'is', 'an', 'assistant', 'in', 'a', 'supermarket'], ['Tom', 'does', \"n't\", 'only', 'teach', 'the', 'guitar', 'he', 'often', 'gives', 'concerts'], ['Tom', 'looked', 'for', 'Mary', 'everywhere'], ['I', \"'m\", 'wide', 'open', 'for', 'suggestions'], ['I', 'did', \"n't\", 'meet', 'anyone', 'there'], ['I', 'feel', 'it', 'now'], ['I', 'could', 'not', 'speak', 'to', 'him'], ['Both', 'Tom', 'and', 'Mary', 'are', 'coming', 'over', 'for', 'lunch'], ['Is', 'it', 'possible', 'to', 'lock', 'the', 'doors', 'of', 'the', 'meeting', 'room'], ['The', 'mice', 'ate', 'some', 'of', 'the', 'bread'], ['These', 'spiral-bound', 'notebooks', 'are', 'really', 'cheap'], ['I', 'assume', 'the', 'two', 'of', 'you', 'know', 'each', 'other'], ['I', 'go', 'ice', 'skating', 'every', 'chance', 'I', 'get'], ['Are', 'you', 'still', 'feeling', 'sick'], ['You', 'do', \"n't\", 'like', 'me', 'very', 'much', 'do', 'you'], ['I', \"'d\", 'rather', 'stay'], ['The', 'boys', 'are', 'still', 'playing', 'in', 'the', 'sandbox'], ['People', 'established', 'churches', 'and', 'schools', 'there'], ['We', 'were', 'all', 'shocked'], ['Tell', 'her', 'that', 'I', 'am', 'washing', 'the', 'car'], ['Is', \"n't\", 'that', 'what', 'you', 'would', 'have', 'done'], ['Tom', 'can', 'do', 'it'], ['Can', 'you', 'give', 'him', 'first', 'aid'], ['Are', 'you', 'going', 'to', 'show', 'me', 'that', 'secret', 'hiding', 'place', 'of', 'yours'], ['I', 'have', 'a', 'niece', 'She', 'goes', 'to', 'the', 'same', 'school', 'as', 'Mary'], ['He', 'is', 'crazy', 'about', 'baseball'], ['Which', 'is', 'correct'], ['We', 'are', 'giving', 'the', 'first', 'prize', 'to', 'a', 'Japanese', 'student'], ['I', 'parked', 'my', 'car', 'by', 'the', 'gate'], ['I', 'would', \"n't\", 'mind', 'stopping', 'for', 'a', 'while', 'now'], ['I', 'wish', 'you', 'could', 'stay'], ['I', \"'ll\", 'sleep', 'on', 'the', 'couch'], ['This', 'is', 'a', 'bit', 'too', 'tight', 'around', 'my', 'neck'], ['Do', 'you', 'think', 'Tom', 'is', 'still', 'up'], ['Tom', 'values', 'your', 'friendship'], ['It', 'does', \"n't\", 'seem', 'serious'], ['They', 'attributed', 'the', 'low', 'death', 'rate', 'of', 'infants', 'to', 'the', 'progress', 'of', 'medicine'], ['I', \"'m\", 'sure', 'you', \"'re\", 'doing', 'all', 'you', 'can'], ['You', 'are', 'welcome', 'to', 'the', 'use', 'of', 'my', 'yacht'], ['It', \"'s\", 'a', 'legal', 'gray', 'area'], ['It', \"'s\", 'perfectly', 'understandable'], ['We', 'are', 'doctors'], ['Have', 'you', 'ever', 'seen', 'him'], ['They', 'sat', 'around', 'the', 'table', 'to', 'play', 'cards'], ['Tom', 'did', \"n't\", 'feel', 'much', 'like', 'eating'], ['Do', \"n't\", 'waste', 'my', 'time', 'asking', 'stupid', 'questions'], ['I', 'remember', 'having', 'seen', 'this', 'movie', 'before'], ['The', 'teacher', 'praised', 'the', 'boy', 'for', 'his', 'honesty'], ['That', \"'s\", 'what', 'Tom', 'wanted'], ['It', \"'ll\", 'be', 'known', 'sooner', 'or', 'later'], ['I', 'ca', \"n't\", 'see', 'the', 'difference'], ['I', 'must', 'hurry'], ['Where', \"'s\", 'everyone'], ['I', 'met', 'him', 'at', 'Tokyo', 'Station'], ['His', 'money', 'was', 'all', 'gone'], ['How', 'about', 'holding', 'a', 'debate', 'on', 'women', \"'s\", 'rights'], ['Our', 'teacher', 'dwelt', 'on', 'the', 'importance', 'of', 'punctuality'], ['Tom', 'will', 'explain'], ['There', 'used', 'to', 'be', 'a', 'drugstore', 'on', 'that', 'corner'], ['The', 'principal', 'assured', 'me', 'of', 'her', 'honesty'], ['Where', 'is', 'the', 'longest', 'tunnel', 'in', 'Japan'], ['I', \"'m\", 'a', 'little', 'sore'], ['She', 'caught', 'a', 'cold', 'last', 'night'], ['Tom', 'has', 'a', 'wide', 'circle', 'of', 'friends'], ['What', 'did', 'this', 'Tom', 'say'], ['They', 'entertained', 'us', 'at', 'dinner', 'last', 'night'], ['Tom', 'I', \"'m\", 'here'], ['I', \"'m\", 'a', 'college', 'student'], ['I', 'would', \"n't\", 'want', 'to', 'mess', 'with', 'Tom'], ['I', \"'ll\", 'be', 'leaving', 'shortly'], ['Tom', 'looked', 'through', 'the', 'periscope'], ['I', \"'d\", 'like', 'to', 'learn', 'how', 'to', 'play', 'the', 'banjo'], ['Sometimes', 'everything', 'goes', 'wrong'], ['Tom', 'had', 'nothing', 'to', 'do', 'with', 'this'], ['Did', 'you', 'get', 'my', 'messages'], ['You', 'may', 'not', 'like', 'it'], ['When', 'does', 'the', 'concert', 'begin'], ['The', 'river', 'flooded', 'the', 'entire', 'region'], ['May', 'I', 'use', 'a', 'credit', 'card'], ['I', \"'m\", 'not', 'the', 'one', 'who', 'makes', 'the', 'rules'], ['How', 'much', 'beer', 'people', 'drink', 'largely', 'depends', 'on', 'the', 'weather'], ['You', \"'re\", 'going', 'to', 'get', 'in', 'trouble'], ['Jim', 'kicked', 'the', 'ball', 'very', 'hard'], ['I', \"'m\", 'going', 'to', 'pay', 'my', 'rent', 'tomorrow'], ['Although', 'he', 'may', 'be', 'clever', 'he', 'is', 'not', 'wise'], ['They', 'will', 'go', 'to', 'the', 'woods', 'to', 'pick', 'mushrooms', 'weather', 'permitting'], ['I', 'think', 'it', \"'s\", 'very', 'romantic'], ['Sometimes', 'it', 'may', 'seem', 'like', 'we', \"'re\", 'not', 'making', 'any', 'progress'], ['I', 'dressed', 'up', 'as', 'a', 'girl', 'for', 'the', 'school', 'festival'], ['Tom', 'robbed', 'Mary', 'of', 'all', 'her', 'money'], ['I', 'ca', \"n't\", 'fight', 'any', 'longer'], ['Tell', 'Tom', 'to', 'come', 'here'], ['Not', 'having', 'a', 'telephone', 'is', 'an', 'inconvenience'], ['You', 'reached', 'your', 'goal'], ['Are', 'we', 'going', 'to', 'talk', 'about', 'this', 'or', 'not'], ['Winter', 'is', 'right', 'around', 'the', 'corner'], ['He', 'shook', 'hands', 'with', 'me'], ['Tom', 'can', 'stay', 'here', 'a', 'little', 'longer', 'if', 'he', 'wants', 'to'], ['Did', 'you', 'hear', 'it', 'too'], ['I', 'wish', 'you', 'could', 'understand', 'me'], ['Those', 'two', 'will', 'always', 'be', 'together'], ['Tom', 'knew', 'I', \"'d\", 'be', 'there'], ['We', 'want', 'Tom', 'to', 'know', 'he', 'can', 'come', 'home'], ['President', 'Johnson', 'rejected', 'the', 'agreement'], ['Please', 'tell', 'Tom', 'everything', 'we', 'want', 'him', 'to', 'know'], ['Try', 'to', 'slice', 'the', 'meat', 'with', 'a', 'different', 'knife'], ['The', 'silver', 'balls', 'are', 'around', 'the', 'red', 'ball'], ['I', 'do', \"n't\", 'know', 'where', 'he', 'went'], ['Hey', 'Molly', 'why', 'do', \"n't\", 'you', 'come'], ['As', 'soon', 'as', 'they', 'have', 'collected', 'the', 'necessary', 'funds', 'they', 'can', 'restart', 'their', 'project'], ['I', 'have', 'mixed', 'feelings', 'about', 'this'], ['I', 'thought', 'you', 'were', 'going', 'to', 'do', 'this'], ['Just', 'stand', 'there'], ['My', 'report', 'is', 'due', 'tomorrow'], ['His', 'teeth', 'were', 'white'], ['I', 'do', \"n't\", 'know', 'where', 'they', \"'re\", 'from'], ['The', 'market', 'is', 'big'], ['Can', 'you', 'explain', 'why', 'you', 'were', 'late'], ['Tom', 'is', 'calling', 'back'], ['I', \"'m\", 'just', 'a', 'phone', 'call', 'away'], ['Tom', 'usually', 'reads', 'the', 'newspaper', 'while', 'eating', 'breakfast'], ['It', 'just', 'happened', 'again'], ['I', 'own', 'this', 'sentence'], ['He', 'has', 'a', 'heart', 'condition'], ['Tom', 'works', 'for', 'a', 'big', 'advertising', 'firm', 'in', 'Boston'], ['He', 'will', 'be', 'only', 'too', 'glad', 'to', 'help', 'you'], ['Tom', 'told', 'me', 'what', 'you', 'said', 'about', 'me'], ['That', \"'s\", 'Tom', \"'s\", 'father'], ['Nothing', 'ever', 'happens', 'around', 'here'], ['You', 'and', 'I', 'have', 'something', 'in', 'common'], ['The', 'tunnel', 'caved', 'in', 'because', 'of', 'the', 'earthquake', 'the', 'other', 'day'], ['Why', 'do', 'you', 'have', 'to', 'do', 'it'], ['I', 'am', 'pleased', 'with', 'the', 'result'], ['I', 'just', 'do', \"n't\", 'love', 'Tom'], ['I', 'ran', 'because', 'I', 'was', 'late', 'for', 'school'], ['Why', 'did', \"n't\", 'you', 'go'], ['I', \"'ll\", 'get', 'back', 'to', 'you'], ['She', 'filed', 'a', 'suit', 'for', 'divorce', 'against', 'him'], ['My', 'father', \"'s\", 'company', 'is', 'on', 'the', 'verge', 'of', 'bankruptcy'], ['Boys', 'do', \"n't\", 'make', 'any', 'noise'], ['The', 'silence', 'in', 'the', 'forest', 'is', 'restful'], ['That', 'was', 'pitiful'], ['I', \"'m\", 'going', 'to', 'investigate', 'this', 'case'], ['I', 'almost', 'forgot', 'to', 'do', 'my', 'homework'], ['Is', 'it', 'safe', 'for', 'dogs', 'to', 'eat', 'fish'], ['I', 'only', 'wanted', 'to', 'do', 'some', 'good'], ['I', 'forgot', 'my', 'password'], ['She', 'gave', 'a', 'faint', 'smile'], ['Do', \"n't\", 'you', 'realize', 'your', 'behavior', 'reflects', 'on', 'all', 'of', 'us'], ['Tom', 'twirled', 'the', 'basketball', 'on', 'his', 'finger'], ['He', 'got', 'off', 'the', 'bus'], ['I', \"'m\", 'really', 'looking', 'forward', 'to', 'tonight', \"'s\", 'concert'], ['I', 'want', 'a', 'little', 'money'], ['Tom', 'does', \"n't\", 'spend', 'much', 'time', 'in', 'Boston'], ['What', 'did', 'you', 'want', 'to', 'talk', 'to', 'me', 'about'], ['Some', 'of', 'them', 'were', 'not', 'friendly'], ['Tom', 'has', 'been', 'working', 'as', 'a', 'translator', 'ever', 'since', 'he', 'graduated', 'from', 'college'], ['Tom', 'loves', 'the', 'new', 'toy', 'that', 'Mary', 'gave', 'him', 'for', 'his', 'birthday'], ['She', 'hardly', 'talks', 'at', 'all'], ['Dr.', 'Patterson', 'communicated', 'with', 'a', 'gorilla', 'using', 'sign', 'language'], ['Where', 'are', 'Tom', \"'s\", 'folks'], ['I', 'learned', 'a', 'lot', 'from', 'his', 'books'], ['He', 'gave', 'me', 'a', 'push', 'and', 'got', 'ahead', 'of', 'me'], ['At', 'first', 'I', 'thought', 'I', 'liked', 'the', 'plan', 'but', 'on', 'second', 'thought', 'I', 'decided', 'to', 'oppose', 'it'], ['His', 'parents', 'ran', 'a', 'hotel'], ['Maybe', 'you', 'should', 'have', 'told', 'Tom', 'that'], ['They', 'will', 'organize', 'a', 'labor', 'union'], ['Whether', 'he', 'comes', 'or', 'not', 'we', \"'ll\", 'begin', 'the', 'party', 'on', 'time'], ['What', \"'re\", 'you', 'gon', 'na', 'tell', 'her'], ['Tom', 'seems', 'to', 'prefer', 'spending', 'most', 'of', 'his', 'time', 'alone'], ['I', 'want', 'you', 'there', 'with', 'Tom', 'when', 'he', 'wakes', 'up'], ['The', 'building', 'is', 'twenty', 'stories', 'high'], ['I', 'like', 'math'], ['When', 'will', 'they', 'finish', 'installing', 'the', 'electricity'], ['I', 'do', \"n't\", 'feel', 'well', 'today', 'That', 'well', 'water', 'is', 'the', 'reason'], ['They', 'look', 'cool'], ['What', 'is', 'in', 'the', 'garden'], ['I', 'do', \"n't\", 'know', 'who', 'painted', 'this', 'picture'], ['He', 'ordered', 'a', 'cup', 'of', 'tea'], ['Do', 'you', 'have', 'any', 'idea', 'how', 'many', 'people', 'live', 'in', 'Boston'], ['He', 'got', 'me', 'some', 'vegetables'], ['I', 'was', 'under', 'a', 'lot', 'of', 'pressure'], ['By', 'the', 'way', 'how', 'old', 'are', 'you'], ['How', 'is', 'your', 'business', 'going'], ['Tom', 'will', 'never', 'stop', 'loving', 'Mary'], ['The', 'majority', 'of', 'voters', 'liked', 'what', 'Roosevelt', 'said'], ['Do', 'you', 'have', 'one'], ['The', 'recommendation', 'from', 'my', 'boss', 'made', 'all', 'the', 'difference'], ['Maybe', 'it', \"'s\", 'a', 'trap'], ['You', 'do', 'a', 'great', 'job', 'here'], ['What', 'is', 'his', 'name'], ['It', \"'s\", 'not', 'known', 'who', 'first', 'invented', 'the', 'wheel'], ['Let', 'me', 'ask', 'you', 'a', 'simple', 'question'], ['He', 'went', 'aboard', 'the', 'plane'], ['You', 'know', 'I', 'did', \"n't\", 'mean', 'it'], ['Tom', 'thought', 'I', 'might', 'be', 'interested'], ['Success', 'breeds', 'success'], ['Tom', \"'s\", 'filthy'], ['Tom', 'put', 'his', 'glasses', 'in', 'his', 'shirt', 'pocket'], ['Jessica', 'was', 'singing', 'a', 'song'], ['Although', 'we', 'do', \"n't\", 'have', 'much', 'money', 'I', 'want', 'to', 'buy', 'this', 'painting'], ['She', 'is', \"n't\", 'kind', 'to', 'him'], ['Tom', 'seems', 'tired'], ['Since', 'he', 'had', 'left', 'his', 'wallet', 'at', 'home', 'he', 'asked', 'me', 'if', 'I', 'could', 'lend', 'him', '1,000', 'yen'], ['Do', 'your', 'parents', 'know', 'that', 'you', \"'re\", 'here'], ['If', 'I', 'do', 'not', 'get', 'the', 'item', 'this', 'week', 'I', 'will', 'make', 'a', 'complaint', 'to', 'PayPal'], ['Tom', 'is', 'a', 'compulsive', 'liar'], ['Tom', 'smelled', 'something'], ['Every', 'lock', 'of', 'Mary', \"'s\", 'hair', 'was', 'in', 'place'], ['Do', 'you', 'really', 'want', 'to', 'buy', 'all', 'this', 'stuff'], ['She', 'was', 'washing', 'the', 'dishes'], ['I', \"'m\", 'needy'], ['Tom', 'jumped', 'at', 'the', 'offer'], ['This', 'book', 'is', 'mine', 'Where', 'is', 'yours'], ['It', \"'s\", 'very', 'kind', 'of', 'you'], ['She', 'had', 'to', 'withdraw', 'her', 'son', 'from', 'the', 'club'], ['Tom', 'does', \"n't\", 'know', 'exactly', 'how', 'that', 'happened'], ['What', 'did', 'they', 'tell', 'you'], ['Tom', 'does', \"n't\", 'look', 'happy', 'does', 'he'], ['Land', 'prices', 'are', 'sky-high', 'in', 'Japan'], ['That', 'sounded', 'like', 'a', 'gunshot'], ['Tom', 'began', 'to', 'learn', 'French', 'about', 'three', 'years', 'ago'], ['She', 'dressed', 'herself', 'quickly'], ['I', 'do', \"n't\", 'know', 'a', 'thing', 'about', 'her'], ['The', 'new', 'bridge', 'is', 'under', 'construction'], ['Tom', 'is', \"n't\", 'drunk', 'but', 'he', \"'s\", 'been', 'drinking'], ['Tom', 'finally', 'came', 'up', 'with', 'a', 'solution', 'to', 'the', 'problem'], ['We', 'have', 'to', 'put', 'right', 'what', 'we', 'have', 'done', 'wrong'], ['I', 'do', \"n't\", 'have', 'the', 'energy'], ['Tom', 'did', \"n't\", 'blame', 'us', 'for', 'what', 'we', 'said'], ['They', 'stayed', 'friends'], ['I', 'painted', 'the', 'fence', 'green'], ['What', 'is', 'it', 'you', 'like', 'about', 'Tom'], ['I', \"'ll\", 'find', 'my', 'own', 'way', 'out'], ['I', 'want', 'Tom', 'to', 'know', 'why', 'I', 'could', \"n't\", 'come', 'to', 'visit', 'him', 'today'], ['They', 'pushed', 'Tom', 'forward'], ['Are', 'you', 'looking', 'for', 'something'], ['I', \"'m\", 'not', 'a', 'patient', 'man'], ['We', 'used', 'to', 'be', 'engaged'], ['I', \"'m\", 'not', 'fighting'], ['Strange', 'to', 'say', 'I', 'did', \"n't\", 'feel', 'any', 'pain'], ['It', \"'ll\", 'take', 'some', 'time', 'but', 'I', 'think', 'I', \"'ll\", 'be', 'able', 'to', 'learn', 'how', 'to', 'play', 'the', 'guitar'], ['I', 'told', 'you', 'Tom', 'was', 'dangerous'], ['He', 'was', 'the', 'first', 'to', 'enter', 'the', 'room'], ['I', \"'ve\", 'failed', 'three', 'times', 'before'], ['I', \"'m\", 'not', 'sure', 'what', 'else', 'you', 'want', 'me', 'to', 'say'], ['Tom', 'thought', 'it', 'would', 'be', 'a', 'good', 'idea', 'if', 'Mary', 'got', 'a', 'gun'], ['Anyone', 'who', 'criticizes', 'him', 'is', 'asking', 'for', 'trouble'], ['Was', 'I', 'asleep', 'for', 'long'], ['I', \"'m\", 'shaken'], ['Is', 'this', 'today', \"'s\", 'issue', 'of', 'the', 'Asahi', 'Shimbun'], ['His', 'body', 'was', 'covered', 'with', 'brown', 'fur'], ['My', 'bath', 'towel', 'was', 'wet', 'so', 'it', 'was', 'of', 'no', 'use'], ['We', 'want', 'you', 'to', 'marry', 'Tom'], ['Why', 'are', 'you', 'just', 'sitting', 'there'], ['Please', 'deposit', 'the', 'money', 'in', 'a', 'bank'], ['We', 'have', 'to', 'save', 'Tom'], ['This', 'is', 'the', 'temple', 'where', 'he', 'stays'], ['We', \"'re\", 'going', 'to', 'need', 'a', 'lawyer'], ['The', 'car', 'crash', 'was', 'a', 'bad', 'experience', 'for', 'her'], ['He', 'is', 'a', 'famous', 'baseball', 'player'], ['He', 'was', 'almost', 'hit', 'by', 'a', 'car'], ['I', 'have', 'seen', 'her', 'once', 'in', 'a', 'TV', 'drama'], ['We', 'like', 'it'], ['He', 'came', 'back', 'about', 'nine', 'last', 'night'], ['Tom', 'and', 'I', 'are', 'married'], ['He', 'did', \"n't\", 'really', 'go', 'to', 'the', 'church'], ['I', \"'ll\", 'tell', 'him', 'when', 'he', 'comes', 'here'], ['Go', 'and', 'apologize', 'to', 'Tom'], ['Tom', 'ordered', 'a', 'cup', 'of', 'coffee'], ['The', 'United', 'States', 'had', 'a', 'treaty', 'with', 'France'], ['Tom', 'is', 'in', 'quite', 'a', 'bit', 'of', 'pain'], ['To', 'investigate', 'the', 'incident', 'would', 'take', 'us', 'at', 'least', 'three', 'weeks'], ['Just', 'let', 'me', 'help', 'you'], ['Tom', 'pretended', 'that', 'he', 'was', 'sick'], ['That', 'sounds', 'stupid'], ['The', 'hardest', 'thing', 'in', 'life', 'is', 'knowing', 'which', 'bridges', 'to', 'cross', 'and', 'which', 'bridges', 'to', 'burn'], ['I', \"'ll\", 'know', 'not', 'to', 'do', 'it', 'that', 'way', 'next', 'time'], ['I', \"'ve\", 'heard', 'some', 'good', 'things', 'about', 'you'], ['I', 'hope', 'to', 'see', 'you', 'again', 'before', 'long'], ['Tom', 'and', 'Mary', 'do', \"n't\", 'have', 'much', 'in', 'common'], ['The', 'day', 'we', 'arrived', 'was', 'a', 'holiday'], ['What', 'time', 'do', 'we', 'leave', 'tomorrow'], ['The', 'estimate', 'was', 'a', 'complete', 'shock'], ['I', 'cry', 'every', 'time', 'I', 'listen', 'to', 'this', 'song'], ['Tom', 'spoke', 'in', 'a', 'loud', 'whisper'], ['Hold', 'it', 'for', 'a', 'second'], ['Lincoln', 'is', 'admired', 'because', 'of', 'his', 'leadership'], ['He', 'held', 'a', 'ball'], ['Tom', 'has', 'another', 'problem', 'he', 'has', \"n't\", 'told', 'us', 'about', 'yet'], ['Do', 'you', 'want', 'some', 'scrambled', 'eggs'], ['You', 'need', 'to', 'leave'], ['My', 'back', 'is', 'killing', 'me'], ['A', 'good', 'friend', 'will', 'stand', 'by', 'you', 'through', 'thick', 'and', 'thin'], ['Tom', 'asked', 'for', 'a', 'cup', 'of', 'coffee'], ['Tom', 'knew', 'instantly', 'that', 'something', 'was', 'wrong'], ['Those', 'who', 'live', 'by', 'the', 'sword', 'die', 'by', 'the', 'sword'], ['He', 'did', 'it', 'for', 'his', 'sister'], ['He', 'should', 'have', 'been', 'a', 'lawyer'], ['We', 'got', 'dressed'], ['I', \"'d\", 'like', 'to', 'go', 'with', 'you'], ['If', 'you', 'know', 'what', \"'s\", 'good', 'for', 'you', 'you', \"'ll\", 'quit', 'doing', 'that'], ['This', 'diamond', 'ring', 'is', 'too', 'extravagant', 'for', 'me'], ['Tom', 'was', 'a', 'junkman'], ['We', 'can', 'not', 'rule', 'out', 'the', 'possibility', 'of', 'an', 'accident'], ['I', 'have', 'to', 'do', 'something', 'before', 'it', \"'s\", 'too', 'late'], ['I', 'really', 'wish', 'I', 'knew', 'how', 'to', 'do', 'that'], ['Tell', 'your', 'men', 'to', 'drop', 'their', 'weapons'], ['I', 'am', 'in', 'India'], ['He', 'will', 'come', 'to', 'the', 'station', 'by', 'bus'], ['If', 'it', 'were', 'not', 'for', 'the', 'sun', 'we', 'could', 'not', 'live'], ['He', 'had', 'to', 'comply', 'with', 'her', 'decision'], ['He', 'has', 'a', 'swelling', 'on', 'his', 'head'], ['I', 'wanted', 'to', 'help', 'Tom', 'build', 'his', 'house'], ['Tom', 'bought', 'a', 'bar', 'of', 'chocolate'], ['In', 'North', 'America', 'business', 'operates', 'on', '``', 'the', 'customer', 'is', 'always', 'right', \"''\", 'principle'], ['I', 'have', 'something', 'I', 'want', 'to', 'tell', 'you'], ['Frankly', 'I', \"'m\", 'not', 'that', 'impressed', 'with', 'his', 'idea'], ['He', 'came', 'to', 'suddenly'], ['Tom', 'hates', 'it', 'when', 'Mary', 'pretends', 'to', 'understand', 'sports'], ['To', 'my', 'dismay', 'I', 'found', 'I', 'had', 'lost', 'my', 'money'], ['My', 'brother', 'works', 'in', 'France'], ['I', 'can', 'take', 'the', 'bus'], ['You', 'may', 'stay', 'with', 'me', 'for', 'the', 'time', 'being'], ['Tom', 'wants', 'to', 'ask', 'Mary', 'something'], ['I', \"'m\", 'fixing', 'something'], ['It', \"'s\", 'a', 'strong', 'possibility'], ['Where', \"'s\", 'all', 'your', 'stuff'], ['My', 'life', 'is', 'ruined'], ['We', \"'re\", 'gullible'], ['I', 'can', 'take', 'care', 'of', 'myself', 'you', 'know'], ['I', 'figured', 'you', 'would', \"n't\", 'want', 'Tom', 'to', 'know', 'about', 'this'], ['You', 'got', 'the', 'answer', 'right'], ['I', 'do', \"n't\", 'like', 'hitchhiking'], ['Please', 'translate', 'this', 'into', 'French'], ['Tom', \"'s\", 'family', 'sold', 'their', 'farm', 'and', 'moved', 'to', 'the', 'city'], ['I', 'saw', 'him', 'go', 'out'], ['Tom', 'was', 'lucky', 'to', 'find', 'his', 'keys'], ['I', 'asked', 'him', 'if', 'he', 'would', 'go', 'there', 'the', 'next', 'day'], ['I', \"'ll\", 'do', 'it', 'by', 'all', 'means'], ['The', 'red', 'belt', 'goes', 'well', 'with', 'her', 'black', 'dress'], ['He', \"'s\", 'always', 'clowning', 'in', 'class'], ['It', 'was', 'the', 'final', 'straw'], ['Tom', 'ate', 'in', 'the', 'classroom', 'with', 'his', 'classmates'], ['Tom', 'and', 'I', 'have', 'big', 'plans'], ['You', 'do', \"n't\", 'want', 'to', 'make', 'me', 'angry'], ['He', 'is', 'a', 'great', 'swimming', 'champion'], ['When', 'I', 'opened', 'the', 'door', 'Tom', 'was', 'standing', 'there', 'wearing', 'a', 'suit'], ['I', \"'m\", 'not', 'taking', 'no', 'for', 'an', 'answer'], ['I', \"'m\", 'glad', 'the', 'two', 'of', 'you', 'are', 'getting', 'along', 'with', 'each', 'other'], ['He', 'is', \"n't\", 'at', 'home'], ['Tom', 'started', 'to', 'cough'], ['I', 'would', \"n't\", 'bet', 'on', 'that'], ['Tom', 'usually', 'accomplishes', 'whatever', 'he', 'tries', 'to', 'do'], ['Tom', 'opened', 'the', 'sliding', 'door'], ['She', 'wrapped', 'herself', 'in', 'a', 'blanket'], ['I', 'wash', 'my', 'car', 'almost', 'every', 'day'], ['Tom', 'knew', 'there', 'was', 'no', 'point', 'in', 'talking', 'to', 'Mary'], ['We', \"'re\", 'almost', 'finished'], ['I', 'have', 'a', 'couple', 'of', 'questions', 'I', 'need', 'to', 'ask'], ['Can', 'you', 'break', 'an', 'egg', 'with', 'one', 'hand'], ['She', 'whispered', 'to', 'me', 'that', 'she', 'was', 'hungry'], ['Why', 'did', \"n't\", 'you', 'help', 'Tom'], ['She', 'is', 'afraid', 'of', 'death'], ['Here', \"'s\", 'my', 'receipt'], ['I', 'like', 'your', 'cat', 'but', 'she', 'does', \"n't\", 'like', 'me'], ['The', 'meeting', 'room', 'is', 'occupied', 'at', 'the', 'moment'], ['Tom', 'is', 'in', 'incredible', 'shape'], ['I', 'do', \"n't\", 'think', 'I', \"'m\", 'uninteresting'], ['Tom', 'opened', 'the', 'trunk', 'to', 'get', 'the', 'spare', 'tire'], ['I', \"'m\", 'not', 'letting', 'you', 'go', 'alone'], ['Tom', 'shaved', 'off', 'his', 'mustache'], ['What', 'she', 'says', 'sounds', 'strange'], ['He', 'will', 'make', 'her', 'a', 'good', 'husband'], ['Believe', 'in', 'yourself'], ['I', 'had', 'a', 'wonderful', 'time'], ['What', 'about', 'the', 'family', 'of', 'the', 'dying', 'patient'], ['Do', 'you', 'think', 'there', \"'s\", 'something', 'wrong', 'with', 'me'], ['His', 'life', 'is', 'in', 'danger'], ['She', 'made', 'thirty', 'thousand', 'dollars'], ['He', 'easily', 'licked', 'his', 'opponent'], ['He', 'was', 'too', 'tired', 'to', 'go', 'any', 'further'], ['Mary', 'injured', 'her', 'foot', 'in', 'a', 'soccer', 'game'], ['We', 'would', 'rather', 'go', 'to', 'the', 'zoo', 'than', 'to', 'the', 'park'], ['The', 'Mormons', 'left', 'Illinois', 'in', 'the', 'spring', 'of', '1846'], ['Almost', 'all', 'of', 'the', 'passenger', 'in', 'the', 'bus', 'were', 'asleep', 'when', 'the', 'accident', 'happened'], ['We', 'enjoyed', 'watching', 'a', 'circus', 'parade'], ['We', 'can', 'see', 'that'], ['All', 'of', 'Tom', \"'s\", 'predictions', 'came', 'true'], ['She', 'grew', 'up', 'near', 'the', 'sea', 'yet', 'she', 'hates', 'swimming'], ['It', \"'s\", 'not', 'always', 'so', 'easy', 'to', 'tell', 'right', 'from', 'wrong'], ['Why', 'do', 'Americans', 'eat', 'turkey', 'on', 'Thanksgiving'], ['An', 'ugly', 'man', 'knocked', 'on', 'my', 'door'], ['Thank', 'you', 'for', 'the', 'great', 'meal'], ['Tom', 'and', 'Mary', 'just', 'wanted', 'to', 'dance', 'with', 'each', 'other', 'all', 'evening'], ['Get', 'in', 'the', 'Jeep'], ['Do', 'you', 'really', 'mean', 'it'], ['I', \"'m\", 'sure', 'your', 'intentions', 'were', 'good'], ['Wait', 'just', 'a', 'moment'], ['Marcia', 'looked', 'grim', 'when', 'I', 'told', 'her', 'the', 'story'], ['Tom', 'did', \"n't\", 'receive', 'any', 'money', 'for', 'his', 'work'], ['Why', 'would', 'you', 'want', 'to', 'be', 'a', 'teacher'], ['I', 'ca', \"n't\", 'do', 'anything', 'for', 'Tom'], ['I', 'have', \"n't\", 'let', 'anyone', 'else', 'see', 'this', 'yet'], ['The', 'checked', 'player', 'must', 'find', 'a', 'way', 'for', 'the', 'king', 'to', 'escape', 'and', 'block', 'the', 'check'], ['This', 'is', 'an', 'improvement'], ['I', 'do', \"n't\", 'want', 'you', 'to', 'think', 'that', 'I', \"'m\", 'not', 'happy', 'with', 'your', 'decision'], ['Tom', 'knew', 'better', 'than', 'to', 'ask', 'such', 'a', 'stupid', 'question'], ['Do', 'you', 'still', 'love', 'him'], ['Do', 'you', 'hang', 'pictures', 'on', 'your', 'walls'], ['I', \"'m\", 'pleased', 'with', 'the', 'results'], ['I', \"'m\", 'sure', 'that', 'better', 'times', 'are', 'on', 'the', 'way'], ['Do', 'you', 'want', 'to', 'tell', 'me', 'anything', 'about', 'Tom'], ['Do', 'you', 'know', 'Tom', 'personally'], ['You', 'know', 'that'], ['Tom', 'will', 'carry', 'you'], ['I', 'think', 'he', 'needs', 'to', 'go', 'there'], ['What', \"'s\", 'your', 'best', 'price'], ['Please', 'wake', 'me', 'for', 'breakfast'], ['This', 'must', 'be', 'the', 'wrong', 'place'], ['Sam', 'has', 'promised', 'to', 'pay', 'the', 'money', 'at', 'the', 'end', 'of', 'the', 'month'], ['I', 'do', \"n't\", 'understand', 'his', 'reluctance', 'to', 'go'], ['The', 'voyage', 'to', 'America', 'used', 'to', 'take', 'many', 'weeks'], ['Tom', 'is', 'on', 'the', 'board', 'of', 'directors'], ['The', 'criminal', 'left', 'footprints'], ['He', 'went', 'to', 'school', 'by', 'car'], ['I', 'telephoned', 'to', 'make', 'sure', 'that', 'he', 'was', 'coming'], ['Do', \"n't\", 'forget', 'to', 'return', 'the', 'book', 'to', 'the', 'library'], ['Hey', 'where', \"'re\", 'you', 'going'], ['The', 'truck', 'is', 'being', 'weighed'], ['It', \"'s\", 'rare', 'to', 'find', 'big', 'yards', 'in', 'Japan'], ['I', 'can', 'not', 'praise', 'her', 'enough'], ['Tom', 'seemed', 'at', 'ease'], ['You', \"'re\", 'positively', 'glowing'], ['I', 'stopped', 'by', 'Tom', 'house'], ['Now', 'I', \"'m\", 'serious'], ['You', 'did', \"n't\", 'actually', 'see', 'anything', 'did', 'you'], ['We', \"'ve\", 'humiliated', 'Tom'], ['He', 'was', 'delighted', 'to', 'see', 'you'], ['That', 'problem', 'is', 'not', 'avoidable'], ['I', 'skipped', 'lunch', 'so', 'I', \"'m\", 'pretty', 'hungry'], ['I', \"'ve\", 'been', 'to', 'Boston', 'more', 'than', 'once'], ['The', 'longer', 'I', 'stayed', 'in', 'Paris', 'the', 'more', 'I', 'liked', 'it'], ['How', 'is', 'the', 'weather', 'today'], ['There', 'is', 'no', 'doubt', 'that', 'he', 'was', 'murdered'], ['Tom', 'is', 'a', 'cook'], ['I', 'want', 'to', 'make', 'sure', 'nothing', 'will', 'happen', 'to', 'Tom'], ['Did', 'Tom', 'say', 'why'], ['I', \"'m\", 'not', 'afraid', 'of', 'lightning'], ['I', 'know', 'why', 'Tom', 'left', 'early'], ['If', 'you', 'want', 'to', 'sit', 'down', 'sit', 'down'], ['They', 'came', 'to', 'terms', 'with', 'the', 'union', 'leaders'], ['We', 'are', 'not', 'here', 'for', 'fun', 'and', 'games'], ['We', 'were', \"n't\", 'actually', 'posing'], ['Please', 'pick', 'up', 'the', 'papers'], ['He', 'looked', 'after', 'the', 'baby'], ['In', 'the', 'winter', 'many', 'older', 'people', 'slip', 'on', 'ice', 'and', 'fall', 'down'], ['Where', 'can', 'I', 'advertise', 'for', 'a', 'used', 'car'], ['Tom', 'told', 'Mary', 'that', 'he', 'was', 'thirsty'], ['What', \"'ve\", 'you', 'been', 'doing', 'recently'], ['I', 'have', 'my', 'own', 'reasons'], ['He', 'does', \"n't\", 'look', 'himself', 'this', 'morning'], ['You', \"'re\", 'not', 'alone', 'anymore', 'Tom'], ['Tom', 'would', 'never', 'give', 'up'], ['I', 'have', 'to', 'delete', 'many', 'files', 'from', 'my', 'computer'], ['This', 'should', \"n't\", 'be', 'allowed'], ['I', 'am', 'too', 'tired', 'to', 'keep', 'on', 'walking'], ['I', \"'ve\", 'heard', 'you', 'play', 'the', 'viola', 'and', 'you', \"'re\", 'not', 'very', 'good', 'are', 'you'], ['His', 'students', 'adored', 'him'], ['There', 'were', 'only', 'a', 'few', 'patches', 'of', 'vegetation', 'near', 'the', 'river'], ['The', 'job', 'is', 'a', 'lot', 'of', 'fun'], ['UK', 'is', 'the', 'abbreviation', 'for', 'the', 'United', 'Kingdom'], ['Can', 'you', 'turn', 'on', 'the', 'light'], ['Please', 'make', 'yourself', 'at', 'home', 'here'], ['The', 'last', 'time', 'I', 'saw', 'him', 'he', 'was', 'very', 'healthy'], ['The', 'resemblance', 'between', 'these', 'two', 'men', 'is', 'uncanny'], ['This', 'is', 'my', 'problem', 'and', 'I', \"'ll\", 'deal', 'with', 'it'], ['Observe', 'your', 'cat', 'carefully', 'If', 'you', 'do', 'so', 'you', \"'ll\", 'get', 'to', 'know', 'your', 'cat', 'well'], ['What', 'do', 'you', 'think', 'about', 'that'], ['Tom', 'was', 'sitting', 'on', 'a', 'bench', 'eating', 'something', 'that', 'looked', 'like', 'an', 'apple'], ['I', 'have', \"n't\", 'met', 'him', 'in', 'person', 'but', 'I', 'know', 'of', 'him'], ['I', 'do', \"n't\", 'speak', 'French', 'well', 'enough', 'to', 'apply', 'for', 'that', 'job'], ['I', 'wish', 'I', 'could', 'tell', 'you', 'the', 'reason', 'but', 'I', 'ca', \"n't\"], ['Let', 'me', 'pay', 'tonight'], ['Why', 'do', 'so', 'many', 'people', 'visit', 'Kyoto'], ['I', 'thought', 'it', \"'d\", 'be', 'easier'], ['It', \"'s\", 'rude', 'to', 'talk', 'during', 'a', 'concert'], ['Are', 'you', 'for', 'or', 'against', 'his', 'idea'], ['To', 'hear', 'him', 'speak', 'English', 'you', 'would', 'take', 'him', 'for', 'an', 'Englishman'], ['Tom', 'covered', 'his', 'smile'], ['Do', 'you', 'want', 'to', 'be', 'an', 'actor', 'in', 'a', 'movie'], ['Do', 'you', 'want', 'to', 'go', 'see', 'a', 'movie'], ['At', 'what', 'time', 'would', 'you', 'be', 'able', 'to', 'come', 'to', 'us', 'tomorrow'], ['I', 'used', 'to', 'dream', 'about', 'becoming', 'a', 'model'], ['Tom', 'and', 'Mary', 'are', 'waiting'], ['Tom', 'certainly', 'did', 'an', 'excellent', 'job'], ['I', 'took', 'my', 'camera', 'along'], ['I', 'just', 'did', \"n't\", 'want', 'you', 'to', 'get', 'hurt'], ['Tom', 'did', \"n't\", 'tell', 'me', 'everything'], ['If', 'you', \"'re\", 'going', 'to', 'the', 'beach', 'you', 'need', 'sunscreen'], ['We', \"'ve\", 'got', 'to', 'find', 'out'], ['I', 'do', \"n't\", 'have', 'time', 'to', 'do', 'the', 'laundry'], ['I', 'think', 'it', 'could', 'happen'], ['I', 'was', 'frightened', 'and', 'confused'], ['Tom', 'took', 'off', 'his', 'pants', 'and', 'carefully', 'hung', 'them', 'over', 'the', 'back', 'of', 'a', 'chair'], ['We', 'traveled', 'in', 'South', 'America'], ['It', \"'s\", 'too', 'hot', 'and', 'I', \"'m\", 'very', 'tired'], ['Tom', 'does', \"n't\", 'like', 'it', 'when', 'people', 'invade', 'his', 'personal', 'space', 'by', 'standing', 'too', 'close', 'to', 'him'], ['I', \"'m\", 'only', 'happy', 'when', 'Tom', 'is', 'here'], ['The', 'robber', 'aimed', 'his', 'gun', 'at', 'the', 'clerk'], ['Tom', 'and', 'Mary', 'have', 'three', 'grown', 'children', 'and', 'two', 'grandchildren'], ['How', 'am', 'I', 'supposed', 'to', 'know', 'where', 'she', \"'s\", 'hiding', 'her', 'money'], ['I', 'prefer', 'biking'], ['She', 'seems', 'to', 'be', 'excited'], ['He', 'came', 'near', 'to', 'being', 'run', 'over'], ['How', 'do', 'you', 'like', 'that'], ['Where', 'is', 'your', 'wife'], ['Tom', 'and', 'Mary', 'are', \"n't\", 'Canadians'], ['I', \"'m\", 'baking'], ['They', 'made', 'the', 'same', 'mistake', 'again'], ['Tom', 'does', \"n't\", 'sleep', 'as', 'much', 'as', 'he', 'used', 'to'], ['At', 'last', 'we', 'reached', 'our', 'destination'], ['You', \"'re\", 'all', 'crazy'], ['I', 'called', 'my', 'mother', 'up', 'from', 'the', 'station'], ['I', \"'ll\", 'send', 'you', 'my', 'bill'], ['She', \"'s\", 'in', 'high', 'school', 'but', 'her', 'boyfriend', 'is', 'in', 'college'], ['It', 'did', \"n't\", 'end', 'well'], ['I', 'was', \"n't\", 'aware', 'that', 'you', 'were', 'feeling', 'so', 'bad'], ['Tom', 'and', 'Mary', 'have', 'been', 'married', 'for', 'about', 'three', 'years'], ['I', \"'m\", 'sure', 'Tom', 'will', 'know', 'what', \"'s\", 'best'], ['He', 'kept', 'the', 'truth', 'from', 'us'], ['I', 'bought', 'this', 'book', 'the', 'other', 'day'], ['My', 'room', 'number', 'is', '5'], ['What', 'kinds', 'of', 'plants', 'are', 'you', 'growing', 'in', 'your', 'garden'], ['I', 'told', 'him', 'everything'], ['The', 'meeting', 'dragged', 'on'], ['I', 'have', \"n't\", 'read', 'the', 'final', 'page', 'of', 'the', 'novel', 'yet'], ['I', 'think', 'I', \"'ve\", 'found', 'what', 'we', \"'ve\", 'been', 'looking', 'for'], ['Do', \"n't\", 'be', 'like', 'that'], ['I', 'hear', 'Tom', 'is', 'an', 'excellent', 'tennis', 'player'], ['I', \"'d\", 'rather', 'get', 'this', 'over', 'with'], ['Tom', 'realized', 'what', 'was', 'up'], ['The', 'north', 'wind', 'blew', 'continuously', 'all', 'day'], ['I', 'did', \"n't\", 'have', 'to', 'open', 'the', 'letter', 'I', 'knew', 'exactly', 'what', 'it', 'said'], ['Should', 'we', 'go'], ['I', 'thought', 'Tom', 'had', 'a', 'shot'], ['He', 'had', 'discovered', 'a', 'new', 'star'], ['They', \"'re\", 'clean'], ['You', 'must', 'be', 'mad'], ['Nobody', 'wants', 'to', 'do', 'that'], ['Please', 'get', 'all', 'of', 'your', 'junk', 'out', 'of', 'this', 'room'], ['He', 'is', 'all', 'but', 'dead'], ['Can', 'I', 'have', 'the', 'next', 'one', 'please'], ['I', \"'m\", 'just', 'making', 'sure', 'we', \"'re\", 'safe'], ['Have', 'a', 'seat', 'Tom'], ['Our', 'boat', 'won', 'by', 'two', 'lengths'], ['I', 'insist', 'that', 'I', \"'m\", 'innocent'], ['It', 'was', 'a', 'small', 'incident'], ['Tom', 'spent', 'a', 'sleepless', 'night', 'thinking', 'of', 'Mary'], ['Tom', 'could', 'barely', 'contain', 'his', 'anger'], ['Afterwards', 'we', 'went', 'to', 'Bethlehem', 'to', 'see', 'the', 'statues'], ['She', 'greeted', 'him', 'cheerfully', 'as', 'she', 'always', 'did'], ['He', 'used', 'his', 'hand', 'to', 'screen', 'the', 'sunlight', 'from', 'his', 'eyes'], ['You', \"'ve\", 'got', 'a', 'one-track', 'mind'], ['What', 'did', 'you', 'do', 'at', 'that', 'moment'], ['I', 'told', 'Tom', 'I', 'could', 'do', 'whatever', 'he', 'wanted', 'me', 'to', 'do'], ['You', 'let', 'me', 'worry', 'about', 'that', 'OK'], ['Did', 'Tom', 'tell', 'you', 'anything', 'about', 'his', 'family'], ['Tom', 'wanted', 'to', 'kiss', 'Mary', 'then', 'and', 'there'], ['I', 'found', 'it', 'difficult', 'to', 'achieve', 'my', 'purpose'], ['According', 'to', 'the', 'Mayan', 'calendar', 'the', 'end', 'of', 'the', 'world', 'will', 'come', 'soon'], ['We', \"'ll\", 'look', 'after', 'Tom'], ['He', 'stared', 'at', 'the', 'steep', 'slope'], ['Tom', 'asked', 'Mary', 'what', 'she', 'thought', 'the', 'problem', 'was'], ['I', 'have', 'a', 'very', 'good', 'feeling', 'about', 'this'], ['What', 'do', 'suggest', 'instead'], ['I', \"'m\", 'not', 'sure', 'what', 'you', 'were', 'thinking'], ['They', 'dropped', 'an', 'atomic', 'bomb', 'on', 'Hiroshima'], ['It', 'is', 'good', 'to', 'be', 'kind', 'to', 'old', 'people'], ['I', 'heard', 'you', 'were', 'looking', 'for', 'me'], ['Tom', 'asked', 'Mary', 'a', 'rather', 'difficult', 'question'], ['This', 'hat', 'does', 'match', 'the', 'brown', 'dress'], ['Warm', 'and', 'humid', 'weather', 'increases', 'the', 'number', 'of', 'crimes'], ['He', 'was', 'tired', 'from', 'his', 'long', 'walk'], ['I', \"'ve\", 'just', 'been', 'to', 'the', 'post', 'office', 'to', 'send', 'a', 'package'], ['If', 'you', 'want', 'to', 'sit', 'down', 'then', 'go', 'ahead', 'and', 'sit', 'down'], ['What', 'size', 'are', 'these', 'shoes'], ['There', \"'s\", 'a', 'possibility', 'that', 'she', \"'ll\", 'succeed'], ['Everyone', 'ignored', 'Tom'], ['My', 'uncle', 'lived', 'a', 'happy', 'life', 'and', 'died', 'a', 'peaceful', 'death'], ['He', 'deliberately', 'ignored', 'me', 'when', 'I', 'passed', 'him', 'in', 'the', 'street'], ['This', 'rule', 'does', 'not', 'apply', 'to', 'the', 'case'], ['We', 'were', 'a', 'perfect', 'couple'], ['Tom', 'is', 'a', 'risk', 'taker'], ['It', 'is', 'illegal', 'to', 'sell', 'cigarettes', 'to', 'a', 'minor'], ['Recently', 'I', 'have', 'had', 'no', 'appetite'], ['There', 'is', 'a', 'large', 'hole', 'in', 'the', 'wall'], ['Tom', 'was', 'fed', 'up', 'with', 'having', 'to', 'repeat', 'himself', 'all', 'the', 'time'], ['Why', 'did', 'it', 'have', 'to', 'be', 'Tom'], ['I', 'know', 'exactly', 'how', 'it', 'makes', 'you', 'feel'], ['I', 'just', 'want', 'to', 'apologize', 'for', 'last', 'night'], ['The', 'boy', 'attempted', 'an', 'escape', 'but', 'failed'], ['We', 'have', 'no', 'alternatives'], ['We', 'were', 'at', 'school', 'together'], ['I', 'just', 'called', 'to', 'see', 'how', 'you', \"'re\", 'doing'], ['We', 'should', 'get', 'to', 'know', 'each', 'other', 'a', 'little', 'better'], ['The', 'boy', 'reading', 'a', 'book', 'is', 'John'], ['Tom', 'and', 'I', 'are', 'both', 'adults'], ['It', 'is', \"n't\", 'possible', 'to', 'clear', 'the', 'snow', 'from', 'every', 'road'], ['He', 'quit', 'school', 'last', 'week'], ['I', 'did', \"n't\", 'mean', 'to', 'wake', 'you'], ['Tom', 'did', \"n't\", 'admit', 'anything'], ['I', 'think', 'it', \"'s\", 'better', 'you', 'stay', 'here', 'until', 'the', 'snow', 'stops'], ['I', 'think', 'you', \"'re\", 'swell'], ['Tom', 'fell', 'back', 'to', 'sleep'], ['It', 'had', 'started', 'to', 'rain'], ['Fill', 'it', 'up', 'please'], ['He', 'handed', 'me', 'the', 'letter', 'and', 'left'], ['Goodbye', 'till', 'tomorrow'], ['This', 'is', 'something', 'I', 'want', 'to', 'do'], ['Thank', 'you', 'for', 'giving', 'me', 'something', 'to', 'eat', 'I', 'was', 'really', 'hungry'], ['I', 'do', \"n't\", 'particularly', 'like', 'her'], ['I', 'had', \"n't\", 'thought', 'about', 'that'], ['Would', 'you', 'mind', 'if', 'I', 'speak', 'to', 'Tom', 'alone', 'for', 'a', 'sec'], ['Her', 'health', 'has', 'been', 'declining', 'these', 'past', 'months'], ['He', 'said', 'he', 'would', 'give', 'us', 'his', 'decision', 'for', 'sure', 'by', 'Friday'], ['She', 'asked', 'him', 'to', 'marry', 'her'], ['I', 'could', 'not', 'sleep', 'because', 'of', 'the', 'noise'], ['I', 'have', 'no', 'idea', 'how', 'it', 'works'], ['Tom', 'wo', \"n't\", 'be', 'back'], ['I', 'do', \"n't\", 'have', 'anything', 'to', 'declare'], ['I', 'majored', 'in', 'European', 'history', 'at', 'university'], ['His', 'family', 'and', 'his', 'doctor', 'urged', 'him', 'not', 'to', 'go'], ['The', 'boy', 'began', 'to', 'scream'], ['It', \"'s\", 'their', 'choice'], ['We', 'should', 'try', 'and', 'get', 'some', 'sleep'], ['I', 'ca', \"n't\", 'figure', 'out', 'the', 'reason', 'why', 'Tom', 'did', 'it'], ['Please', 'send', 'in', 'your', 'summary', 'by', 'Tuesday'], ['They', 'all', 'flocked', 'around', 'the', 'movie', 'star'], ['Something', 'terrible', 'happened', 'here'], ['My', 'dream', 'is', 'to', 'become', 'an', 'artist'], ['We', \"'re\", 'working', 'hard'], ['They', \"'re\", 'not', 'ready', 'for', 'us'], ['I', 'hope', 'we', 'can', 'all', 'agree'], ['He', 'made', 'a', 'sharp', 'turn', 'to', 'the', 'left'], ['I', 'do', \"n't\", 'think', 'we', 'have', 'a', 'choice'], ['We', 'got', 'to', 'Washington', 'in', 'time', 'for', 'the', 'cherry', 'blossoms'], ['Does', 'he', 'know', 'how', 'she', 'feels', 'about', 'him'], ['I', 'need', 'Tom', 'to', 'know', 'that'], ['Susan', 'really', 'takes', 'after', 'her', 'mother'], ['You', 'are', \"n't\", 'safe'], ['She', 'pushed', 'her', 'way', 'through', 'the', 'crowd'], ['Do', \"n't\", 'tell', 'anybody', 'where', 'Tom', 'is'], ['I', 'wonder', 'who', 'that', 'girl', 'is'], ['Switch', 'it', 'off'], ['My', 'brother', 'smokes', 'a', 'great', 'deal'], ['I', 'ca', \"n't\", 'imagine', 'myself', 'doing', 'that'], ['Have', 'you', 'ever', 'brought', 'your', 'dog', 'to', 'this', 'beach'], ['On', 'the', 'whole', 'the', 'event', 'was', 'successful'], ['That', \"'s\", 'Tony', \"'s\", 'book'], ['The', 'prominent', 'psychologist', 'resembles', 'my', 'uncle', 'in', 'appearance'], ['Tom', 'told', 'me', 'he', 'would', \"n't\", 'take', 'up', 'much', 'of', 'our', 'time'], ['I', 'think', 'about', 'Tom', 'a', 'lot'], ['Mahjong', 'tiles', 'are', 'very', 'beautiful'], ['Why', 'have', \"n't\", 'you', 'told', 'your', 'parents'], ['I', 'wish', 'that', 'noise', 'would', 'stop', 'It', 'gets', 'on', 'my', 'nerves'], ['Osamu', 'Dazai', 'killed', 'himself'], ['Can', 'you', 'call', 'back', 'later'], ['Come', 'with', 'me'], ['I', 'was', 'welcomed'], ['I', \"'ll\", 'be', 'outside', 'if', 'you', 'need', 'me'], ['Fresh', 'food', 'is', 'wonderful'], ['We', 'need', 'to', 'talk', 'about', 'that', 'as', 'soon', 'as', 'possible'], ['I', 'opened', 'the', 'door', 'and', 'saw', 'two', 'boys', 'standing', 'side', 'by', 'side'], ['I', 'do', \"n't\", 'want', 'to', 'stay', 'here', 'by', 'myself'], ['When', 'I', 'return', 'we', \"'ll\", 'talk'], ['Men', 'first', 'visited', 'the', 'moon', 'in', '1969'], ['He', 'criticizes', 'everything'], ['He', 'told', 'a', 'friend', 'that', 'he', 'felt', 'very', 'tired', 'and', 'weak'], ['Meningitis', 'is', 'a', 'terrible', 'disease'], ['You', 'have', 'caused', 'me', 'to', 'lose', 'my', 'temper'], ['Few', 'things', 'give', 'us', 'as', 'much', 'pleasure', 'as', 'music'], ['We', 'dine', 'out', 'once', 'a', 'week'], ['He', 'often', 'takes', 'his', 'children', 'to', 'the', 'zoo'], ['We', 'did', 'the', 'best', 'we', 'could'], ['Let', \"'s\", 'give', 'it', 'a', 'rest'], ['We', 'can', 'always', 'still', 'talk', 'to', 'each', 'other', 'on', 'the', 'phone'], ['I', 'did', \"n't\", 'see', 'him', 'again', 'after', 'that'], ['Your', 'wife', 'left'], ['He', 'wants', 'to', 'go', 'to', 'America'], ['Suddenly', 'I', 'heard', 'shouting'], ['Can', 'you', 'ship', 'it', 'to', 'New', 'York', 'City'], ['I', 'like', 'classical', 'music', 'more', 'than', 'modern', 'music'], ['Who', 'else', 'knows', 'that', 'your', 'house', 'is', 'haunted'], ['Tom', 'is', 'as', 'happy', 'as', 'we', \"'ve\", 'ever', 'seen', 'him'], ['I', 'love', 'my', 'plants'], ['Tom', 'would', \"'ve\", 'made', 'the', 'same', 'decision', 'I', \"'m\", 'making', 'if', 'he', 'were', 'in', 'my', 'shoes'], ['We', 'were', 'seated', 'in', 'a', 'circle'], ['Tom', 'baked', 'three', 'dozen', 'cookies'], ['I', 'do', \"n't\", 'play', 'games'], ['What', \"'s\", 'the', 'name', 'of', 'this', 'fruit'], ['I', 'worked', 'for', 'a', 'full', '24', 'hours', 'without', 'getting', 'any', 'sleep'], ['He', 'tiptoed', 'into', 'the', 'room'], ['The', 'issue', 'of', 'Third', 'World', 'poverty', 'is', 'very', 'pressing'], ['Do', \"n't\", 'be', 'so', 'noisy', 'please'], ['Tom', 'enjoys', 'reading', 'books', 'in', 'French'], ['They', \"'re\", 'concerned', 'about', 'the', 'budget'], ['How', 'soon', 'can', 'you', 'have', 'this', 'dress', 'ready'], ['The', 'purpose', 'of', 'a', 'conclusion', 'is', 'to', 'sum', 'up', 'the', 'main', 'points', 'of', 'the', 'essay'], ['I', 'ca', \"n't\", 'speak', 'French', 'as', 'well', 'as', 'Tom'], ['It', \"'s\", 'unlikely', 'that', 'that', 'movie', 'will', 'make', 'a', 'lot', 'of', 'money'], ['Tom', 'said', 'there', 'was', 'a', 'party', 'at', 'your', 'place', 'tonight'], ['You', 'wo', \"n't\", 'be', 'in', 'time', 'unless', 'you', 'run'], ['I', 'ca', \"n't\", 'write', 'anything', 'at', 'all'], ['You', \"'ve\", 'been', 'quite', 'helpful'], ['You', \"'re\", 'not', 'allowed', 'to', 'swim', 'here'], ['Tom', 'does', \"n't\", 'believe', 'most', 'of', 'what', 'Mary', 'says'], ['I', 'went', 'to', 'Australia', 'but', 'I', 'did', \"n't\", 'see', 'any', 'kangaroos'], ['Tom', 'did', \"n't\", 'use', 'to', 'like', 'red', 'wine', 'but', 'now', 'he', 'drinks', 'it', 'almost', 'every', 'day'], ['Tom', 'teaches', 'an', 'undergraduate', 'course', 'in', 'translation'], ['The', 'company', 'released', 'a', 'press', 'release'], ['Tom', 'drank', 'the', 'beer', 'in', 'one', 'gulp'], ['I', 'have', 'just', 'arrived', 'here'], ['We', \"'ve\", 'met', 'only', 'once'], ['Please', 'come', 'home', 'sometimes'], ['We', 'used', 'to', 'discuss', 'everything', 'and', 'now', 'we', 'ca', \"n't\", 'talk', 'about', 'anything'], ['Just', 'keep', 'driving'], ['I', 'ca', \"n't\", 'say', 'I', \"'m\", 'shocked'], ['I', 'want', 'to', 'show', 'you', 'something', 'else'], ['You', 'seem', 'confused'], ['It', \"'s\", 'the', 'only', 'one', 'there', 'is', 'in', 'the', 'shop'], ['Tom', 'works', 'on', 'a', 'sheep', 'farm'], ['I', 'thought', 'Tom', 'would', 'be', 'in', 'his', 'room'], ['Where', 'can', 'I', 'get', 'some', 'help'], ['Where', 'have', 'you', 'been', 'the', 'last', 'few', 'days'], ['He', 'opened', 'the', 'envelope', 'only', 'to', 'be', 'disappointed'], ['This', 'is', 'the', 'book', 'I', \"'ve\", 'been', 'looking', 'for'], ['Tom', \"'s\", 'studying'], ['Are', 'you', 'still', 'working', 'for', 'Tom'], ['They', 'gave', 'me', 'a', 'good', 'deal'], ['I', 'think', 'you', \"'re\", 'the', 'one', 'who', 'needs', 'help'], ['I', \"'ve\", 'known', 'Tom', 'since', 'high', 'school'], ['The', 'parents', 'rather', 'than', 'the', 'children', 'are', 'to', 'blame'], ['Tom', 'told', 'me', 'to', 'wait', 'here'], ['Tom', 'could', \"'ve\", 'killed', 'you', 'if', 'he', \"'d\", 'wanted', 'to'], ['Let', 'Tom', 'live'], ['She', 'took', 'the', 'tablecloths', 'to', 'the', 'laundry'], ['We', \"'ll\", 'have', 'a', 'meeting', 'and', 'later', 'we', 'can', 'take', 'a', 'walk'], ['We', 'saw', 'you'], ['She', 'crouched', 'down', 'by', 'the', 'gate'], ['Today', 'is', 'a', 'hot', 'day'], ['It', \"'s\", 'the', 'hardest', 'thing', 'I', 'have', 'ever', 'done'], ['It', \"'s\", 'been', 'six', 'years', 'since', 'I', 'started', 'to', 'study', 'English'], ['I', \"'ve\", 'given', 'this', 'a', 'great', 'deal', 'of', 'thought'], ['I', \"'m\", 'Tom', \"'s\", 'doctor'], ['Tom', 'did', \"n't\", 'want', 'to', 'disappoint', 'his', 'parents'], ['Our', 'team', 'were', 'wearing', 'red', 'shirts'], ['I', \"'m\", 'going', 'to', 'see', 'Tom', 'again'], ['He', 'was', 'sitting', 'there'], ['The', 'people', 'I', 'work', 'with', 'are', 'all', 'very', 'kind'], ['If', 'he', 'does', \"n't\", 'come', 'we', 'wo', \"n't\", 'go'], ['Have', 'you', 'ever', 'met', 'a', 'guy', 'named', 'Tom', 'Jackson'], ['Do', \"n't\", 'feel', 'bad'], ['Is', \"n't\", 'that', 'risky'], ['Tom', 'should', \"'ve\", 'listened', 'to', 'you'], ['Can', 'you', 'make', 'out', 'a', 'light', 'in', 'the', 'distance'], ['Tom', 'wanted', 'to', 'sleep', 'under', 'the', 'stars'], ['I', \"'m\", 'anxious', 'to', 'succeed'], ['Tom', 'is', 'going', 'to', 'regret', 'doing', 'that'], ['This', 'chair', 'is', 'too', 'low', 'for', 'me'], ['Tom', 'removed', 'the', 'bandages', 'from', 'Mary', \"'s\", 'leg'], ['Tom', 'will', 'be', 'staying', 'here', 'with', 'us', 'for', 'three', 'months'], ['He', \"'s\", 'going', 'to', 'testify', 'for', 'us'], ['Give', 'that', 'book', 'back', 'to', 'me'], ['Do', 'you', 'want', 'to', 'buy', 'an', 'umbrella'], ['I', \"'m\", 'not', 'at', 'fault'], ['You', 'do', \"n't\", 'have', 'to', 'like', 'Tom', 'You', 'just', 'have', 'work', 'with', 'him'], ['I', 'do', 'not', 'have', 'any', 'money'], ['Stop', 'making', 'a', 'fuss'], ['I', 'do', \"n't\", 'want', 'to', 'speak', 'with', 'you'], ['I', 'am', 'working'], ['A', 'blanket', 'of', 'silence', 'fell', 'over', 'everyone', 'when', 'they', 'heard', 'the', 'disappointing', 'announcement'], ['Do', \"n't\", 'use', 'computer', 'translation'], ['You', 'do', \"n't\", 'look', 'very', 'strong'], ['Could', 'we', 'speak', 'French', 'instead'], ['Tom', 'has', 'the', 'information', 'Mary', 'needs'], ['Tom', 'always', 'talks', 'like', 'he', 'knows', 'everything'], ['Which', 'story', 'do', 'you', 'want', 'me', 'to', 'read'], ['Murder', 'is', 'a', 'wicked', 'crime'], ['I', 'need', 'to', 'stay', 'here', 'tonight'], ['They', 'may', 'be', 'playing', 'in', 'the', 'park'], ['So', 'what', 'should', 'I', 'tell', 'Tom'], ['There', 'is', 'enough', 'time', 'to', 'finish', 'this', 'homework'], ['I', 'met', 'Tom', 'earlier', 'this', 'morning'], ['I', 'was', 'on', 'the', 'wrong', 'track'], ['Can', 'you', 'touch', 'the', 'bottom'], ['You', 'should', \"n't\", 'stay', 'up', 'so', 'late', 'at', 'night'], ['They', \"'re\", 'related', 'to', 'each', 'other'], ['I', 'have', 'appendicitis'], ['It', \"'s\", 'very', 'difficult', 'to', 'transport', 'them', 'overland', 'but', 'simple', 'to', 'do', 'so', 'by', 'sea'], ['What', \"'s\", 'the', 'story'], ['Water', 'taken', 'in', 'moderation', 'can', 'not', 'hurt', 'anybody'], ['Do', 'it', 'again'], ['He', 'is', 'an', 'expert', 'at', 'solving', 'such', 'problems'], ['Why', 'is', 'it', 'dangerous'], ['Hey', 'give', 'that', 'back', 'to', 'me'], ['Times', 'are', 'tough'], ['How', 'about', 'more', 'fruit', 'Goro'], ['I', \"'ve\", 'never', 'felt', 'so', 'happy', 'in', 'my', 'life'], ['I', 'want', 'to', 'talk', 'to', 'Tom', 'first'], ['Research', 'on', 'the', 'causes', 'of', 'cancer', 'is', 'very', 'expensive'], ['It', 'was', 'believed', 'that', 'whales', 'were', 'fish'], ['My', 'watch', 'is', 'more', 'accurate', 'than', 'yours'], ['It', 'looked', 'fantastic'], ['He', 'is', 'proud', 'of', 'never', 'having', 'been', 'beaten', 'in', 'ping-pong'], ['Is', 'there', 'something', 'you', 'need'], ['Does', 'Tom', 'seem', 'helpless']]\n"
     ]
    }
   ],
   "source": [
    "print(source_sentences_train)"
   ]
  },
  {
   "cell_type": "code",
   "execution_count": 44,
   "metadata": {},
   "outputs": [
    {
     "name": "stdout",
     "output_type": "stream",
     "text": [
      "Source sentence lengths:  [2, 3, 4, 5, 6, 7, 8, 9, 10, 11, 12, 13, 14, 15, 16, 17, 18, 19, 20, 21, 23, 29]\n",
      "Target sentence lengths:  [1, 2, 3, 4, 5, 6, 7, 8, 9, 10, 11, 12, 13, 14, 15, 16, 17, 18, 19, 20, 21, 22, 23, 24, 26, 27, 29]\n",
      "Batch 0:\n",
      "Source sequences:\n",
      "28\n",
      "4\n",
      "torch.Size([8, 128])\n",
      "Target sequences:\n",
      "torch.Size([16, 128])\n",
      "tensor([  26,   89,   59,    1,   30,    1,    6,   25,    8,   44,    6,    4,\n",
      "           1,    6,    4,    1,   41,   26,    4,    1,    6,   26,    8,  113,\n",
      "           6,    4,    4,    1,   59,   26, 1254,   12,  131,   76,    1,   47,\n",
      "         646,  309,    8,    6,   26,    4,  389,   26,  325,    4,   37,    6,\n",
      "         191,   26,    4,    1,   26,   26,    4,    4,    1,    4,  236,  281,\n",
      "          34,   89,  101,    1,  324,    6,  186,    4,    4,    8,    4,    8,\n",
      "           4,    6,   12,   25,   30,   25,    8,    4,    8,    8,  134,  241,\n",
      "           8,    8,    8,    4,    4,    8,  122,   12,   10,   25,    1,  101,\n",
      "          26,   47,    4,    1,    4,   26,  107,    6,   26,    4,  169, 1238,\n",
      "         145,    6,    8,  281,   21,   26,    8,   25,   45,    1,  219,   26,\n",
      "           4,  131,   26,    4,   34,  281,   12,  116])\n",
      "Batch 1:\n",
      "Source sequences:\n",
      "28\n",
      "4\n",
      "torch.Size([5, 128])\n",
      "Target sequences:\n",
      "torch.Size([16, 128])\n",
      "tensor([  11,   11,   13,   17,   27,   16,   13,   13,   94,   28,  411,   23,\n",
      "          16,    1,   15,    7,   96,  128,   17,  176,   16,  353,   13,    9,\n",
      "         817,   65,   18,    9,   33,   16,    1,   40,   15,   54,   29,   13,\n",
      "          37,  182,   75,   21, 1146,   37,    9,   90,  244,   94,    1,   22,\n",
      "         431,    9,   17,  255,   17,   75,   15,   11,    6,   50,   16,   15,\n",
      "           4,   54,    1,   66,   32,  302,   39,    9,   69,   13,  486,    7,\n",
      "           6,  193,   17,   15,    9,  476,    9,   15,   28,    7,    9,   16,\n",
      "           1,    9,   13,   56,    9,    7,  214,   75,  148,  413,    9,   72,\n",
      "          56,   13,   17,   78,  121,  507,    7,  240,    4,   66,   20,  906,\n",
      "           1,    9,   16,   50,   16,   15,   13,   39,  173,  191,  241,  182,\n",
      "          13,   65,   16,   50,   17,   15,   15,    9])\n",
      "Batch 2:\n",
      "Source sequences:\n",
      "28\n",
      "4\n",
      "torch.Size([6, 128])\n",
      "Target sequences:\n",
      "torch.Size([16, 128])\n",
      "tensor([  36,   70,   25,    1,  285,   82,  328,   28,  279,   16,   31,  110,\n",
      "          27,  157,   45,    1,   41,   65,   27,  896,   18,   41,    1,  268,\n",
      "         223,   27,  113,  348,   37,   97,   49,    7,    7,   60, 1185,    1,\n",
      "         205,   10,  749,   31,    6,  177,    1,   24,   12,  202,  277,   39,\n",
      "          10,    1,   21, 1216,    1,  128,   21,  113,  316,   37,    1,  115,\n",
      "          39,    4,    1,    9,   19,   38,  166,    1,  531,   10,    1,   39,\n",
      "         249,    1,   92,  206,   23,  427,   44,    1,    4,   28,   29,   57,\n",
      "          23,  168,  431,  173,   49,  234,  374,  282,   10,  150,  187,   12,\n",
      "          17,   34,   18,    1,  113,   66,   24,   12,   45,  177,    1,  322,\n",
      "         100,   74,    1,   54,  268,   90,  194,  144,   82,   58,    7,   39,\n",
      "         332,  868,   78,   15,    4,  141,  876,    7])\n",
      "Batch 3:\n",
      "Source sequences:\n",
      "28\n",
      "4\n",
      "torch.Size([4, 128])\n",
      "Target sequences:\n",
      "torch.Size([16, 128])\n",
      "tensor([   0,    0,   14,   20,    0,   18,    0,    5,    5,    8,   18,    0,\n",
      "           1,    1,    5,    0, 1153,    0,    9,   14,   56,  283,  749,  157,\n",
      "           0,   75,  123,    0,    1,    0,   69,    0,  165,    5,   60,  453,\n",
      "          89,    4,    0,    0,    5,    0,    0,   75,    5,    4,   52,    0,\n",
      "          94,    5,    1,    0,   14,  404,  645,    0,    7,    1,    0,   35,\n",
      "          11,    0,   27,    1,    0,   12,  197,   87,   11,    0,    4,    1,\n",
      "           0,  183,   97,  105,   45,  306,  199,  317,    0,    1,  845,  287,\n",
      "           1,   33,   45,    6,   16,  386,  774,  573,    1,   49,    6,  255,\n",
      "         149,   27,   12,  335,    1,   49,    8,  100,   20,  346,   58,    0,\n",
      "         279,  875,   46,    1,   51,   10,   35,   14,    8,    1,    0,    0,\n",
      "         152,    5,   49,  328,    1,   49,  246,  154])\n",
      "Batch 4:\n",
      "Source sequences:\n",
      "28\n",
      "4\n",
      "torch.Size([10, 128])\n",
      "Target sequences:\n",
      "torch.Size([24, 128])\n",
      "tensor([ 490,    1,   79,  144,  132,    9,   19,  147,    1,  909,   17, 1121,\n",
      "          12,    9,    1,  152,   73,  126,  299,  115,  356,   12,   63,   24,\n",
      "           7,  399,  449,   16,   32,  261,  532,    1,    4,  175,    9,   22,\n",
      "          47,   20,    4,    1,   32,   46,   79,    4,  221,    6,    1,  109,\n",
      "          64,  435,    6,   22,  755,  114,  107,    4,    1,  530,   22,    4,\n",
      "          63,  319,    1,   22,   94,  256,    1,    9,   11,   20,   22,  966,\n",
      "         401,   17,  421,  890,   21,   19,   20,   29,    9,   91,  203,    4,\n",
      "         124,   48, 1321,   35,   74,  504,    6,   46,    4,  221,  286,   17,\n",
      "          21,   60,    7,    6,    6,  126,   23,  128,    1,   11,   80,   17,\n",
      "           1,   22, 1317,    7,   34,   32,  620,   31,   13,    1,   89,  205,\n",
      "          60,  736,  176,    9,   43,  175,  679,  400])\n",
      "Batch 5:\n",
      "Source sequences:\n",
      "28\n",
      "4\n",
      "torch.Size([22, 104])\n",
      "Target sequences:\n",
      "torch.Size([24, 104])\n",
      "tensor([  43,    1,  106,  165,   52,  243,   23,    4,   60,  540,    4,  180,\n",
      "          11,  154,  326,   16,   17,  527,   22,   11,  237,   63,   46,    1,\n",
      "           1,   23,   21,  165,   22,    9,   23,   17,  114,    4,   24,   79,\n",
      "         270,   11,    1,    1,   18,   31,    9,  599,  322,  333,   21,   47,\n",
      "         297,  438,  215,  217,  269,   40,   68,   31,  754,   22,  142,  445,\n",
      "          42,    5,  439,   36, 1254,   51,   55,   22,    4,    6,   10,    1,\n",
      "          12,  115,   43,   95,   24,   63,   46,   38,  244,   12,    7,    8,\n",
      "          36,  417,   36, 1162,   51,   44,    1,  473,  328,   10,    5,    7,\n",
      "          11,  997,   31,  287,   16,    6,   79,   27])\n",
      "Batch 6:\n",
      "Source sequences:\n",
      "28\n",
      "4\n",
      "torch.Size([7, 128])\n",
      "Target sequences:\n",
      "torch.Size([16, 128])\n",
      "tensor([   0,    0,   49,   82,   79,  136,    1,   62,  111,    5,    0,    0,\n",
      "           0,    5,   85,   19,    0,    0,  126,  389,    5,    5,    0,    0,\n",
      "          77,    0,    5,  511,    0,    5,    0,    0,   12,    0,    0,    0,\n",
      "         527,  263,    0, 1277,    0,   14,    0,    0,  444,   24,    0,    0,\n",
      "         183,    0,    0,    0,   14,  450,  106,    0,    0,    0,    0,  960,\n",
      "           0,   61,    1,    0,    0,    0,    5,    0,  296,    0,    0,    0,\n",
      "           1,    0,    5, 1039,    0,    0,    0,    0,    0,  163,    0,  109,\n",
      "           0,   38,  272,    5,    0,    0,    1,    0,  303,   58,    1,    5,\n",
      "           5,    8,    0,  225,    6,   95,    0,    0,    1,    0,    6,    0,\n",
      "           0,    0,    0,   16,    5,    0,  405,  269,  143,  611,    0,    8,\n",
      "         139,    0,   44,  104,    0,   45,    1,   12])\n",
      "Batch 7:\n",
      "Source sequences:\n",
      "28\n",
      "4\n",
      "torch.Size([9, 128])\n",
      "Target sequences:\n",
      "torch.Size([16, 128])\n",
      "tensor([  14,    6,    6,   32,    0,   33,    0,  400,   16,    0,    0,    0,\n",
      "         729,    6,   43,   20,   24,    0,    5,    0,  120,    0,  225,    0,\n",
      "         208,    0, 1133,  519,    0,    0,    4,    1,   43,   31,    0, 1037,\n",
      "           0,   70,    5,   83,   16,   17,   13,    6,    7,    0,  519,   10,\n",
      "          12, 1045,    0, 1332,    1,  183,    4,   11,   97,    5,    0,   14,\n",
      "          24,    5,    5,    0,    0,  181,    0,  403, 1145,   14,    0,    5,\n",
      "           5,   13,   31,    0,    5,    0, 1032,   11,    0,  153,   97,  165,\n",
      "           0,    5,    0,    4,    7,    1,  465,   14,    0,    0,   92,   17,\n",
      "         100,    0,    0,  121,   33,    8,    0,    5,   77,   97,    0,    5,\n",
      "           1,  109,    4,   24,   20,  108,  112,    1,    6,    1,   14, 1072,\n",
      "           7,  150,  787,    0,   21,   10,    0,    1])\n"
     ]
    }
   ],
   "source": [
    "BATCH_SIZE = 128\n",
    "device = torch.device('cuda' if torch.cuda.is_available() else 'cpu')\n",
    "import torch.nn.functional as F\n",
    "\n",
    "def get_iterator(data, batch_size, source_vocab, target_vocab, device):\n",
    "    src_sents = [x[0] for x in data]\n",
    "    trg_sents = [x[1] for x in data]\n",
    "\n",
    "    # Sort the sentences by length for efficiency\n",
    "    sorted_indices = sorted(range(len(src_sents)), key=lambda i: len(src_sents[i]))\n",
    "\n",
    "    # Split the data into batches\n",
    "    batches = []\n",
    "    for i in range(0, len(src_sents), batch_size):\n",
    "        indices = sorted_indices[i:i+batch_size]\n",
    "        src_batch = [src_sents[j] for j in indices]\n",
    "        trg_batch = [trg_sents[j] for j in indices]\n",
    "        batch = {\"src\": src_batch, \"trg\": trg_batch}\n",
    "        batches.append(batch)\n",
    "\n",
    "    # Shuffle the batches\n",
    "    random.shuffle(batches)\n",
    "\n",
    "    # Get the number of batches\n",
    "    num_batches = len(batches)\n",
    "\n",
    "    # Iterate over the batches\n",
    "    for batch in batches:\n",
    "        # Convert the sentences to sequences of indices\n",
    "        src_seqs = [torch.LongTensor([source_vocab[token] if token in source_vocab else source_vocab['<unk>'] for token in sent]) for sent in batch['src']]\n",
    "        trg_seqs = [torch.LongTensor([target_vocab[token] if token in target_vocab else target_vocab['<unk>'] for token in sent]) for sent in batch['trg']]\n",
    "\n",
    "        # Pad the sequences\n",
    "        src_seqs = torch.nn.utils.rnn.pad_sequence(src_seqs, batch_first=True, padding_value=source_vocab['<pad>']).to(device)\n",
    "        trg_seqs = torch.nn.utils.rnn.pad_sequence(trg_seqs, batch_first=True, padding_value=target_vocab['<pad>']).to(device)\n",
    "        trg_seqs = F.pad(trg_seqs, (0, 8 - (trg_seqs.size(1) % 8)), value=target_vocab['<pad>'])\n",
    "\n",
    "        # Transpose the source sequences tensor to have batch size as the first dimension\n",
    "        src_seqs = src_seqs.transpose(0, 1)\n",
    "        trg_seqs = trg_seqs.transpose(0, 1)\n",
    "\n",
    "        # Return the batch\n",
    "        yield {\"src\": src_seqs, \"trg\": trg_seqs}\n",
    "\n",
    "    # Return the number of batches\n",
    "    return num_batches, batches\n",
    "\n",
    "train_batches = list(get_iterator(train_examples, BATCH_SIZE, source_vocab, target_vocab, device))\n",
    "valid_batches = list(get_iterator(val_examples, BATCH_SIZE, source_vocab, target_vocab, device))\n",
    "test_batches = list(get_iterator(test_examples, BATCH_SIZE, source_vocab, target_vocab, device))\n",
    "source_lengths = [len(sent) for sent in source_sentences_train]\n",
    "target_lengths = [len(sent) for sent in target_sentences_train]\n",
    "print(\"Source sentence lengths: \", sorted(set(source_lengths)))\n",
    "print(\"Target sentence lengths: \", sorted(set(target_lengths)))\n",
    "num_train_batches = len(train_batches)\n",
    "num_valid_batches = len(valid_batches)\n",
    "for i, batch in enumerate (test_batches):\n",
    "    print(f\"Batch {i}:\")\n",
    "    print(\"Source sequences:\")\n",
    "    print(num_train_batches)\n",
    "    print(num_valid_batches)\n",
    "    print(batch[\"src\"].shape)\n",
    "    print(\"Target sequences:\")\n",
    "    print(batch[\"trg\"].shape)\n",
    "    print(batch[\"trg\"][i])\n",
    "\n",
    "\n"
   ]
  },
  {
   "cell_type": "code",
   "execution_count": 34,
   "metadata": {},
   "outputs": [
    {
     "name": "stdout",
     "output_type": "stream",
     "text": [
      "torch.Size([4, 128, 1024]) torch.Size([128, 512])\n"
     ]
    },
    {
     "name": "stderr",
     "output_type": "stream",
     "text": [
      "C:\\Users\\16262\\AppData\\Roaming\\Python\\Python311\\site-packages\\torch\\nn\\modules\\rnn.py:71: UserWarning: dropout option adds dropout after all but last recurrent layer, so non-zero dropout expects num_layers greater than 1, but got dropout=0.5 and num_layers=1\n",
      "  warnings.warn(\"dropout option adds dropout after all but last \"\n"
     ]
    }
   ],
   "source": [
    "import torch\n",
    "from torch import nn, optim\n",
    "\n",
    "# adjustable parameters\n",
    "INPUT_DIM = len(source_vocab)\n",
    "OUTPUT_DIM = len(target_vocab)\n",
    "ENC_EMB_DIM = 256\n",
    "DEC_EMB_DIM = 256\n",
    "ENC_HID_DIM = 512\n",
    "DEC_HID_DIM = 512\n",
    "N_LAYERS = 1\n",
    "ENC_DROPOUT = 0.5\n",
    "DEC_DROPOUT = 0.5\n",
    "\n",
    "class Encoder(nn.Module):\n",
    "    def __init__(self, input_dim, emb_dim, enc_hid_dim, dec_hid_dim, n_layers, dropout):\n",
    "        super().__init__()\n",
    "        self.emb_dim = emb_dim\n",
    "        self.enc_hid_dim = enc_hid_dim\n",
    "        self.dec_hid_dim = dec_hid_dim\n",
    "        self.input_dim = input_dim\n",
    "        self.n_layers = n_layers\n",
    "        self.dropout = dropout\n",
    "\n",
    "        self.embedding = nn.Embedding(input_dim, emb_dim)\n",
    "        self.rnn = nn.GRU(emb_dim, enc_hid_dim, n_layers, dropout=dropout,\n",
    "                          bidirectional=True)\n",
    "        self.fc = nn.Linear(enc_hid_dim * 2, dec_hid_dim)\n",
    "\n",
    "    def forward(self, src_batch):\n",
    "        # src [sent len, batch size]\n",
    "\n",
    "        # [sent len, batch size, emb dim]\n",
    "        embedded = self.embedding(src_batch)\n",
    "        outputs, hidden = self.rnn(embedded)\n",
    "        # outputs -> [sent len, batch size, hidden dim * n directions]\n",
    "        # hidden -> [n layers * n directions, batch size, hidden dim]\n",
    "\n",
    "        # initial decoder hidden is final hidden state of the forwards and\n",
    "        # backwards encoder RNNs fed through a linear layer\n",
    "        concated = torch.cat((hidden[-2, :, :], hidden[-1, :, :]), dim=1)\n",
    "        hidden = torch.tanh(self.fc(concated))\n",
    "        return outputs, hidden\n",
    "\n",
    "encoder = Encoder(INPUT_DIM, ENC_EMB_DIM, ENC_HID_DIM, DEC_HID_DIM, N_LAYERS, ENC_DROPOUT).to(device)\n",
    "outputs, hidden = encoder(batch[\"src\"])\n",
    "# transpose the outputs tensor to have batch size as the first dimension\n",
    "print(outputs.shape, hidden.shape)\n",
    "\n"
   ]
  },
  {
   "cell_type": "code",
   "execution_count": 35,
   "metadata": {},
   "outputs": [
    {
     "data": {
      "text/plain": [
       "torch.Size([128, 4])"
      ]
     },
     "execution_count": 35,
     "metadata": {},
     "output_type": "execute_result"
    }
   ],
   "source": [
    "class Attention(nn.Module):\n",
    "\n",
    "    def __init__(self, enc_hid_dim, dec_hid_dim):\n",
    "        super().__init__()\n",
    "        self.enc_hid_dim = enc_hid_dim\n",
    "        self.dec_hid_dim = dec_hid_dim\n",
    "\n",
    "        # enc_hid_dim multiply by 2 due to bidirectional\n",
    "        self.fc1 = nn.Linear(enc_hid_dim * 2 + dec_hid_dim, dec_hid_dim)\n",
    "        self.fc2 = nn.Linear(dec_hid_dim, 1, bias=False)\n",
    "\n",
    "    def forward(self, encoder_outputs, hidden):\n",
    "        src_len = encoder_outputs.shape[0]\n",
    "        batch_size = encoder_outputs.shape[1]\n",
    "        \n",
    "        # repeat encoder hidden state src_len times [batch size, sent len, dec hid dim]\n",
    "        hidden = hidden.unsqueeze(1).repeat(1, src_len, 1)\n",
    "        # reshape/permute the encoder output, so that the batch size comes first\n",
    "        # [batch size, sent len, enc hid dim * 2], times 2 because of bidirectional\n",
    "        outputs = encoder_outputs.permute(1, 0, 2)\n",
    "\n",
    "        # the attention mechanism receives a concatenation of the hidden state\n",
    "        # and the encoder output\n",
    "        concat = torch.cat((hidden, outputs), dim=2)\n",
    "        \n",
    "        # fully connected layer and softmax layer to compute the attention weight\n",
    "        # [batch size, sent len, dec hid dim]\n",
    "        energy = torch.tanh(self.fc1(concat))\n",
    "        # attention weight should be of [batch size, sent len]\n",
    "        attention = self.fc2(energy).squeeze(dim=2)  \n",
    "        attention_weight = torch.softmax(attention, dim=1)\n",
    "        return attention_weight\n",
    "\n",
    "    \n",
    "attention = Attention(ENC_HID_DIM, DEC_HID_DIM).to(device)\n",
    "attention_weight = attention(outputs, hidden)\n",
    "attention_weight.shape"
   ]
  },
  {
   "cell_type": "code",
   "execution_count": 36,
   "metadata": {},
   "outputs": [
    {
     "data": {
      "text/plain": [
       "(torch.Size([128, 1356]), torch.Size([128, 512]))"
      ]
     },
     "execution_count": 36,
     "metadata": {},
     "output_type": "execute_result"
    }
   ],
   "source": [
    "class Decoder(nn.Module):\n",
    "\n",
    "    def __init__(self, output_dim, emb_dim, enc_hid_dim, dec_hid_dim, n_layers,\n",
    "                 dropout, attention):\n",
    "        super().__init__()\n",
    "        self.emb_dim = emb_dim\n",
    "        self.enc_hid_dim = enc_hid_dim\n",
    "        self.dec_hid_dim = dec_hid_dim\n",
    "        self.output_dim = output_dim\n",
    "        self.n_layers = n_layers\n",
    "        self.dropout = dropout\n",
    "        self.attention = attention\n",
    "\n",
    "        self.embedding = nn.Embedding(output_dim, emb_dim)\n",
    "        self.rnn = nn.GRU(enc_hid_dim * 2 + emb_dim, dec_hid_dim, n_layers, dropout=dropout)\n",
    "        self.linear = nn.Linear(dec_hid_dim, output_dim)\n",
    "\n",
    "    def forward(self, trg, encoder_outputs, hidden):\n",
    "        # trg [batch size]\n",
    "        # outputs [src sen len, batch size, enc hid dim * 2], times 2 due to bidirectional\n",
    "        # hidden [batch size, dec hid dim]\n",
    "\n",
    "        # [batch size, 1, sent len] \n",
    "        attention = self.attention(encoder_outputs, hidden).unsqueeze(1)\n",
    "\n",
    "        # [batch size, sent len, enc hid dim * 2]\n",
    "        outputs = encoder_outputs.permute(1, 0, 2)\n",
    "\n",
    "        # [1, batch size, enc hid dim * 2]\n",
    "        context = torch.bmm(attention, outputs).permute(1, 0, 2)\n",
    "\n",
    "        # input sentence -> embedding\n",
    "        # [1, batch size, emb dim]\n",
    "        embedded = self.embedding(trg.unsqueeze(0))\n",
    "        rnn_input = torch.cat((embedded, context), dim=2)\n",
    "\n",
    "        outputs, hidden = self.rnn(rnn_input, hidden.unsqueeze(0))\n",
    "        prediction = self.linear(outputs.squeeze(0))\n",
    "        return prediction, hidden.squeeze(0)\n",
    "\n",
    "decoder = Decoder(OUTPUT_DIM, DEC_EMB_DIM, ENC_HID_DIM, DEC_HID_DIM, N_LAYERS, DEC_DROPOUT, attention).to(device)\n",
    "prediction, decoder_hidden = decoder(batch[\"trg\"][0], outputs, hidden)\n",
    "\n",
    "# notice the decoder_hidden's shape should match the shape that's generated by\n",
    "# the encoder\n",
    "prediction.shape, decoder_hidden.shape"
   ]
  },
  {
   "cell_type": "code",
   "execution_count": 37,
   "metadata": {},
   "outputs": [
    {
     "data": {
      "text/plain": [
       "Seq2Seq(\n",
       "  (encoder): Encoder(\n",
       "    (embedding): Embedding(1511, 256)\n",
       "    (rnn): GRU(256, 512, dropout=0.5, bidirectional=True)\n",
       "    (fc): Linear(in_features=1024, out_features=512, bias=True)\n",
       "  )\n",
       "  (decoder): Decoder(\n",
       "    (attention): Attention(\n",
       "      (fc1): Linear(in_features=1536, out_features=512, bias=True)\n",
       "      (fc2): Linear(in_features=512, out_features=1, bias=False)\n",
       "    )\n",
       "    (embedding): Embedding(1356, 256)\n",
       "    (rnn): GRU(1280, 512, dropout=0.5)\n",
       "    (linear): Linear(in_features=512, out_features=1356, bias=True)\n",
       "  )\n",
       ")"
      ]
     },
     "execution_count": 37,
     "metadata": {},
     "output_type": "execute_result"
    }
   ],
   "source": [
    "class Seq2Seq(nn.Module):\n",
    "    def __init__(self, encoder, decoder, device):\n",
    "        super().__init__()\n",
    "        self.encoder = encoder\n",
    "        self.decoder = decoder\n",
    "        self.device = device\n",
    "\n",
    "    def forward(self, src_batch, trg_batch, teacher_forcing_ratio=0.5):\n",
    "        max_len, batch_size = trg_batch.shape\n",
    "        trg_vocab_size = self.decoder.output_dim\n",
    "\n",
    "        # tensor to store decoder's output\n",
    "        outputs = torch.zeros(max_len, batch_size, trg_vocab_size).to(self.device)\n",
    "\n",
    "        # encoder_outputs : all hidden states of the input sequence (forward and backward)\n",
    "        # hidden : final forward and backward hidden states, passed through a linear layer\n",
    "        encoder_outputs, hidden = self.encoder(src_batch)\n",
    "\n",
    "        trg = trg_batch[0]\n",
    "        for i in range(1, max_len):\n",
    "            prediction, hidden = self.decoder(trg, encoder_outputs, hidden)\n",
    "            outputs[i] = prediction\n",
    "\n",
    "            if random.random() < teacher_forcing_ratio:\n",
    "                trg = trg_batch[i]\n",
    "            else:\n",
    "                trg = prediction.argmax(1)\n",
    "\n",
    "        return outputs\n",
    "\n",
    "attention = Attention(ENC_HID_DIM, DEC_HID_DIM)\n",
    "encoder = Encoder(INPUT_DIM, ENC_EMB_DIM, ENC_HID_DIM, DEC_HID_DIM, N_LAYERS, ENC_DROPOUT)\n",
    "decoder = Decoder(OUTPUT_DIM, DEC_EMB_DIM, ENC_HID_DIM, DEC_HID_DIM, N_LAYERS, DEC_DROPOUT, attention)\n",
    "seq2seq = Seq2Seq(encoder, decoder, device).to(device)\n",
    "seq2seq"
   ]
  },
  {
   "cell_type": "code",
   "execution_count": 38,
   "metadata": {},
   "outputs": [
    {
     "data": {
      "text/plain": [
       "torch.Size([16, 128, 1356])"
      ]
     },
     "execution_count": 38,
     "metadata": {},
     "output_type": "execute_result"
    }
   ],
   "source": [
    "outputs = seq2seq(batch[\"src\"], batch[\"trg\"])\n",
    "outputs.shape"
   ]
  },
  {
   "cell_type": "code",
   "execution_count": 39,
   "metadata": {},
   "outputs": [
    {
     "name": "stdout",
     "output_type": "stream",
     "text": [
      "The model has 7,862,860 trainable parameters\n"
     ]
    }
   ],
   "source": [
    "def count_parameters(model):\n",
    "    return sum(p.numel() for p in model.parameters() if p.requires_grad)\n",
    "\n",
    "print(f'The model has {count_parameters(seq2seq):,} trainable parameters')"
   ]
  },
  {
   "cell_type": "code",
   "execution_count": 40,
   "metadata": {},
   "outputs": [],
   "source": [
    "optimizer = optim.Adam(seq2seq.parameters())\n",
    "\n",
    "# ignore the padding index when calculating the loss\n",
    "PAD_IDX = target_vocab['<pad>']\n",
    "criterion = nn.CrossEntropyLoss(ignore_index=PAD_IDX)"
   ]
  },
  {
   "cell_type": "code",
   "execution_count": 41,
   "metadata": {},
   "outputs": [
    {
     "name": "stderr",
     "output_type": "stream",
     "text": [
      "100%|██████████| 28/28 [00:21<00:00,  1.29it/s]\n",
      "100%|██████████| 4/4 [00:01<00:00,  3.08it/s]\n"
     ]
    },
    {
     "name": "stdout",
     "output_type": "stream",
     "text": [
      "Epoch: 1 | Time: 0m 23s\n",
      "\tTrain Loss: 5.734 | Train PPL: 309.162\n",
      "\t Val. Loss: 5.181 |  Val. PPL: 177.928\n"
     ]
    },
    {
     "name": "stderr",
     "output_type": "stream",
     "text": [
      "100%|██████████| 28/28 [00:21<00:00,  1.31it/s]\n",
      "100%|██████████| 4/4 [00:01<00:00,  3.22it/s]\n"
     ]
    },
    {
     "name": "stdout",
     "output_type": "stream",
     "text": [
      "Epoch: 2 | Time: 0m 22s\n",
      "\tTrain Loss: 4.988 | Train PPL: 146.659\n",
      "\t Val. Loss: 4.897 |  Val. PPL: 133.868\n"
     ]
    },
    {
     "name": "stderr",
     "output_type": "stream",
     "text": [
      "100%|██████████| 28/28 [00:27<00:00,  1.01it/s]\n",
      "100%|██████████| 4/4 [00:01<00:00,  3.00it/s]\n"
     ]
    },
    {
     "name": "stdout",
     "output_type": "stream",
     "text": [
      "Epoch: 3 | Time: 0m 28s\n",
      "\tTrain Loss: 4.438 | Train PPL:  84.602\n",
      "\t Val. Loss: 4.463 |  Val. PPL:  86.784\n"
     ]
    },
    {
     "name": "stderr",
     "output_type": "stream",
     "text": [
      "100%|██████████| 28/28 [00:22<00:00,  1.23it/s]\n",
      "100%|██████████| 4/4 [00:01<00:00,  2.93it/s]\n"
     ]
    },
    {
     "name": "stdout",
     "output_type": "stream",
     "text": [
      "Epoch: 4 | Time: 0m 24s\n",
      "\tTrain Loss: 3.877 | Train PPL:  48.298\n",
      "\t Val. Loss: 4.259 |  Val. PPL:  70.755\n"
     ]
    },
    {
     "name": "stderr",
     "output_type": "stream",
     "text": [
      "100%|██████████| 28/28 [00:23<00:00,  1.21it/s]\n",
      "100%|██████████| 4/4 [00:01<00:00,  3.08it/s]\n"
     ]
    },
    {
     "name": "stdout",
     "output_type": "stream",
     "text": [
      "Epoch: 5 | Time: 0m 24s\n",
      "\tTrain Loss: 3.332 | Train PPL:  28.000\n",
      "\t Val. Loss: 4.126 |  Val. PPL:  61.936\n"
     ]
    },
    {
     "name": "stderr",
     "output_type": "stream",
     "text": [
      "100%|██████████| 28/28 [00:22<00:00,  1.24it/s]\n",
      "100%|██████████| 4/4 [00:01<00:00,  2.91it/s]\n"
     ]
    },
    {
     "name": "stdout",
     "output_type": "stream",
     "text": [
      "Epoch: 6 | Time: 0m 23s\n",
      "\tTrain Loss: 2.962 | Train PPL:  19.331\n",
      "\t Val. Loss: 3.982 |  Val. PPL:  53.623\n"
     ]
    },
    {
     "name": "stderr",
     "output_type": "stream",
     "text": [
      "100%|██████████| 28/28 [00:23<00:00,  1.21it/s]\n",
      "100%|██████████| 4/4 [00:01<00:00,  3.09it/s]\n"
     ]
    },
    {
     "name": "stdout",
     "output_type": "stream",
     "text": [
      "Epoch: 7 | Time: 0m 24s\n",
      "\tTrain Loss: 2.484 | Train PPL:  11.994\n",
      "\t Val. Loss: 3.956 |  Val. PPL:  52.230\n"
     ]
    },
    {
     "name": "stderr",
     "output_type": "stream",
     "text": [
      "100%|██████████| 28/28 [00:21<00:00,  1.30it/s]\n",
      "100%|██████████| 4/4 [00:01<00:00,  3.08it/s]\n"
     ]
    },
    {
     "name": "stdout",
     "output_type": "stream",
     "text": [
      "Epoch: 8 | Time: 0m 22s\n",
      "\tTrain Loss: 2.033 | Train PPL:   7.636\n",
      "\t Val. Loss: 3.830 |  Val. PPL:  46.040\n"
     ]
    },
    {
     "name": "stderr",
     "output_type": "stream",
     "text": [
      "100%|██████████| 28/28 [00:21<00:00,  1.33it/s]\n",
      "100%|██████████| 4/4 [00:01<00:00,  2.99it/s]\n"
     ]
    },
    {
     "name": "stdout",
     "output_type": "stream",
     "text": [
      "Epoch: 9 | Time: 0m 22s\n",
      "\tTrain Loss: 1.697 | Train PPL:   5.458\n",
      "\t Val. Loss: 3.757 |  Val. PPL:  42.833\n"
     ]
    },
    {
     "name": "stderr",
     "output_type": "stream",
     "text": [
      "100%|██████████| 28/28 [00:21<00:00,  1.32it/s]\n",
      "100%|██████████| 4/4 [00:01<00:00,  3.14it/s]\n"
     ]
    },
    {
     "name": "stdout",
     "output_type": "stream",
     "text": [
      "Epoch: 10 | Time: 0m 22s\n",
      "\tTrain Loss: 1.384 | Train PPL:   3.992\n",
      "\t Val. Loss: 3.952 |  Val. PPL:  52.019\n"
     ]
    },
    {
     "name": "stderr",
     "output_type": "stream",
     "text": [
      "100%|██████████| 28/28 [00:21<00:00,  1.33it/s]\n",
      "100%|██████████| 4/4 [00:01<00:00,  2.72it/s]\n"
     ]
    },
    {
     "name": "stdout",
     "output_type": "stream",
     "text": [
      "Epoch: 11 | Time: 0m 22s\n",
      "\tTrain Loss: 1.144 | Train PPL:   3.140\n",
      "\t Val. Loss: 3.796 |  Val. PPL:  44.514\n"
     ]
    },
    {
     "name": "stderr",
     "output_type": "stream",
     "text": [
      "100%|██████████| 28/28 [00:21<00:00,  1.28it/s]\n",
      "100%|██████████| 4/4 [00:01<00:00,  3.14it/s]\n"
     ]
    },
    {
     "name": "stdout",
     "output_type": "stream",
     "text": [
      "Epoch: 12 | Time: 0m 23s\n",
      "\tTrain Loss: 1.045 | Train PPL:   2.843\n",
      "\t Val. Loss: 4.108 |  Val. PPL:  60.821\n"
     ]
    },
    {
     "name": "stderr",
     "output_type": "stream",
     "text": [
      "100%|██████████| 28/28 [00:22<00:00,  1.26it/s]\n",
      "100%|██████████| 4/4 [00:01<00:00,  3.18it/s]\n"
     ]
    },
    {
     "name": "stdout",
     "output_type": "stream",
     "text": [
      "Epoch: 13 | Time: 0m 23s\n",
      "\tTrain Loss: 0.895 | Train PPL:   2.447\n",
      "\t Val. Loss: 3.889 |  Val. PPL:  48.883\n"
     ]
    },
    {
     "name": "stderr",
     "output_type": "stream",
     "text": [
      "100%|██████████| 28/28 [00:20<00:00,  1.34it/s]\n",
      "100%|██████████| 4/4 [00:01<00:00,  2.89it/s]\n"
     ]
    },
    {
     "name": "stdout",
     "output_type": "stream",
     "text": [
      "Epoch: 14 | Time: 0m 22s\n",
      "\tTrain Loss: 0.627 | Train PPL:   1.873\n",
      "\t Val. Loss: 3.870 |  Val. PPL:  47.954\n"
     ]
    },
    {
     "name": "stderr",
     "output_type": "stream",
     "text": [
      "100%|██████████| 28/28 [00:21<00:00,  1.33it/s]\n",
      "100%|██████████| 4/4 [00:01<00:00,  3.17it/s]\n"
     ]
    },
    {
     "name": "stdout",
     "output_type": "stream",
     "text": [
      "Epoch: 15 | Time: 0m 22s\n",
      "\tTrain Loss: 0.432 | Train PPL:   1.540\n",
      "\t Val. Loss: 3.869 |  Val. PPL:  47.879\n"
     ]
    },
    {
     "name": "stderr",
     "output_type": "stream",
     "text": [
      "100%|██████████| 28/28 [00:21<00:00,  1.31it/s]\n",
      "100%|██████████| 4/4 [00:01<00:00,  3.01it/s]\n"
     ]
    },
    {
     "name": "stdout",
     "output_type": "stream",
     "text": [
      "Epoch: 16 | Time: 0m 22s\n",
      "\tTrain Loss: 0.320 | Train PPL:   1.378\n",
      "\t Val. Loss: 3.968 |  Val. PPL:  52.871\n"
     ]
    },
    {
     "name": "stderr",
     "output_type": "stream",
     "text": [
      "100%|██████████| 28/28 [00:22<00:00,  1.23it/s]\n",
      "100%|██████████| 4/4 [00:01<00:00,  3.11it/s]\n"
     ]
    },
    {
     "name": "stdout",
     "output_type": "stream",
     "text": [
      "Epoch: 17 | Time: 0m 24s\n",
      "\tTrain Loss: 0.260 | Train PPL:   1.297\n",
      "\t Val. Loss: 3.993 |  Val. PPL:  54.224\n"
     ]
    },
    {
     "name": "stderr",
     "output_type": "stream",
     "text": [
      "100%|██████████| 28/28 [00:20<00:00,  1.35it/s]\n",
      "100%|██████████| 4/4 [00:01<00:00,  2.82it/s]\n"
     ]
    },
    {
     "name": "stdout",
     "output_type": "stream",
     "text": [
      "Epoch: 18 | Time: 0m 22s\n",
      "\tTrain Loss: 0.243 | Train PPL:   1.275\n",
      "\t Val. Loss: 4.062 |  Val. PPL:  58.063\n"
     ]
    },
    {
     "name": "stderr",
     "output_type": "stream",
     "text": [
      "100%|██████████| 28/28 [00:20<00:00,  1.37it/s]\n",
      "100%|██████████| 4/4 [00:01<00:00,  3.28it/s]\n"
     ]
    },
    {
     "name": "stdout",
     "output_type": "stream",
     "text": [
      "Epoch: 19 | Time: 0m 21s\n",
      "\tTrain Loss: 0.232 | Train PPL:   1.261\n",
      "\t Val. Loss: 4.144 |  Val. PPL:  63.077\n"
     ]
    },
    {
     "name": "stderr",
     "output_type": "stream",
     "text": [
      "100%|██████████| 28/28 [00:20<00:00,  1.35it/s]\n",
      "100%|██████████| 4/4 [00:01<00:00,  3.24it/s]\n"
     ]
    },
    {
     "name": "stdout",
     "output_type": "stream",
     "text": [
      "Epoch: 20 | Time: 0m 22s\n",
      "\tTrain Loss: 0.186 | Train PPL:   1.204\n",
      "\t Val. Loss: 4.131 |  Val. PPL:  62.256\n"
     ]
    },
    {
     "name": "stderr",
     "output_type": "stream",
     "text": [
      "100%|██████████| 28/28 [00:20<00:00,  1.34it/s]\n",
      "100%|██████████| 4/4 [00:01<00:00,  3.09it/s]\n"
     ]
    },
    {
     "name": "stdout",
     "output_type": "stream",
     "text": [
      "Epoch: 21 | Time: 0m 22s\n",
      "\tTrain Loss: 0.132 | Train PPL:   1.141\n",
      "\t Val. Loss: 4.147 |  Val. PPL:  63.231\n"
     ]
    },
    {
     "name": "stderr",
     "output_type": "stream",
     "text": [
      "100%|██████████| 28/28 [00:21<00:00,  1.31it/s]\n",
      "100%|██████████| 4/4 [00:01<00:00,  3.01it/s]\n"
     ]
    },
    {
     "name": "stdout",
     "output_type": "stream",
     "text": [
      "Epoch: 22 | Time: 0m 22s\n",
      "\tTrain Loss: 0.105 | Train PPL:   1.111\n",
      "\t Val. Loss: 4.258 |  Val. PPL:  70.671\n"
     ]
    },
    {
     "name": "stderr",
     "output_type": "stream",
     "text": [
      "100%|██████████| 28/28 [00:20<00:00,  1.38it/s]\n",
      "100%|██████████| 4/4 [00:01<00:00,  3.26it/s]\n"
     ]
    },
    {
     "name": "stdout",
     "output_type": "stream",
     "text": [
      "Epoch: 23 | Time: 0m 21s\n",
      "\tTrain Loss: 0.083 | Train PPL:   1.087\n",
      "\t Val. Loss: 4.333 |  Val. PPL:  76.146\n"
     ]
    },
    {
     "name": "stderr",
     "output_type": "stream",
     "text": [
      "100%|██████████| 28/28 [00:20<00:00,  1.34it/s]\n",
      "100%|██████████| 4/4 [00:01<00:00,  3.24it/s]\n"
     ]
    },
    {
     "name": "stdout",
     "output_type": "stream",
     "text": [
      "Epoch: 24 | Time: 0m 22s\n",
      "\tTrain Loss: 0.078 | Train PPL:   1.081\n",
      "\t Val. Loss: 4.298 |  Val. PPL:  73.555\n"
     ]
    },
    {
     "name": "stderr",
     "output_type": "stream",
     "text": [
      "100%|██████████| 28/28 [00:20<00:00,  1.36it/s]\n",
      "100%|██████████| 4/4 [00:01<00:00,  3.29it/s]\n"
     ]
    },
    {
     "name": "stdout",
     "output_type": "stream",
     "text": [
      "Epoch: 25 | Time: 0m 21s\n",
      "\tTrain Loss: 0.066 | Train PPL:   1.068\n",
      "\t Val. Loss: 4.260 |  Val. PPL:  70.832\n"
     ]
    },
    {
     "name": "stderr",
     "output_type": "stream",
     "text": [
      "100%|██████████| 28/28 [00:20<00:00,  1.38it/s]\n",
      "100%|██████████| 4/4 [00:01<00:00,  3.24it/s]\n"
     ]
    },
    {
     "name": "stdout",
     "output_type": "stream",
     "text": [
      "Epoch: 26 | Time: 0m 21s\n",
      "\tTrain Loss: 0.060 | Train PPL:   1.062\n",
      "\t Val. Loss: 4.298 |  Val. PPL:  73.517\n"
     ]
    },
    {
     "name": "stderr",
     "output_type": "stream",
     "text": [
      "100%|██████████| 28/28 [00:20<00:00,  1.35it/s]\n",
      "100%|██████████| 4/4 [00:01<00:00,  2.79it/s]\n"
     ]
    },
    {
     "name": "stdout",
     "output_type": "stream",
     "text": [
      "Epoch: 27 | Time: 0m 22s\n",
      "\tTrain Loss: 0.051 | Train PPL:   1.053\n",
      "\t Val. Loss: 4.416 |  Val. PPL:  82.742\n"
     ]
    },
    {
     "name": "stderr",
     "output_type": "stream",
     "text": [
      "100%|██████████| 28/28 [00:20<00:00,  1.34it/s]\n",
      "100%|██████████| 4/4 [00:01<00:00,  3.22it/s]\n"
     ]
    },
    {
     "name": "stdout",
     "output_type": "stream",
     "text": [
      "Epoch: 28 | Time: 0m 22s\n",
      "\tTrain Loss: 0.037 | Train PPL:   1.038\n",
      "\t Val. Loss: 4.373 |  Val. PPL:  79.254\n"
     ]
    },
    {
     "name": "stderr",
     "output_type": "stream",
     "text": [
      "100%|██████████| 28/28 [00:20<00:00,  1.36it/s]\n",
      "100%|██████████| 4/4 [00:01<00:00,  3.19it/s]\n"
     ]
    },
    {
     "name": "stdout",
     "output_type": "stream",
     "text": [
      "Epoch: 29 | Time: 0m 21s\n",
      "\tTrain Loss: 0.029 | Train PPL:   1.030\n",
      "\t Val. Loss: 4.365 |  Val. PPL:  78.645\n"
     ]
    },
    {
     "name": "stderr",
     "output_type": "stream",
     "text": [
      "100%|██████████| 28/28 [00:20<00:00,  1.36it/s]\n",
      "100%|██████████| 4/4 [00:01<00:00,  3.28it/s]"
     ]
    },
    {
     "name": "stdout",
     "output_type": "stream",
     "text": [
      "Epoch: 30 | Time: 0m 21s\n",
      "\tTrain Loss: 0.024 | Train PPL:   1.024\n",
      "\t Val. Loss: 4.397 |  Val. PPL:  81.176\n"
     ]
    },
    {
     "name": "stderr",
     "output_type": "stream",
     "text": [
      "\n"
     ]
    }
   ],
   "source": [
    "from tqdm import tqdm\n",
    "import math\n",
    "import time\n",
    "\n",
    "def train(seq2seq, iterator, optimizer, criterion):\n",
    "    seq2seq.train()\n",
    "    \n",
    "    epoch_loss = 0\n",
    "    \n",
    "    for batch in tqdm(iterator):\n",
    "        optimizer.zero_grad()\n",
    "        outputs = seq2seq(batch[\"src\"], batch[\"trg\"])\n",
    "\n",
    "        # the loss function only works on 2d inputs\n",
    "        # and 1d targets we need to flatten each of them\n",
    "        outputs_flatten = outputs[1:].view(-1, outputs.shape[-1])\n",
    "        trg_flatten = batch[\"trg\"][1:].reshape(-1)\n",
    "        loss = criterion(outputs_flatten, trg_flatten)\n",
    "        \n",
    "        loss.backward()\n",
    "        optimizer.step()\n",
    "        \n",
    "        epoch_loss += loss.item()\n",
    "\n",
    "    return epoch_loss / len(list(iterator))\n",
    "\n",
    "\n",
    "def evaluate(seq2seq, iterator, criterion):\n",
    "    seq2seq.eval()\n",
    "\n",
    "    epoch_loss = 0\n",
    "    num_batches = len(iterator)\n",
    "\n",
    "    with torch.no_grad():\n",
    "        for batch in tqdm(iterator):\n",
    "            # turn off teacher forcing\n",
    "            outputs = seq2seq(batch[\"src\"], batch[\"trg\"], teacher_forcing_ratio=0) \n",
    "\n",
    "            # trg = [trg sent len, batch size]\n",
    "            # output = [trg sent len, batch size, output dim]\n",
    "            outputs_flatten = outputs[1:].view(-1, outputs.shape[-1])\n",
    "            trg_flatten = batch[\"trg\"][1:].reshape(-1)\n",
    "            loss = criterion(outputs_flatten, trg_flatten)\n",
    "            epoch_loss += loss.item()\n",
    "        \n",
    "    return epoch_loss / len(iterator)\n",
    "  \n",
    "\n",
    "def epoch_time(start_time, end_time):\n",
    "    elapsed_time = end_time - start_time\n",
    "    elapsed_mins = int(elapsed_time / 60)\n",
    "    elapsed_secs = int(elapsed_time - (elapsed_mins * 60))\n",
    "    return elapsed_mins, elapsed_secs\n",
    "\n",
    "N_EPOCHS = 30\n",
    "best_valid_loss = float('inf')\n",
    "\n",
    "for epoch in range(N_EPOCHS):\n",
    "    start_time = time.time()\n",
    "    train_loss = train(seq2seq, train_batches, optimizer, criterion)\n",
    "    valid_loss = evaluate(seq2seq, list(valid_batches), criterion)\n",
    "    end_time = time.time()\n",
    "\n",
    "    epoch_mins, epoch_secs = epoch_time(start_time, end_time)\n",
    "\n",
    "    if valid_loss < best_valid_loss:\n",
    "        best_valid_loss = valid_loss\n",
    "        torch.save(seq2seq.state_dict(), 'tut2-model.pt')\n",
    "\n",
    "    print(f'Epoch: {epoch+1} | Time: {epoch_mins}m {epoch_secs}s')\n",
    "    print(f'\\tTrain Loss: {train_loss:.3f} | Train PPL: {math.exp(train_loss):7.3f}')\n",
    "    print(f'\\t Val. Loss: {valid_loss:.3f} |  Val. PPL: {math.exp(valid_loss):7.3f}')"
   ]
  },
  {
   "cell_type": "code",
   "execution_count": 45,
   "metadata": {},
   "outputs": [
    {
     "name": "stderr",
     "output_type": "stream",
     "text": [
      "100%|██████████| 8/8 [00:01<00:00,  4.48it/s]"
     ]
    },
    {
     "name": "stdout",
     "output_type": "stream",
     "text": [
      "| Test Loss: 3.715 | Test PPL:  41.061 |\n"
     ]
    },
    {
     "name": "stderr",
     "output_type": "stream",
     "text": [
      "\n"
     ]
    }
   ],
   "source": [
    "seq2seq.load_state_dict(torch.load('tut2-model.pt'))\n",
    "\n",
    "test_loss = evaluate(seq2seq, test_batches, criterion)\n",
    "print(f'| Test Loss: {test_loss:.3f} | Test PPL: {math.exp(test_loss):7.3f} |')"
   ]
  },
  {
   "cell_type": "code",
   "execution_count": 110,
   "metadata": {},
   "outputs": [
    {
     "name": "stdout",
     "output_type": "stream",
     "text": [
      "source sentence:  I paid nothing\n",
      "target sentence:  tôi không trả gì cả\n"
     ]
    }
   ],
   "source": [
    "example_idx = 10\n",
    "example = train_examples[example_idx]\n",
    "print('source sentence: ', ' '.join(example[\"src\"]))\n",
    "print('target sentence: ', ' '.join(example[\"trg\"]))"
   ]
  },
  {
   "cell_type": "code",
   "execution_count": 113,
   "metadata": {},
   "outputs": [
    {
     "name": "stdout",
     "output_type": "stream",
     "text": [
      "torch.Size([9, 1])\n"
     ]
    },
    {
     "data": {
      "text/plain": [
       "torch.Size([9, 1, 1356])"
      ]
     },
     "execution_count": 113,
     "metadata": {},
     "output_type": "execute_result"
    }
   ],
   "source": [
    "src_sentence = source_sentences_train[0]\n",
    "trg_sentence = target_sentences_train[0]\n",
    "\n",
    "src_tensor = torch.tensor([source_vocab[word] for word in src_sentence], dtype=torch.long).unsqueeze(1).to(device)\n",
    "trg_tensor = torch.tensor([target_vocab[word] for word in trg_sentence], dtype=torch.long).unsqueeze(1).to(device)\n",
    "\n",
    "print(trg_tensor.shape)\n",
    "\n",
    "seq2seq.eval()\n",
    "with torch.no_grad():\n",
    "    outputs = seq2seq(src_tensor, trg_tensor, teacher_forcing_ratio=0)\n",
    "\n",
    "outputs.shape"
   ]
  },
  {
   "cell_type": "code",
   "execution_count": 116,
   "metadata": {},
   "outputs": [],
   "source": [
    "output_idx = outputs[1:].argmax(2)\n",
    "predicted_sentence = ' '.join([list(target_vocab.keys())[idx.item()] for idx in output_idx])"
   ]
  },
  {
   "cell_type": "code",
   "execution_count": 122,
   "metadata": {},
   "outputs": [],
   "source": [
    "import nltk.translate.bleu_score as bleu\n",
    "import sacrebleu\n",
    "\n",
    "def compute_bleu(reference_corpus, translation_corpus):\n",
    "    \"\"\"\n",
    "    Computes BLEU score using the NLTK library.\n",
    "\n",
    "    :param reference_corpus: list of reference sentences\n",
    "    :param translation_corpus: list of translated sentences\n",
    "    :return: BLEU score\n",
    "    \"\"\"\n",
    "    references = [[ref.split()] for ref in reference_corpus]\n",
    "    translations = [trans.split() for trans in translation_corpus]\n",
    "    return bleu.corpus_bleu(references, translations)\n",
    "\n",
    "def compute_meteor(reference_corpus, translation_corpus):\n",
    "    \"\"\"\n",
    "    Computes METEOR score using the NLTK library.\n",
    "\n",
    "    :param reference_corpus: list of reference sentences\n",
    "    :param translation_corpus: list of translated sentences\n",
    "    :return: METEOR score\n",
    "    \"\"\"\n",
    "    meteor = nltk.translate.meteor_score.meteor_score(reference_corpus, translation_corpus)\n",
    "    return meteor\n",
    "\n",
    "def compute_rouge(reference_corpus, translation_corpus):\n",
    "    \"\"\"\n",
    "    Computes ROUGE score using the sacrebleu library.\n",
    "\n",
    "    :param reference_corpus: list of reference sentences\n",
    "    :param translation_corpus: list of translated sentences\n",
    "    :return: ROUGE score\n",
    "    \"\"\"\n",
    "    rouge = sacrebleu.corpus_rouge(translation_corpus, [reference_corpus])\n",
    "    return rouge.score\n",
    "\n"
   ]
  },
  {
   "cell_type": "code",
   "execution_count": 125,
   "metadata": {},
   "outputs": [
    {
     "ename": "ImportError",
     "evalue": "cannot import name 'rouge_score' from 'nltk.translate' (C:\\Users\\16262\\AppData\\Roaming\\Python\\Python311\\site-packages\\nltk\\translate\\__init__.py)",
     "output_type": "error",
     "traceback": [
      "\u001b[1;31m---------------------------------------------------------------------------\u001b[0m",
      "\u001b[1;31mImportError\u001b[0m                               Traceback (most recent call last)",
      "Cell \u001b[1;32mIn[125], line 4\u001b[0m\n\u001b[0;32m      2\u001b[0m \u001b[39mfrom\u001b[39;00m \u001b[39mnltk\u001b[39;00m\u001b[39m.\u001b[39;00m\u001b[39mtranslate\u001b[39;00m\u001b[39m.\u001b[39;00m\u001b[39mbleu_score\u001b[39;00m \u001b[39mimport\u001b[39;00m corpus_bleu\n\u001b[0;32m      3\u001b[0m \u001b[39mfrom\u001b[39;00m \u001b[39mnltk\u001b[39;00m\u001b[39m.\u001b[39;00m\u001b[39mtranslate\u001b[39;00m\u001b[39m.\u001b[39;00m\u001b[39mmeteor_score\u001b[39;00m \u001b[39mimport\u001b[39;00m meteor_score\n\u001b[1;32m----> 4\u001b[0m \u001b[39mfrom\u001b[39;00m \u001b[39mnltk\u001b[39;00m\u001b[39m.\u001b[39;00m\u001b[39mtranslate\u001b[39;00m \u001b[39mimport\u001b[39;00m rouge_score\n\u001b[0;32m      6\u001b[0m \u001b[39mimport\u001b[39;00m \u001b[39msacrebleu\u001b[39;00m\n\u001b[0;32m      8\u001b[0m \u001b[39m# Tokenize sentences using NLTK\u001b[39;00m\n",
      "\u001b[1;31mImportError\u001b[0m: cannot import name 'rouge_score' from 'nltk.translate' (C:\\Users\\16262\\AppData\\Roaming\\Python\\Python311\\site-packages\\nltk\\translate\\__init__.py)"
     ]
    }
   ],
   "source": [
    "import nltk\n",
    "from nltk.translate.bleu_score import corpus_bleu\n",
    "from nltk.translate.meteor_score import meteor_score\n",
    "from nltk.translate import rouge_score\n",
    "\n",
    "import sacrebleu\n",
    "\n",
    "# Tokenize sentences using NLTK\n",
    "def tokenize(sentence):\n",
    "    return nltk.word_tokenize(sentence.lower())\n",
    "\n",
    "# Calculate BLEU score using NLTK\n",
    "def calculate_bleu_score(y_true, y_pred):\n",
    "    references = [[tokenize(y)] for y in y_true]\n",
    "    hypotheses = [tokenize(y) for y in y_pred]\n",
    "    return corpus_bleu(references, hypotheses)\n",
    "\n",
    "# Calculate METEOR score using NLTK\n",
    "def calculate_meteor_score(y_true, y_pred):\n",
    "    return sum([meteor_score([y], p) for y, p in zip(y_true, y_pred)]) / len(y_true)\n",
    "\n",
    "# Calculate ROUGE score using NLTK\n",
    "def calculate_rouge_score(y_true, y_pred):\n",
    "    return sum([rouge_n(y, p, 1) for y, p in zip(y_true, y_pred)]) / len(y_true)\n",
    "\n",
    "# Calculate BLEU score using sacrebleu\n",
    "def calculate_bleu_score_sacrebleu(y_true, y_pred):\n",
    "    references = [[y] for y in y_true]\n",
    "    hypothesis = [y for y in y_pred]\n",
    "    bleu = sacrebleu.corpus_bleu(hypothesis, references).score\n",
    "    return bleu\n",
    "\n",
    "# Example usage\n",
    "y_true = [example['trg'] for example in val_examples]\n",
    "y_pred = [' '.join(pred) for pred in y_pred]\n",
    "\n",
    "bleu_score = calculate_bleu_score(y_true, y_pred)\n",
    "meteor_score = calculate_meteor_score(y_true, y_pred)\n",
    "rouge_score = calculate_rouge_score(y_true, y_pred)\n",
    "bleu_score_sacrebleu = calculate_bleu_score_sacrebleu(y_true, y_pred)\n",
    "\n",
    "print(f\"BLEU score: {bleu_score:.4f}\")\n",
    "print(f\"BLEU score (sacrebleu): {bleu_score_sacrebleu:.4f}\")\n",
    "print(f\"METEOR score: {meteor_score:.4f}\")\n",
    "print(f\"ROUGE score: {rouge_score:.4f}\")\n"
   ]
  }
 ],
 "metadata": {
  "kernelspec": {
   "display_name": "Python 3",
   "language": "python",
   "name": "python3"
  },
  "language_info": {
   "codemirror_mode": {
    "name": "ipython",
    "version": 3
   },
   "file_extension": ".py",
   "mimetype": "text/x-python",
   "name": "python",
   "nbconvert_exporter": "python",
   "pygments_lexer": "ipython3",
   "version": "3.11.3"
  },
  "orig_nbformat": 4
 },
 "nbformat": 4,
 "nbformat_minor": 2
}
